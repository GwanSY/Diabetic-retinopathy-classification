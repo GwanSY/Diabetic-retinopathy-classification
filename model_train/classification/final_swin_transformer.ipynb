{
 "cells": [
  {
   "cell_type": "code",
   "execution_count": 1,
   "metadata": {
    "id": "5bYCbRTu24mR"
   },
   "outputs": [],
   "source": [
    "import torchvision\n",
    "import torch\n",
    "from torchvision.datasets import ImageFolder\n",
    "\n",
    "from PIL import Image\n",
    "import os, os.path\n",
    "from skimage import io\n",
    "\n",
    "import torchvision.transforms as transforms\n",
    "\n",
    "import pandas as pd\n",
    "from torch.utils.data import Dataset\n",
    "\n",
    "import numpy as np\n",
    "\n",
    "torch.manual_seed(10)\n",
    "np.random.seed(10)"
   ]
  },
  {
   "cell_type": "code",
   "execution_count": 2,
   "metadata": {
    "collapsed": true,
    "jupyter": {
     "outputs_hidden": true
    },
    "tags": []
   },
   "outputs": [
    {
     "name": "stdout",
     "output_type": "stream",
     "text": [
      "Looking in indexes: https://pypi.tuna.tsinghua.edu.cn/simple\n",
      "Requirement already satisfied: scikit-image in /environment/miniconda3/lib/python3.7/site-packages (0.19.0)\n",
      "Collecting scikit-image\n",
      "  Downloading https://pypi.tuna.tsinghua.edu.cn/packages/2d/ba/63ce953b7d593bd493e80be158f2d9f82936582380aee0998315510633aa/scikit_image-0.19.3-cp37-cp37m-manylinux_2_12_x86_64.manylinux2010_x86_64.whl (13.5 MB)\n",
      "\u001b[K     |████████████████████████████████| 13.5 MB 91.5 MB/s eta 0:00:01\n",
      "\u001b[?25hRequirement already satisfied: packaging>=20.0 in /environment/miniconda3/lib/python3.7/site-packages (from scikit-image) (21.3)\n",
      "Requirement already satisfied: imageio>=2.4.1 in /environment/miniconda3/lib/python3.7/site-packages (from scikit-image) (2.13.3)\n",
      "Requirement already satisfied: numpy>=1.17.0 in /environment/miniconda3/lib/python3.7/site-packages (from scikit-image) (1.21.4)\n",
      "Requirement already satisfied: pillow!=7.1.0,!=7.1.1,!=8.3.0,>=6.1.0 in /environment/miniconda3/lib/python3.7/site-packages (from scikit-image) (8.4.0)\n",
      "Requirement already satisfied: PyWavelets>=1.1.1 in /environment/miniconda3/lib/python3.7/site-packages (from scikit-image) (1.2.0)\n",
      "Requirement already satisfied: tifffile>=2019.7.26 in /environment/miniconda3/lib/python3.7/site-packages (from scikit-image) (2021.11.2)\n",
      "Requirement already satisfied: networkx>=2.2 in /environment/miniconda3/lib/python3.7/site-packages (from scikit-image) (2.6.3)\n",
      "Requirement already satisfied: scipy>=1.4.1 in /environment/miniconda3/lib/python3.7/site-packages (from scikit-image) (1.7.3)\n",
      "Requirement already satisfied: pyparsing!=3.0.5,>=2.0.2 in /environment/miniconda3/lib/python3.7/site-packages (from packaging>=20.0->scikit-image) (3.0.6)\n",
      "^C\n",
      "\u001b[31mERROR: Operation cancelled by user\u001b[0m\n",
      "^C\n",
      "Traceback (most recent call last):\n",
      "  File \"/environment/miniconda3/bin/pip\", line 7, in <module>\n",
      "    from pip._internal.cli.main import main\n",
      "  File \"/environment/miniconda3/lib/python3.7/site-packages/pip/_internal/cli/main.py\", line 9, in <module>\n",
      "    from pip._internal.cli.autocompletion import autocomplete\n",
      "  File \"/environment/miniconda3/lib/python3.7/site-packages/pip/_internal/cli/autocompletion.py\", line 10, in <module>\n",
      "    from pip._internal.cli.main_parser import create_main_parser\n",
      "  File \"/environment/miniconda3/lib/python3.7/site-packages/pip/_internal/cli/main_parser.py\", line 8, in <module>\n",
      "    from pip._internal.cli import cmdoptions\n",
      "  File \"/environment/miniconda3/lib/python3.7/site-packages/pip/_internal/cli/cmdoptions.py\", line 23, in <module>\n",
      "    from pip._internal.cli.parser import ConfigOptionParser\n",
      "  File \"/environment/miniconda3/lib/python3.7/site-packages/pip/_internal/cli/parser.py\", line 12, in <module>\n",
      "    from pip._internal.configuration import Configuration, ConfigurationError\n",
      "  File \"/environment/miniconda3/lib/python3.7/site-packages/pip/_internal/configuration.py\", line 21, in <module>\n",
      "    from pip._internal.exceptions import (\n",
      "  File \"/environment/miniconda3/lib/python3.7/site-packages/pip/_internal/exceptions.py\", line 7, in <module>\n",
      "    from pip._vendor.pkg_resources import Distribution\n",
      "  File \"/environment/miniconda3/lib/python3.7/site-packages/pip/_vendor/pkg_resources/__init__.py\", line 3251, in <module>\n",
      "    @_call_aside\n",
      "  File \"/environment/miniconda3/lib/python3.7/site-packages/pip/_vendor/pkg_resources/__init__.py\", line 3235, in _call_aside\n",
      "    f(*args, **kwargs)\n",
      "  File \"/environment/miniconda3/lib/python3.7/site-packages/pip/_vendor/pkg_resources/__init__.py\", line 3287, in _initialize_master_working_set\n",
      "    list(map(working_set.add_entry, sys.path))\n",
      "  File \"/environment/miniconda3/lib/python3.7/site-packages/pip/_vendor/pkg_resources/__init__.py\", line 623, in add_entry\n",
      "    for dist in find_distributions(entry, True):\n",
      "  File \"/environment/miniconda3/lib/python3.7/site-packages/pip/_vendor/pkg_resources/__init__.py\", line 2065, in find_on_path\n",
      "    for dist in factory(fullpath):\n",
      "  File \"/environment/miniconda3/lib/python3.7/site-packages/pip/_vendor/pkg_resources/__init__.py\", line 2135, in distributions_from_metadata\n",
      "    root, entry, metadata, precedence=DEVELOP_DIST,\n",
      "  File \"/environment/miniconda3/lib/python3.7/site-packages/pip/_vendor/pkg_resources/__init__.py\", line 2592, in from_location\n",
      "    py_version=py_version, platform=platform, **kw\n",
      "  File \"/environment/miniconda3/lib/python3.7/site-packages/pip/_vendor/pkg_resources/__init__.py\", line 2569, in __init__\n",
      "    self.project_name = safe_name(project_name or 'Unknown')\n",
      "  File \"/environment/miniconda3/lib/python3.7/site-packages/pip/_vendor/pkg_resources/__init__.py\", line 1322, in safe_name\n",
      "    return re.sub('[^A-Za-z0-9.]+', '-', name)\n",
      "  File \"/environment/miniconda3/lib/python3.7/re.py\", line 194, in sub\n",
      "    return _compile(pattern, flags).sub(repl, string, count)\n",
      "KeyboardInterrupt\n"
     ]
    }
   ],
   "source": [
    "!python -m pip install -U scikit-image\n",
    "!pip install pandas"
   ]
  },
  {
   "cell_type": "code",
   "execution_count": 2,
   "metadata": {
    "colab": {
     "base_uri": "https://localhost:8080/"
    },
    "id": "73L7AL8TnLR7",
    "outputId": "d674a9b5-2f5f-4bcb-a9b6-0033b8b352f8"
   },
   "outputs": [
    {
     "name": "stdout",
     "output_type": "stream",
     "text": [
      "device: cuda\n"
     ]
    }
   ],
   "source": [
    "DEVICE = torch.device(\"cuda\") if torch.cuda.is_available() else torch.device(\"cpu\")\n",
    "print(\"device:\", DEVICE)"
   ]
  },
  {
   "cell_type": "code",
   "execution_count": 2,
   "metadata": {},
   "outputs": [
    {
     "name": "stdout",
     "output_type": "stream",
     "text": [
      "device: cpu\n"
     ]
    }
   ],
   "source": [
    "# import torch\n",
    "\n",
    "# # 直接设置为使用 CPU\n",
    "# DEVICE = torch.device(\"cpu\")\n",
    "# print(\"device:\", DEVICE)\n"
   ]
  },
  {
   "cell_type": "code",
   "execution_count": 120,
   "metadata": {
    "colab": {
     "base_uri": "https://localhost:8080/"
    },
    "id": "jfK-R1KLOMJc",
    "outputId": "9d51ff0b-5b9c-490e-91d8-f6f55fbebba3",
    "tags": []
   },
   "outputs": [],
   "source": [
    "# from google.colab import drive\n",
    "# drive.mount('/content/drive')"
   ]
  },
  {
   "cell_type": "code",
   "execution_count": 5,
   "metadata": {
    "collapsed": true,
    "jupyter": {
     "outputs_hidden": true
    },
    "tags": []
   },
   "outputs": [
    {
     "name": "stdout",
     "output_type": "stream",
     "text": [
      "Looking in indexes: https://pypi.tuna.tsinghua.edu.cn/simple\n",
      "Requirement already satisfied: setuptools in /environment/miniconda3/lib/python3.10/site-packages (69.2.0)\n",
      "Note: you may need to restart the kernel to use updated packages.\n"
     ]
    }
   ],
   "source": [
    "%pip install setuptools -U"
   ]
  },
  {
   "cell_type": "code",
   "execution_count": 4,
   "metadata": {
    "collapsed": true,
    "jupyter": {
     "outputs_hidden": true
    },
    "tags": []
   },
   "outputs": [
    {
     "name": "stdout",
     "output_type": "stream",
     "text": [
      "Looking in indexes: https://pypi.tuna.tsinghua.edu.cn/simple\n",
      "Collecting google-colab\n",
      "  Downloading https://pypi.tuna.tsinghua.edu.cn/packages/70/9f/d3ec1275a089ec017f9c91af22ecd1e2fe738254b944e7a1f9528fcfacd0/google-colab-1.0.0.tar.gz (72 kB)\n",
      "\u001b[2K     \u001b[90m━━━━━━━━━━━━━━━━━━━━━━━━━━━━━━━━━━━━━━━\u001b[0m \u001b[32m72.9/72.9 kB\u001b[0m \u001b[31m107.7 MB/s\u001b[0m eta \u001b[36m0:00:00\u001b[0m\n",
      "\u001b[?25h  Installing build dependencies ... \u001b[?25ldone\n",
      "\u001b[?25h  Getting requirements to build wheel ... \u001b[?25ldone\n",
      "\u001b[?25h  Installing backend dependencies ... \u001b[?25ldone\n",
      "\u001b[?25h  Preparing metadata (pyproject.toml) ... \u001b[?25ldone\n",
      "\u001b[?25hCollecting google-auth~=1.4.0 (from google-colab)\n",
      "  Downloading https://pypi.tuna.tsinghua.edu.cn/packages/56/80/369a47c28ce7d9be6a6973338133d073864d8efbb62747e414c34a3a5f4f/google_auth-1.4.2-py2.py3-none-any.whl (64 kB)\n",
      "\u001b[2K     \u001b[90m━━━━━━━━━━━━━━━━━━━━━━━━━━━━━━━━━━━━━━━━\u001b[0m \u001b[32m64.2/64.2 kB\u001b[0m \u001b[31m86.4 MB/s\u001b[0m eta \u001b[36m0:00:00\u001b[0m\n",
      "\u001b[?25hCollecting ipykernel~=4.6.0 (from google-colab)\n",
      "  Downloading https://pypi.tuna.tsinghua.edu.cn/packages/18/c3/76775a650cae2e3d9c033b26153583e61282692d9a3af12a3022d8f0cefa/ipykernel-4.6.1-py3-none-any.whl (104 kB)\n",
      "\u001b[2K     \u001b[90m━━━━━━━━━━━━━━━━━━━━━━━━━━━━━━━━━━━━━\u001b[0m \u001b[32m104.5/104.5 kB\u001b[0m \u001b[31m115.5 MB/s\u001b[0m eta \u001b[36m0:00:00\u001b[0m\n",
      "\u001b[?25hCollecting ipython~=5.5.0 (from google-colab)\n",
      "  Downloading https://pypi.tuna.tsinghua.edu.cn/packages/07/63/c987612bcf82c56eaacaf6bf01e31e53a244a0a3a0fb036ec5adc377e0fe/ipython-5.5.0-py3-none-any.whl (758 kB)\n",
      "\u001b[2K     \u001b[90m━━━━━━━━━━━━━━━━━━━━━━━━━━━━━━━━━━━━━\u001b[0m \u001b[32m758.9/758.9 kB\u001b[0m \u001b[31m174.1 MB/s\u001b[0m eta \u001b[36m0:00:00\u001b[0m\n",
      "\u001b[?25hCollecting notebook~=5.2.0 (from google-colab)\n",
      "  Downloading https://pypi.tuna.tsinghua.edu.cn/packages/96/a2/d951ebb7855743f989287486ded73cd3f66915c3ecd9c5c5a0c7ca12377a/notebook-5.2.2-py2.py3-none-any.whl (8.0 MB)\n",
      "\u001b[2K     \u001b[90m━━━━━━━━━━━━━━━━━━━━━━━━━━━━━━━━━━━━━━━━\u001b[0m \u001b[32m8.0/8.0 MB\u001b[0m \u001b[31m173.0 MB/s\u001b[0m eta \u001b[36m0:00:00\u001b[0ma \u001b[36m0:00:01\u001b[0m\n",
      "\u001b[?25hCollecting six~=1.12.0 (from google-colab)\n",
      "  Downloading https://pypi.tuna.tsinghua.edu.cn/packages/73/fb/00a976f728d0d1fecfe898238ce23f502a721c0ac0ecfedb80e0d88c64e9/six-1.12.0-py2.py3-none-any.whl (10 kB)\n",
      "Collecting pandas~=0.24.0 (from google-colab)\n",
      "  Downloading https://pypi.tuna.tsinghua.edu.cn/packages/b2/4c/b6f966ac91c5670ba4ef0b0b5613b5379e3c7abdfad4e7b89a87d73bae13/pandas-0.24.2.tar.gz (11.8 MB)\n",
      "\u001b[2K     \u001b[90m━━━━━━━━━━━━━━━━━━━━━━━━━━━━━━━━━━━━━━━\u001b[0m \u001b[32m11.8/11.8 MB\u001b[0m \u001b[31m197.6 MB/s\u001b[0m eta \u001b[36m0:00:00\u001b[0ma \u001b[36m0:00:01\u001b[0m\n",
      "\u001b[?25h  Installing build dependencies ... \u001b[?25ldone\n",
      "\u001b[?25h  Getting requirements to build wheel ... \u001b[?25ldone\n",
      "\u001b[?25h  Installing backend dependencies ... \u001b[?25ldone\n",
      "\u001b[?25h  Preparing metadata (pyproject.toml) ... \u001b[?25lerror\n",
      "  \u001b[1;31merror\u001b[0m: \u001b[1msubprocess-exited-with-error\u001b[0m\n",
      "  \n",
      "  \u001b[31m×\u001b[0m \u001b[32mPreparing metadata \u001b[0m\u001b[1;32m(\u001b[0m\u001b[32mpyproject.toml\u001b[0m\u001b[1;32m)\u001b[0m did not run successfully.\n",
      "  \u001b[31m│\u001b[0m exit code: \u001b[1;36m1\u001b[0m\n",
      "  \u001b[31m╰─>\u001b[0m \u001b[31m[4 lines of output]\u001b[0m\n",
      "  \u001b[31m   \u001b[0m <string>:12: DeprecationWarning: pkg_resources is deprecated as an API. See https://setuptools.pypa.io/en/latest/pkg_resources.html\n",
      "  \u001b[31m   \u001b[0m error in pandas setup command: 'install_requires' must be a string or list of strings containing valid project/version requirement specifiers; Expected end or semicolon (after version specifier)\n",
      "  \u001b[31m   \u001b[0m     pytz >= 2011k\n",
      "  \u001b[31m   \u001b[0m          ~~~~~~~^\n",
      "  \u001b[31m   \u001b[0m \u001b[31m[end of output]\u001b[0m\n",
      "  \n",
      "  \u001b[1;35mnote\u001b[0m: This error originates from a subprocess, and is likely not a problem with pip.\n",
      "\u001b[1;31merror\u001b[0m: \u001b[1mmetadata-generation-failed\u001b[0m\n",
      "\n",
      "\u001b[31m×\u001b[0m Encountered error while generating package metadata.\n",
      "\u001b[31m╰─>\u001b[0m See above for output.\n",
      "\n",
      "\u001b[1;35mnote\u001b[0m: This is an issue with the package mentioned above, not pip.\n",
      "\u001b[1;36mhint\u001b[0m: See above for details.\n",
      "\u001b[?25hNote: you may need to restart the kernel to use updated packages.\n"
     ]
    }
   ],
   "source": [
    "%pip install --use-pep517 google-colab"
   ]
  },
  {
   "cell_type": "code",
   "execution_count": 12,
   "metadata": {
    "collapsed": true,
    "jupyter": {
     "outputs_hidden": true
    },
    "tags": []
   },
   "outputs": [
    {
     "name": "stdout",
     "output_type": "stream",
     "text": [
      "Looking in indexes: https://pypi.tuna.tsinghua.edu.cn/simple\n",
      "Requirement already satisfied: setuptools in /environment/miniconda3/lib/python3.10/site-packages (69.2.0)\n",
      "Note: you may need to restart the kernel to use updated packages.\n"
     ]
    }
   ],
   "source": [
    "%pip install --upgrade setuptools"
   ]
  },
  {
   "cell_type": "code",
   "execution_count": 9,
   "metadata": {
    "collapsed": true,
    "jupyter": {
     "outputs_hidden": true
    },
    "tags": []
   },
   "outputs": [
    {
     "name": "stdout",
     "output_type": "stream",
     "text": [
      "Looking in indexes: https://pypi.tuna.tsinghua.edu.cn/simple\n",
      "Collecting google-colab\n",
      "  Downloading https://pypi.tuna.tsinghua.edu.cn/packages/70/9f/d3ec1275a089ec017f9c91af22ecd1e2fe738254b944e7a1f9528fcfacd0/google-colab-1.0.0.tar.gz (72 kB)\n",
      "\u001b[2K     \u001b[90m━━━━━━━━━━━━━━━━━━━━━━━━━━━━━━━━━━━━━━━━\u001b[0m \u001b[32m72.9/72.9 kB\u001b[0m \u001b[31m87.6 MB/s\u001b[0m eta \u001b[36m0:00:00\u001b[0m\n",
      "\u001b[?25h  Installing build dependencies ... \u001b[?25ldone\n",
      "\u001b[?25h  Getting requirements to build wheel ... \u001b[?25ldone\n",
      "\u001b[?25h  Installing backend dependencies ... \u001b[?25ldone\n",
      "\u001b[?25h  Preparing metadata (pyproject.toml) ... \u001b[?25ldone\n",
      "\u001b[?25hCollecting google-auth~=1.4.0 (from google-colab)\n",
      "  Downloading https://pypi.tuna.tsinghua.edu.cn/packages/56/80/369a47c28ce7d9be6a6973338133d073864d8efbb62747e414c34a3a5f4f/google_auth-1.4.2-py2.py3-none-any.whl (64 kB)\n",
      "\u001b[2K     \u001b[90m━━━━━━━━━━━━━━━━━━━━━━━━━━━━━━━━━━━━━━━━\u001b[0m \u001b[32m64.2/64.2 kB\u001b[0m \u001b[31m90.5 MB/s\u001b[0m eta \u001b[36m0:00:00\u001b[0m\n",
      "\u001b[?25hCollecting ipykernel~=4.6.0 (from google-colab)\n",
      "  Downloading https://pypi.tuna.tsinghua.edu.cn/packages/18/c3/76775a650cae2e3d9c033b26153583e61282692d9a3af12a3022d8f0cefa/ipykernel-4.6.1-py3-none-any.whl (104 kB)\n",
      "\u001b[2K     \u001b[90m━━━━━━━━━━━━━━━━━━━━━━━━━━━━━━━━━━━━━\u001b[0m \u001b[32m104.5/104.5 kB\u001b[0m \u001b[31m100.5 MB/s\u001b[0m eta \u001b[36m0:00:00\u001b[0m\n",
      "\u001b[?25hCollecting ipython~=5.5.0 (from google-colab)\n",
      "  Downloading https://pypi.tuna.tsinghua.edu.cn/packages/07/63/c987612bcf82c56eaacaf6bf01e31e53a244a0a3a0fb036ec5adc377e0fe/ipython-5.5.0-py3-none-any.whl (758 kB)\n",
      "\u001b[2K     \u001b[90m━━━━━━━━━━━━━━━━━━━━━━━━━━━━━━━━━━━━━\u001b[0m \u001b[32m758.9/758.9 kB\u001b[0m \u001b[31m170.0 MB/s\u001b[0m eta \u001b[36m0:00:00\u001b[0m\n",
      "\u001b[?25hCollecting notebook~=5.2.0 (from google-colab)\n",
      "  Downloading https://pypi.tuna.tsinghua.edu.cn/packages/96/a2/d951ebb7855743f989287486ded73cd3f66915c3ecd9c5c5a0c7ca12377a/notebook-5.2.2-py2.py3-none-any.whl (8.0 MB)\n",
      "\u001b[2K     \u001b[90m━━━━━━━━━━━━━━━━━━━━━━━━━━━━━━━━━━━━━━━━\u001b[0m \u001b[32m8.0/8.0 MB\u001b[0m \u001b[31m173.8 MB/s\u001b[0m eta \u001b[36m0:00:00\u001b[0ma \u001b[36m0:00:01\u001b[0m\n",
      "\u001b[?25hCollecting six~=1.12.0 (from google-colab)\n",
      "  Downloading https://pypi.tuna.tsinghua.edu.cn/packages/73/fb/00a976f728d0d1fecfe898238ce23f502a721c0ac0ecfedb80e0d88c64e9/six-1.12.0-py2.py3-none-any.whl (10 kB)\n",
      "Collecting pandas~=0.24.0 (from google-colab)\n",
      "  Downloading https://pypi.tuna.tsinghua.edu.cn/packages/b2/4c/b6f966ac91c5670ba4ef0b0b5613b5379e3c7abdfad4e7b89a87d73bae13/pandas-0.24.2.tar.gz (11.8 MB)\n",
      "\u001b[2K     \u001b[90m━━━━━━━━━━━━━━━━━━━━━━━━━━━━━━━━━━━━━━━\u001b[0m \u001b[32m11.8/11.8 MB\u001b[0m \u001b[31m172.2 MB/s\u001b[0m eta \u001b[36m0:00:00\u001b[0ma \u001b[36m0:00:01\u001b[0m\n",
      "\u001b[?25h  Installing build dependencies ... \u001b[?25ldone\n",
      "\u001b[?25h  Getting requirements to build wheel ... \u001b[?25ldone\n",
      "\u001b[?25h  Installing backend dependencies ... \u001b[?25ldone\n",
      "\u001b[?25h  Preparing metadata (pyproject.toml) ... \u001b[?25lerror\n",
      "  \u001b[1;31merror\u001b[0m: \u001b[1msubprocess-exited-with-error\u001b[0m\n",
      "  \n",
      "  \u001b[31m×\u001b[0m \u001b[32mPreparing metadata \u001b[0m\u001b[1;32m(\u001b[0m\u001b[32mpyproject.toml\u001b[0m\u001b[1;32m)\u001b[0m did not run successfully.\n",
      "  \u001b[31m│\u001b[0m exit code: \u001b[1;36m1\u001b[0m\n",
      "  \u001b[31m╰─>\u001b[0m \u001b[31m[4 lines of output]\u001b[0m\n",
      "  \u001b[31m   \u001b[0m <string>:12: DeprecationWarning: pkg_resources is deprecated as an API. See https://setuptools.pypa.io/en/latest/pkg_resources.html\n",
      "  \u001b[31m   \u001b[0m error in pandas setup command: 'install_requires' must be a string or list of strings containing valid project/version requirement specifiers; Expected end or semicolon (after version specifier)\n",
      "  \u001b[31m   \u001b[0m     pytz >= 2011k\n",
      "  \u001b[31m   \u001b[0m          ~~~~~~~^\n",
      "  \u001b[31m   \u001b[0m \u001b[31m[end of output]\u001b[0m\n",
      "  \n",
      "  \u001b[1;35mnote\u001b[0m: This error originates from a subprocess, and is likely not a problem with pip.\n",
      "\u001b[1;31merror\u001b[0m: \u001b[1mmetadata-generation-failed\u001b[0m\n",
      "\n",
      "\u001b[31m×\u001b[0m Encountered error while generating package metadata.\n",
      "\u001b[31m╰─>\u001b[0m See above for output.\n",
      "\n",
      "\u001b[1;35mnote\u001b[0m: This is an issue with the package mentioned above, not pip.\n",
      "\u001b[1;36mhint\u001b[0m: See above for details.\n",
      "\u001b[?25h"
     ]
    }
   ],
   "source": [
    "!pip install --use-pep517 google-colab\n"
   ]
  },
  {
   "cell_type": "code",
   "execution_count": 8,
   "metadata": {
    "collapsed": true,
    "jupyter": {
     "outputs_hidden": true
    },
    "tags": []
   },
   "outputs": [
    {
     "name": "stdout",
     "output_type": "stream",
     "text": [
      "Looking in indexes: https://pypi.tuna.tsinghua.edu.cn/simple\n",
      "Requirement already satisfied: pip in /environment/miniconda3/lib/python3.10/site-packages (23.1.2)\n",
      "Collecting pip\n",
      "  Downloading https://pypi.tuna.tsinghua.edu.cn/packages/8a/6a/19e9fe04fca059ccf770861c7d5721ab4c2aebc539889e97c7977528a53b/pip-24.0-py3-none-any.whl (2.1 MB)\n",
      "\u001b[2K     \u001b[90m━━━━━━━━━━━━━━━━━━━━━━━━━━━━━━━━━━━━━━━━\u001b[0m \u001b[32m2.1/2.1 MB\u001b[0m \u001b[31m199.0 MB/s\u001b[0m eta \u001b[36m0:00:00\u001b[0m\n",
      "\u001b[?25hRequirement already satisfied: setuptools in /environment/miniconda3/lib/python3.10/site-packages (67.8.0)\n",
      "Collecting setuptools\n",
      "  Downloading https://pypi.tuna.tsinghua.edu.cn/packages/92/e1/1c8bb3420105e70bdf357d57dd5567202b4ef8d27f810e98bb962d950834/setuptools-69.2.0-py3-none-any.whl (821 kB)\n",
      "\u001b[2K     \u001b[90m━━━━━━━━━━━━━━━━━━━━━━━━━━━━━━━━━━━━━\u001b[0m \u001b[32m821.5/821.5 kB\u001b[0m \u001b[31m196.3 MB/s\u001b[0m eta \u001b[36m0:00:00\u001b[0m\n",
      "\u001b[?25hRequirement already satisfied: wheel in /environment/miniconda3/lib/python3.10/site-packages (0.38.4)\n",
      "Collecting wheel\n",
      "  Downloading https://pypi.tuna.tsinghua.edu.cn/packages/7d/cd/d7460c9a869b16c3dd4e1e403cce337df165368c71d6af229a74699622ce/wheel-0.43.0-py3-none-any.whl (65 kB)\n",
      "\u001b[2K     \u001b[90m━━━━━━━━━━━━━━━━━━━━━━━━━━━━━━━━━━━━━━━\u001b[0m \u001b[32m65.8/65.8 kB\u001b[0m \u001b[31m106.3 MB/s\u001b[0m eta \u001b[36m0:00:00\u001b[0m\n",
      "\u001b[?25hInstalling collected packages: wheel, setuptools, pip\n",
      "  Attempting uninstall: wheel\n",
      "    Found existing installation: wheel 0.38.4\n",
      "    Uninstalling wheel-0.38.4:\n",
      "      Successfully uninstalled wheel-0.38.4\n",
      "  Attempting uninstall: setuptools\n",
      "    Found existing installation: setuptools 67.8.0\n",
      "    Uninstalling setuptools-67.8.0:\n",
      "      Successfully uninstalled setuptools-67.8.0\n",
      "  Attempting uninstall: pip\n",
      "    Found existing installation: pip 23.1.2\n",
      "    Uninstalling pip-23.1.2:\n",
      "      Successfully uninstalled pip-23.1.2\n",
      "Successfully installed pip-24.0 setuptools-69.2.0 wheel-0.43.0\n"
     ]
    }
   ],
   "source": [
    "!pip install --upgrade pip setuptools wheel"
   ]
  },
  {
   "cell_type": "code",
   "execution_count": 6,
   "metadata": {
    "collapsed": true,
    "id": "GhKYnKs22fvL",
    "jupyter": {
     "outputs_hidden": true
    },
    "tags": []
   },
   "outputs": [
    {
     "name": "stdout",
     "output_type": "stream",
     "text": [
      "unzip:  cannot find or open /content/drive/MyDrive/LMU/SS2022/UDLSeminar/DiabeticRetinopathyGrading.zip, /content/drive/MyDrive/LMU/SS2022/UDLSeminar/DiabeticRetinopathyGrading.zip.zip or /content/drive/MyDrive/LMU/SS2022/UDLSeminar/DiabeticRetinopathyGrading.zip.ZIP.\n"
     ]
    }
   ],
   "source": [
    "# unzip the data\n",
    "!unzip /content/drive/MyDrive/LMU/SS2022/UDLSeminar/DiabeticRetinopathyGrading.zip"
   ]
  },
  {
   "cell_type": "code",
   "execution_count": 5,
   "metadata": {
    "colab": {
     "base_uri": "https://localhost:8080/",
     "height": 317
    },
    "id": "NslUISxD5NQg",
    "outputId": "da9165fc-4830-4dec-8afa-4a1d4080b447"
   },
   "outputs": [
    {
     "data": {
      "image/png": "[encoded data removed]",
      "text/plain": [
       "<PIL.Image.Image image mode=RGB size=100x100>"
      ]
     },
     "metadata": {},
     "output_type": "display_data"
    },
    {
     "data": {
      "image/png": "[encoded data removed]",
      "text/plain": [
       "<PIL.Image.Image image mode=RGB size=100x100>"
      ]
     },
     "metadata": {},
     "output_type": "display_data"
    },
    {
     "data": {
      "image/png": "[encoded data removed]",
      "text/plain": [
       "<PIL.Image.Image image mode=RGB size=100x100>"
      ]
     },
     "metadata": {},
     "output_type": "display_data"
    }
   ],
   "source": [
    "# visualize the images\n",
    "# path = 'input/diabetic-retinopathy-resized/resized_train/'\n",
    "path = 'input/aptos2019-blindness-detection/train_images/'\n",
    "filename = os.listdir(path)\n",
    "for i in range(3):\n",
    "    im = Image.open(path + '/' + filename[i]) \n",
    "    im = im.resize((100,100))\n",
    "    display(im)"
   ]
  },
  {
   "cell_type": "code",
   "execution_count": 6,
   "metadata": {
    "colab": {
     "base_uri": "https://localhost:8080/",
     "height": 243
    },
    "id": "K5kJnqPJ80a2",
    "outputId": "d5bd6598-7a99-4701-b710-126e1183d9bc"
   },
   "outputs": [
    {
     "data": {
      "text/plain": [
       "torch.Size([3, 1050, 1050])"
      ]
     },
     "metadata": {},
     "output_type": "display_data"
    },
    {
     "data": {
      "text/plain": [
       "torch.Size([3, 2136, 3216])"
      ]
     },
     "metadata": {},
     "output_type": "display_data"
    },
    {
     "data": {
      "text/plain": [
       "torch.Size([3, 2588, 3388])"
      ]
     },
     "metadata": {},
     "output_type": "display_data"
    },
    {
     "data": {
      "text/plain": [
       "torch.Size([3, 1536, 2048])"
      ]
     },
     "metadata": {},
     "output_type": "display_data"
    },
    {
     "data": {
      "text/plain": [
       "torch.Size([3, 2136, 3216])"
      ]
     },
     "metadata": {},
     "output_type": "display_data"
    },
    {
     "data": {
      "text/plain": [
       "torch.Size([3, 2136, 3216])"
      ]
     },
     "metadata": {},
     "output_type": "display_data"
    },
    {
     "data": {
      "text/plain": [
       "torch.Size([3, 1958, 2588])"
      ]
     },
     "metadata": {},
     "output_type": "display_data"
    },
    {
     "data": {
      "text/plain": [
       "torch.Size([3, 1958, 2588])"
      ]
     },
     "metadata": {},
     "output_type": "display_data"
    },
    {
     "data": {
      "text/plain": [
       "torch.Size([3, 1736, 2416])"
      ]
     },
     "metadata": {},
     "output_type": "display_data"
    },
    {
     "data": {
      "text/plain": [
       "torch.Size([3, 1050, 1050])"
      ]
     },
     "metadata": {},
     "output_type": "display_data"
    },
    {
     "data": {
      "text/plain": [
       "torch.Size([3, 614, 819])"
      ]
     },
     "metadata": {},
     "output_type": "display_data"
    },
    {
     "data": {
      "text/plain": [
       "torch.Size([3, 1736, 2416])"
      ]
     },
     "metadata": {},
     "output_type": "display_data"
    },
    {
     "data": {
      "text/plain": [
       "torch.Size([3, 1736, 2416])"
      ]
     },
     "metadata": {},
     "output_type": "display_data"
    }
   ],
   "source": [
    "# get image size\n",
    "# path = 'input/diabetic-retinopathy-resized/resized_train'\n",
    "path = 'input/aptos2019-blindness-detection/train_images/'\n",
    "filename = os.listdir(path)\n",
    "for i in range(13):\n",
    "    im = Image.open(path + '/' + filename[i])\n",
    "    transform = transforms.ToTensor()\n",
    "    display(transform(im).shape)"
   ]
  },
  {
   "cell_type": "markdown",
   "metadata": {
    "id": "a0iJFuZw-W90"
   },
   "source": [
    "# Constants"
   ]
  },
  {
   "cell_type": "code",
   "execution_count": 3,
   "metadata": {
    "id": "AI2SOO3_-V_m"
   },
   "outputs": [],
   "source": [
    "IMAGE_SIZE = 224\n",
    "NUM_CHANNELS = 3\n",
    "BATCH_SIZE = 48\n",
    "EPOCHS = 100\n",
    "NUM_WORKERS = 0\n",
    "\n",
    "# TRAIN_SIZE = 27000\n",
    "\n",
    "# ROOT_DIR = 'preprocessed_images/2015&2019_total'\n",
    "# CSV_FILE = 'preprocessed_images/merged_2015_2019_dataframe.csv'\n",
    "\n",
    "ROOT_DIR = 'preprocessed_images/2019_agument_total/'\n",
    "CSV_FILE = 'preprocessed_images/2019_agument.csv'\n",
    "\n",
    "PATH = 'swin_saved_model'\n",
    "MIN_PATH ='swin_saved_model/min_loss_model'\n",
    "\n",
    "NUM_CLASSES = 5\n",
    "\n",
    "LEARNING_RATE = 1e-5\n",
    "WEIGHT_DECAY = 5e-4"
   ]
  },
  {
   "cell_type": "markdown",
   "metadata": {
    "id": "VQi-xCtfcD_q"
   },
   "source": [
    "# Labels"
   ]
  },
  {
   "cell_type": "code",
   "execution_count": 4,
   "metadata": {
    "colab": {
     "base_uri": "https://localhost:8080/"
    },
    "id": "cStLmP9McHEw",
    "outputId": "2c42a01f-273b-41b9-d33e-b501b28fc4ef"
   },
   "outputs": [
    {
     "data": {
      "text/plain": [
       "array([0, 4, 2, 3, 1])"
      ]
     },
     "execution_count": 4,
     "metadata": {},
     "output_type": "execute_result"
    }
   ],
   "source": [
    "df = pd.read_csv(CSV_FILE)\n",
    "df.iloc[:,1].unique()"
   ]
  },
  {
   "cell_type": "markdown",
   "metadata": {
    "id": "8rK1z7Og7j0E"
   },
   "source": [
    "# Dataloader"
   ]
  },
  {
   "cell_type": "code",
   "execution_count": 5,
   "metadata": {
    "id": "PbH2WX_FSIAv"
   },
   "outputs": [],
   "source": [
    "import os\n",
    "import torch\n",
    "from PIL import Image\n",
    "import pandas as pd\n",
    "\n",
    "class CustomDataset(torch.utils.data.Dataset):\n",
    "    def __init__(self, annotations_file, root_dir, transform=None):\n",
    "        \"\"\"\n",
    "        初始化数据集。\n",
    "        :param annotations_file: 标注文件的路径。\n",
    "        :param root_dir: 包含所有图像的目录。\n",
    "        :param transform: 一个可选的转换函数，用于对样本进行处理。\n",
    "        \"\"\"\n",
    "        self.annotations = pd.read_csv(annotations_file)\n",
    "        self.root_dir = root_dir\n",
    "        self.transform = transform\n",
    "\n",
    "    def __len__(self):\n",
    "        \"\"\"\n",
    "        数据集中的样本数。\n",
    "        \"\"\"\n",
    "        return len(self.annotations)\n",
    "\n",
    "    def __getitem__(self, idx):\n",
    "        if torch.is_tensor(idx):\n",
    "            idx = idx.tolist()\n",
    "\n",
    "        img_name = os.path.join(self.root_dir,\n",
    "                                self.annotations.iloc[idx, 0]+'.png')\n",
    "        # image = read_image(img_name)\n",
    "        image = Image.open(img_name)\n",
    "        annotation = self.annotations.iloc[idx, 1]\n",
    "        annotation = annotation.astype('int')\n",
    "        # sample = {'image': image, 'label': annotation}\n",
    "\n",
    "        if self.transform:\n",
    "            image = self.transform(image)\n",
    "\n",
    "        return image, annotation"
   ]
  },
  {
   "cell_type": "code",
   "execution_count": 6,
   "metadata": {
    "id": "EtH5G3HQYA2R"
   },
   "outputs": [],
   "source": [
    "transform = transforms.Compose([transforms.PILToTensor(),\n",
    "                                transforms.Resize((IMAGE_SIZE,IMAGE_SIZE)),\n",
    "                                transforms.ConvertImageDtype(torch.float)])"
   ]
  },
  {
   "cell_type": "code",
   "execution_count": 7,
   "metadata": {
    "id": "4v7V5xIv-5Pw"
   },
   "outputs": [],
   "source": [
    "dataset = CustomDataset(CSV_FILE, ROOT_DIR, transform)"
   ]
  },
  {
   "cell_type": "code",
   "execution_count": 8,
   "metadata": {
    "colab": {
     "base_uri": "https://localhost:8080/"
    },
    "id": "2OqVwxCpDbM-",
    "outputId": "2af98846-fd1b-4774-84a7-52a4f8b2a234"
   },
   "outputs": [
    {
     "data": {
      "text/plain": [
       "<torch._C.Generator at 0x7f28bf02fb90>"
      ]
     },
     "execution_count": 8,
     "metadata": {},
     "output_type": "execute_result"
    }
   ],
   "source": [
    "gen = torch.Generator()\n",
    "gen.manual_seed(0)"
   ]
  },
  {
   "cell_type": "code",
   "execution_count": 9,
   "metadata": {
    "colab": {
     "base_uri": "https://localhost:8080/"
    },
    "id": "o0U9fUxa_5Ad",
    "outputId": "c05d4e73-73f5-41b4-ca6c-345a7dc7cc14"
   },
   "outputs": [
    {
     "name": "stdout",
     "output_type": "stream",
     "text": [
      "9234\n",
      "Training Set Size: 7387\n",
      "Validation Set Size: 1847\n"
     ]
    }
   ],
   "source": [
    "# 假设 dataset 是您的数据集对象\n",
    "total_size = len(dataset)  # 获取数据集的总大小\n",
    "print(total_size)\n",
    "# 计算训练集大小为数据集的80%\n",
    "TRAIN_SIZE = int(total_size * 0.8)\n",
    "\n",
    "# 计算验证集大小\n",
    "VAL_SIZE = total_size - TRAIN_SIZE\n",
    "\n",
    "# 使用 torch.utils.data.random_split 来分割数据集\n",
    "train_set, val_set = torch.utils.data.random_split(dataset, [TRAIN_SIZE, VAL_SIZE])\n",
    "\n",
    "# 打印出训练集和验证集的大小来验证\n",
    "print(f\"Training Set Size: {TRAIN_SIZE}\")\n",
    "print(f\"Validation Set Size: {VAL_SIZE}\")\n",
    "# train_set, val_set = torch.utils.data.random_split(dataset, [TRAIN_SIZE, len(dataset) - TRAIN_SIZE],generator=gen)\n",
    "\n",
    "# len(train_set), len(val_set)"
   ]
  },
  {
   "cell_type": "markdown",
   "metadata": {},
   "source": [
    "# 如果图片以文件夹命名分类，想转换成表格的形式，请使用下述方法："
   ]
  },
  {
   "cell_type": "code",
   "execution_count": 14,
   "metadata": {
    "tags": []
   },
   "outputs": [
    {
     "name": "stdout",
     "output_type": "stream",
     "text": [
      "CSV文件已生成并保存在preprocessed_images/2019_agument.csv\n"
     ]
    }
   ],
   "source": [
    "import os\n",
    "import csv\n",
    "\n",
    "# 你的图片存放的根目录路径\n",
    "root_dir = \"preprocessed_images/2019_agument\"  # 请确保替换为你的实际路径\n",
    "\n",
    "# 输出CSV文件的路径\n",
    "output_csv_path = \"preprocessed_images/2019_agument.csv\"  # 可以根据需要更改路径\n",
    "\n",
    "# 遍历目录并收集数据\n",
    "data = []\n",
    "for label in os.listdir(root_dir):\n",
    "    # 跳过.ipynb_checkpoints目录\n",
    "    if label == \".ipynb_checkpoints\":\n",
    "        continue\n",
    "\n",
    "    label_dir = os.path.join(root_dir, label)\n",
    "    if os.path.isdir(label_dir):\n",
    "        for image_name in os.listdir(label_dir):\n",
    "            if image_name.lower().endswith(('.png', '.jpg', '.jpeg')):\n",
    "                # 移除文件扩展名，获取图像名称\n",
    "                image_name_without_extension = os.path.splitext(image_name)[0]\n",
    "                data.append([image_name_without_extension, label])\n",
    "\n",
    "# 写入CSV文件\n",
    "with open(output_csv_path, mode='w', newline='') as file:\n",
    "    writer = csv.writer(file)\n",
    "    writer.writerow([\"id_code\", \"diagnosis\"])  # 写入列名\n",
    "    writer.writerows(data)  # 写入数据\n",
    "\n",
    "print(f\"CSV文件已生成并保存在{output_csv_path}\")\n"
   ]
  },
  {
   "cell_type": "code",
   "execution_count": 5,
   "metadata": {
    "tags": []
   },
   "outputs": [
    {
     "name": "stdout",
     "output_type": "stream",
     "text": [
      "所有图片已经从preprocessed_images/2019_agument复制到preprocessed_images/2019_agument_total\n"
     ]
    }
   ],
   "source": [
    "#合并图像\n",
    "\n",
    "import shutil\n",
    "import os\n",
    "\n",
    "# 源目录路径：包含子文件夹和图片的根目录\n",
    "source_dir = \"preprocessed_images/2019_agument\"\n",
    "\n",
    "# 目标目录路径：所有图片将被复制到这个新目录中\n",
    "target_dir = \"preprocessed_images/2019_agument_total\"\n",
    "\n",
    "# 确保目标目录存在，如果不存在，则创建\n",
    "if not os.path.exists(target_dir):\n",
    "    os.makedirs(target_dir)\n",
    "\n",
    "# 遍历源目录中的所有子目录和文件\n",
    "for root, dirs, files in os.walk(source_dir):\n",
    "    for file in files:\n",
    "        # 检查文件是否是图片（根据扩展名）\n",
    "        if file.lower().endswith(('.png', '.jpg', '.jpeg')):\n",
    "            # 构建完整的文件路径\n",
    "            file_path = os.path.join(root, file)\n",
    "            # 构建目标文件路径\n",
    "            target_file_path = os.path.join(target_dir, file)\n",
    "            \n",
    "            # 复制文件\n",
    "            shutil.copy(file_path, target_file_path)\n",
    "\n",
    "print(f\"所有图片已经从{source_dir}复制到{target_dir}\")\n"
   ]
  },
  {
   "cell_type": "markdown",
   "metadata": {},
   "source": [
    "# 以文件夹命名分类时使用下述方法："
   ]
  },
  {
   "cell_type": "code",
   "execution_count": 10,
   "metadata": {
    "tags": []
   },
   "outputs": [
    {
     "name": "stdout",
     "output_type": "stream",
     "text": [
      "Training Set Size: 7330\n",
      "Validation Set Size: 1833\n"
     ]
    }
   ],
   "source": [
    "from torchvision import datasets, transforms\n",
    "\n",
    "ROOT_DIR='preprocessed_images/total/'\n",
    "\n",
    "# 定义图像预处理\n",
    "transform = transforms.Compose([\n",
    "    transforms.Resize((IMAGE_SIZE, IMAGE_SIZE)),\n",
    "    transforms.ToTensor(),\n",
    "    transforms.Normalize(mean=[0.485, 0.456, 0.406], std=[0.229, 0.224, 0.225])\n",
    "])\n",
    "\n",
    "# 使用ImageFolder加载数据\n",
    "dataset = datasets.ImageFolder(root=ROOT_DIR, transform=transform)\n",
    "\n",
    "# 确保这是数据集当前的总大小\n",
    "total_size = len(dataset)  \n",
    "\n",
    "# 计算训练集大小为数据集的80%，确保为整数\n",
    "TRAIN_SIZE = int(total_size * 0.8)\n",
    "\n",
    "# 直接计算验证集大小，以避免任何四舍五入误差\n",
    "VAL_SIZE = total_size - TRAIN_SIZE\n",
    "\n",
    "# 再次使用 torch.utils.data.random_split 来分割数据集\n",
    "train_set, val_set = torch.utils.data.random_split(dataset, [TRAIN_SIZE, VAL_SIZE], generator=torch.Generator().manual_seed(42))\n",
    "\n",
    "print(f\"Training Set Size: {len(train_set)}\")\n",
    "print(f\"Validation Set Size: {len(val_set)}\")\n",
    "\n",
    "\n",
    "\n",
    "# # 使用torch.utils.data的random_split函数分割数据集\n",
    "# train_set, val_set = torch.utils.data.random_split(dataset, [TRAIN_SIZE, VAL_SIZE], generator=torch.Generator().manual_seed(42))\n",
    "\n",
    "# print(f\"Training Set Size: {len(train_set)}\")\n",
    "# print(f\"Validation Set Size: {len(val_set)}\")\n"
   ]
  },
  {
   "cell_type": "code",
   "execution_count": 10,
   "metadata": {
    "id": "cWwZekoJAMZ0"
   },
   "outputs": [],
   "source": [
    "train_loader = torch.utils.data.DataLoader(train_set, batch_size=BATCH_SIZE, shuffle=True,\n",
    "                                           num_workers=NUM_WORKERS, pin_memory=True)\n",
    "\n",
    "val_loader = torch.utils.data.DataLoader(val_set, batch_size=BATCH_SIZE, shuffle=True,\n",
    "                                           num_workers=NUM_WORKERS, pin_memory=True)"
   ]
  },
  {
   "cell_type": "code",
   "execution_count": 11,
   "metadata": {
    "colab": {
     "base_uri": "https://localhost:8080/"
    },
    "id": "mpi50_GrAoy2",
    "outputId": "e464f420-c431-4aa2-ff8f-a438508c48e4",
    "tags": []
   },
   "outputs": [
    {
     "data": {
      "text/plain": [
       "torch.Size([3, 224, 224])"
      ]
     },
     "metadata": {},
     "output_type": "display_data"
    },
    {
     "data": {
      "text/plain": [
       "tensor(0)"
      ]
     },
     "metadata": {},
     "output_type": "display_data"
    }
   ],
   "source": [
    "images, labels = next(iter(train_loader))\n",
    "display(images[0].shape, labels[0])"
   ]
  },
  {
   "cell_type": "markdown",
   "metadata": {
    "id": "6CAQpCesFlh7"
   },
   "source": [
    "# MODEL"
   ]
  },
  {
   "cell_type": "code",
   "execution_count": 4,
   "metadata": {
    "collapsed": true,
    "id": "7-lH5-YluaeO",
    "jupyter": {
     "outputs_hidden": true
    },
    "tags": []
   },
   "outputs": [
    {
     "name": "stdout",
     "output_type": "stream",
     "text": [
      "Looking in indexes: https://pypi.tuna.tsinghua.edu.cn/simple\n",
      "Collecting transformers\n",
      "  Downloading https://pypi.tuna.tsinghua.edu.cn/packages/5b/0b/e45d26ccd28568013523e04f325432ea88a442b4e3020b757cf4361f0120/transformers-4.30.2-py3-none-any.whl (7.2 MB)\n",
      "\u001b[K     |████████████████████████████████| 7.2 MB 44.9 MB/s eta 0:00:01\n",
      "\u001b[?25hRequirement already satisfied: packaging>=20.0 in /environment/miniconda3/lib/python3.7/site-packages (from transformers) (21.3)\n",
      "Collecting filelock\n",
      "  Downloading https://pypi.tuna.tsinghua.edu.cn/packages/00/45/ec3407adf6f6b5bf867a4462b2b0af27597a26bd3cd6e2534cb6ab029938/filelock-3.12.2-py3-none-any.whl (10 kB)\n",
      "Requirement already satisfied: pyyaml>=5.1 in /environment/miniconda3/lib/python3.7/site-packages (from transformers) (6.0)\n",
      "Collecting tokenizers!=0.11.3,<0.14,>=0.11.1\n",
      "  Downloading https://pypi.tuna.tsinghua.edu.cn/packages/4d/40/ab3c3c705e0a8cbbe760c49302b407190201d96fe7dfeea37ccafa004da3/tokenizers-0.13.3-cp37-cp37m-manylinux_2_17_x86_64.manylinux2014_x86_64.whl (7.8 MB)\n",
      "\u001b[K     |████████████████████████████████| 7.8 MB 98.1 MB/s eta 0:00:01\n",
      "\u001b[?25hCollecting regex!=2019.12.17\n",
      "  Downloading https://pypi.tuna.tsinghua.edu.cn/packages/ef/2e/1e93f6c7a303cc08d9562c96030924b24d45419a78a288ebd6dc61a2246c/regex-2023.12.25-cp37-cp37m-manylinux_2_17_x86_64.manylinux2014_x86_64.whl (761 kB)\n",
      "\u001b[K     |████████████████████████████████| 761 kB 92.0 MB/s eta 0:00:01\n",
      "\u001b[?25hCollecting huggingface-hub<1.0,>=0.14.1\n",
      "  Downloading https://pypi.tuna.tsinghua.edu.cn/packages/7f/c4/adcbe9a696c135578cabcbdd7331332daad4d49b7c43688bc2d36b3a47d2/huggingface_hub-0.16.4-py3-none-any.whl (268 kB)\n",
      "\u001b[K     |████████████████████████████████| 268 kB 108.1 MB/s eta 0:00:01\n",
      "\u001b[?25hCollecting safetensors>=0.3.1\n",
      "  Downloading https://pypi.tuna.tsinghua.edu.cn/packages/11/a0/c7403eac4e9321eb5a940d16c2dd2e4713e73315682dfb77a12c9ea8f24a/safetensors-0.4.2-cp37-cp37m-manylinux_2_17_x86_64.manylinux2014_x86_64.whl (1.3 MB)\n",
      "\u001b[K     |████████████████████████████████| 1.3 MB 104.3 MB/s eta 0:00:01\n",
      "\u001b[?25hRequirement already satisfied: numpy>=1.17 in /environment/miniconda3/lib/python3.7/site-packages (from transformers) (1.21.4)\n",
      "Requirement already satisfied: importlib-metadata in /environment/miniconda3/lib/python3.7/site-packages (from transformers) (4.8.2)\n",
      "Requirement already satisfied: tqdm>=4.27 in /environment/miniconda3/lib/python3.7/site-packages (from transformers) (4.61.2)\n",
      "Requirement already satisfied: requests in /environment/miniconda3/lib/python3.7/site-packages (from transformers) (2.24.0)\n",
      "Requirement already satisfied: typing-extensions>=3.7.4.3 in /environment/miniconda3/lib/python3.7/site-packages (from huggingface-hub<1.0,>=0.14.1->transformers) (4.0.1)\n",
      "Collecting fsspec\n",
      "  Downloading https://pypi.tuna.tsinghua.edu.cn/packages/bd/64/f0d369ede0ca54fdd520bdee5086dbaf0af81dac53a2ce847bd1ec6e0bf1/fsspec-2023.1.0-py3-none-any.whl (143 kB)\n",
      "\u001b[K     |████████████████████████████████| 143 kB 103.4 MB/s eta 0:00:01\n",
      "\u001b[?25hRequirement already satisfied: pyparsing!=3.0.5,>=2.0.2 in /environment/miniconda3/lib/python3.7/site-packages (from packaging>=20.0->transformers) (3.0.6)\n",
      "Requirement already satisfied: zipp>=0.5 in /environment/miniconda3/lib/python3.7/site-packages (from importlib-metadata->transformers) (3.6.0)\n",
      "Requirement already satisfied: chardet<4,>=3.0.2 in /environment/miniconda3/lib/python3.7/site-packages (from requests->transformers) (3.0.4)\n",
      "Requirement already satisfied: urllib3!=1.25.0,!=1.25.1,<1.26,>=1.21.1 in /environment/miniconda3/lib/python3.7/site-packages (from requests->transformers) (1.25.11)\n",
      "Requirement already satisfied: idna<3,>=2.5 in /environment/miniconda3/lib/python3.7/site-packages (from requests->transformers) (2.10)\n",
      "Requirement already satisfied: certifi>=2017.4.17 in /environment/miniconda3/lib/python3.7/site-packages (from requests->transformers) (2021.5.30)\n",
      "Installing collected packages: fsspec, filelock, tokenizers, safetensors, regex, huggingface-hub, transformers\n",
      "Successfully installed filelock-3.12.2 fsspec-2023.1.0 huggingface-hub-0.16.4 regex-2023.12.25 safetensors-0.4.2 tokenizers-0.13.3 transformers-4.30.2\n"
     ]
    }
   ],
   "source": [
    "!pip install transformers"
   ]
  },
  {
   "cell_type": "code",
   "execution_count": 21,
   "metadata": {
    "collapsed": true,
    "jupyter": {
     "outputs_hidden": true
    },
    "tags": []
   },
   "outputs": [
    {
     "name": "stdout",
     "output_type": "stream",
     "text": [
      "Looking in indexes: https://pypi.tuna.tsinghua.edu.cn/simple\n",
      "Collecting protobuf==3.20.3\n",
      "  Downloading https://pypi.tuna.tsinghua.edu.cn/packages/4c/12/62e1d5505c172e1a7f803d83b0b1693f7952c3c271eb2f155703012ae67a/protobuf-3.20.3-cp37-cp37m-manylinux_2_5_x86_64.manylinux1_x86_64.whl (1.0 MB)\n",
      "\u001b[K     |████████████████████████████████| 1.0 MB 77.9 MB/s eta 0:00:01\n",
      "\u001b[?25hInstalling collected packages: protobuf\n",
      "  Attempting uninstall: protobuf\n",
      "    Found existing installation: protobuf 3.19.1\n",
      "    Uninstalling protobuf-3.19.1:\n",
      "      Successfully uninstalled protobuf-3.19.1\n",
      "Successfully installed protobuf-3.20.3\n"
     ]
    }
   ],
   "source": [
    "!pip install protobuf==3.20.3\n"
   ]
  },
  {
   "cell_type": "code",
   "execution_count": 12,
   "metadata": {
    "id": "mB5pi7PA9mVj",
    "tags": []
   },
   "outputs": [],
   "source": [
    "from transformers import SwinModel, SwinConfig\n",
    "\n",
    "# Initializing a Swin microsoft/swin-tiny-patch4-window7-224 style configuration\n",
    "configuration = SwinConfig( image_size = IMAGE_SIZE, num_channels = NUM_CHANNELS, num_labels = 5)"
   ]
  },
  {
   "cell_type": "code",
   "execution_count": 13,
   "metadata": {
    "colab": {
     "base_uri": "https://localhost:8080/",
     "height": 222,
     "referenced_widgets": [
      "b2670f695f9e4953a2692cbe93a727d7",
      "361b1c35e40a48d7b3c73d709cc3d135",
      "a119e66577824338ab2e73570316b41d",
      "39713f4ce80b4774926cf787dd415c4e",
      "01e8dda5af974c9aaf16e894babcb796",
      "e5058eb6b6654787b1cb7184927ffbc6",
      "34b27acfcc934b0f94fe1bbfadb3769b",
      "b5cdb74c6d97401bb04b0580e2ccb635",
      "681154c821e64caab9947c6e3a222b5e",
      "0a7bdeb5456940d7beb673025982c983",
      "be48bbbb83db4bcc831932bf1ed79f06",
      "f3bc987061e24a20bed811c6714d02d8",
      "f3076aab725e43968c5621b718785586",
      "2f8978d9746248a996cb9737a1143cf7",
      "215f7e12d3f6497394bba47e49cec6d4",
      "68cbee6c1a9948578e6774776038e33d",
      "1f9790ceed4c494c86d60541c335edf4",
      "d31861c62d6d42e89a5e8c6209f6bf7c",
      "4af678e8f1fb41c0b1d4b5dea0d984e1",
      "2d651585caee4770bb8b88db4590ba13",
      "bfa4352f581c4477bbc357d60a268903",
      "3cb3ea5764df45de98f43cac28f40186"
     ]
    },
    "id": "gatS8ppbKHJ6",
    "outputId": "57f31c16-d5b9-4104-d302-d39398d08916",
    "tags": []
   },
   "outputs": [
    {
     "name": "stderr",
     "output_type": "stream",
     "text": [
      "/environment/miniconda3/lib/python3.7/site-packages/transformers/models/vit/feature_extraction_vit.py:31: FutureWarning: The class ViTFeatureExtractor is deprecated and will be removed in version 5 of Transformers. Please use ViTImageProcessor instead.\n",
      "  FutureWarning,\n",
      "Some weights of SwinForImageClassification were not initialized from the model checkpoint at microsoft/swin-tiny-patch4-window7-224 and are newly initialized because the shapes did not match:\n",
      "- classifier.bias: found shape torch.Size([1000]) in the checkpoint and torch.Size([5]) in the model instantiated\n",
      "- classifier.weight: found shape torch.Size([1000, 768]) in the checkpoint and torch.Size([5, 768]) in the model instantiated\n",
      "You should probably TRAIN this model on a down-stream task to be able to use it for predictions and inference.\n"
     ]
    }
   ],
   "source": [
    "from transformers import AutoFeatureExtractor, SwinForImageClassification\n",
    "\n",
    "# download pretrained model\n",
    "feature_extractor = AutoFeatureExtractor.from_pretrained(\"microsoft/swin-tiny-patch4-window7-224\")\n",
    "model = SwinForImageClassification.from_pretrained(\"microsoft/swin-tiny-patch4-window7-224\", config = configuration, ignore_mismatched_sizes=True)"
   ]
  },
  {
   "cell_type": "code",
   "execution_count": 14,
   "metadata": {
    "collapsed": true,
    "jupyter": {
     "outputs_hidden": true
    },
    "tags": []
   },
   "outputs": [
    {
     "name": "stderr",
     "output_type": "stream",
     "text": [
      "/environment/miniconda3/lib/python3.7/site-packages/transformers/models/vit/feature_extraction_vit.py:31: FutureWarning: The class ViTFeatureExtractor is deprecated and will be removed in version 5 of Transformers. Please use ViTImageProcessor instead.\n",
      "  FutureWarning,\n",
      "You are using a model of type swinv2 to instantiate a model of type swin. This is not supported for all configurations of models and can yield errors.\n",
      "Some weights of the model checkpoint at microsoft/swinv2-tiny-patch4-window8-256 were not used when initializing SwinForImageClassification: ['swinv2.encoder.layers.3.blocks.1.layernorm_after.bias', 'swinv2.encoder.layers.2.blocks.0.layernorm_after.bias', 'swinv2.encoder.layers.2.blocks.4.attention.self.value.bias', 'swinv2.encoder.layers.2.blocks.1.attention.self.key.weight', 'swinv2.encoder.layers.2.blocks.0.layernorm_before.bias', 'swinv2.encoder.layers.2.blocks.5.attention.output.dense.bias', 'swinv2.encoder.layers.3.blocks.0.attention.self.value.weight', 'swinv2.encoder.layers.2.blocks.1.layernorm_before.bias', 'swinv2.encoder.layers.3.blocks.1.attention.self.continuous_position_bias_mlp.0.weight', 'swinv2.encoder.layers.3.blocks.1.attention.output.dense.bias', 'swinv2.encoder.layers.2.blocks.2.attention.self.continuous_position_bias_mlp.0.weight', 'swinv2.encoder.layers.0.blocks.0.attention.self.key.weight', 'swinv2.encoder.layers.1.blocks.1.attention.output.dense.weight', 'swinv2.encoder.layers.1.blocks.0.output.dense.weight', 'swinv2.encoder.layers.2.blocks.0.intermediate.dense.bias', 'swinv2.encoder.layers.1.blocks.0.attention.self.value.bias', 'swinv2.encoder.layers.1.blocks.1.attention.self.query.weight', 'swinv2.encoder.layers.2.blocks.3.layernorm_after.weight', 'swinv2.encoder.layers.0.blocks.1.output.dense.weight', 'swinv2.encoder.layers.1.blocks.0.attention.output.dense.bias', 'swinv2.encoder.layers.1.blocks.0.layernorm_before.weight', 'swinv2.encoder.layers.2.blocks.1.attention.self.continuous_position_bias_mlp.0.weight', 'swinv2.encoder.layers.2.blocks.3.attention.output.dense.bias', 'swinv2.encoder.layers.2.blocks.4.attention.self.key.weight', 'swinv2.encoder.layers.2.downsample.reduction.weight', 'swinv2.encoder.layers.0.downsample.norm.bias', 'swinv2.encoder.layers.0.blocks.1.intermediate.dense.weight', 'swinv2.encoder.layers.1.blocks.0.attention.output.dense.weight', 'swinv2.encoder.layers.2.blocks.2.output.dense.bias', 'swinv2.encoder.layers.2.blocks.5.output.dense.bias', 'swinv2.encoder.layers.3.blocks.1.intermediate.dense.bias', 'swinv2.encoder.layers.3.blocks.0.attention.self.continuous_position_bias_mlp.0.weight', 'swinv2.encoder.layers.2.blocks.2.attention.self.query.bias', 'swinv2.encoder.layers.3.blocks.0.attention.self.query.bias', 'swinv2.encoder.layers.3.blocks.0.layernorm_after.weight', 'swinv2.encoder.layers.1.blocks.1.attention.self.value.weight', 'swinv2.encoder.layers.3.blocks.0.output.dense.weight', 'swinv2.embeddings.patch_embeddings.projection.weight', 'swinv2.encoder.layers.0.blocks.1.attention.self.continuous_position_bias_mlp.0.bias', 'swinv2.encoder.layers.0.blocks.1.attention.self.key.weight', 'swinv2.encoder.layers.2.blocks.0.attention.output.dense.weight', 'swinv2.encoder.layers.1.downsample.norm.bias', 'swinv2.encoder.layers.1.blocks.1.attention.self.continuous_position_bias_mlp.0.weight', 'swinv2.encoder.layers.0.blocks.1.attention.self.logit_scale', 'swinv2.encoder.layers.3.blocks.1.output.dense.weight', 'swinv2.encoder.layers.0.blocks.0.attention.self.value.weight', 'swinv2.encoder.layers.1.blocks.1.attention.self.value.bias', 'swinv2.encoder.layers.1.blocks.0.attention.self.query.bias', 'swinv2.encoder.layers.2.blocks.1.attention.self.query.bias', 'swinv2.encoder.layers.2.blocks.3.intermediate.dense.weight', 'swinv2.encoder.layers.1.blocks.1.layernorm_before.weight', 'swinv2.encoder.layers.2.blocks.3.layernorm_after.bias', 'swinv2.encoder.layers.2.blocks.5.attention.self.value.bias', 'swinv2.encoder.layers.0.blocks.0.attention.self.value.bias', 'swinv2.encoder.layers.0.downsample.norm.weight', 'swinv2.encoder.layers.2.blocks.5.attention.self.continuous_position_bias_mlp.2.weight', 'swinv2.encoder.layers.2.blocks.4.attention.self.continuous_position_bias_mlp.2.weight', 'swinv2.encoder.layers.2.blocks.2.layernorm_before.weight', 'swinv2.encoder.layers.2.blocks.0.output.dense.bias', 'swinv2.encoder.layers.1.blocks.1.layernorm_after.bias', 'swinv2.encoder.layers.2.blocks.1.attention.self.value.weight', 'swinv2.encoder.layers.0.blocks.0.layernorm_before.bias', 'swinv2.encoder.layers.1.blocks.1.attention.self.query.bias', 'swinv2.encoder.layers.2.blocks.3.attention.self.continuous_position_bias_mlp.0.weight', 'swinv2.encoder.layers.2.blocks.3.intermediate.dense.bias', 'swinv2.encoder.layers.2.blocks.1.attention.self.value.bias', 'swinv2.encoder.layers.2.blocks.3.attention.self.continuous_position_bias_mlp.0.bias', 'swinv2.encoder.layers.3.blocks.0.attention.self.key.weight', 'swinv2.encoder.layers.3.blocks.1.attention.self.key.weight', 'swinv2.encoder.layers.1.blocks.0.attention.self.continuous_position_bias_mlp.2.weight', 'swinv2.encoder.layers.0.blocks.1.attention.self.query.bias', 'swinv2.encoder.layers.2.blocks.0.attention.output.dense.bias', 'swinv2.encoder.layers.0.blocks.1.output.dense.bias', 'swinv2.encoder.layers.3.blocks.0.attention.self.logit_scale', 'swinv2.encoder.layers.2.blocks.5.attention.self.logit_scale', 'swinv2.encoder.layers.1.downsample.reduction.weight', 'swinv2.encoder.layers.2.blocks.0.output.dense.weight', 'swinv2.encoder.layers.0.blocks.1.attention.output.dense.bias', 'swinv2.encoder.layers.2.blocks.2.intermediate.dense.weight', 'swinv2.encoder.layers.2.blocks.2.attention.self.value.weight', 'swinv2.encoder.layers.2.blocks.3.attention.output.dense.weight', 'swinv2.encoder.layers.2.blocks.4.output.dense.bias', 'swinv2.encoder.layers.3.blocks.1.attention.self.value.bias', 'swinv2.encoder.layers.2.blocks.0.attention.self.key.weight', 'swinv2.encoder.layers.2.blocks.4.attention.self.query.bias', 'swinv2.encoder.layers.2.blocks.4.intermediate.dense.weight', 'swinv2.encoder.layers.2.blocks.3.layernorm_before.weight', 'swinv2.encoder.layers.2.blocks.5.attention.self.query.weight', 'swinv2.encoder.layers.2.blocks.2.attention.self.logit_scale', 'swinv2.encoder.layers.2.blocks.3.output.dense.bias', 'swinv2.encoder.layers.2.blocks.5.attention.self.key.weight', 'swinv2.encoder.layers.3.blocks.1.attention.output.dense.weight', 'swinv2.encoder.layers.2.blocks.4.layernorm_before.bias', 'swinv2.encoder.layers.2.blocks.0.attention.self.continuous_position_bias_mlp.2.weight', 'swinv2.encoder.layers.0.blocks.1.attention.self.value.weight', 'swinv2.encoder.layers.3.blocks.1.attention.self.value.weight', 'swinv2.encoder.layers.2.blocks.5.layernorm_after.bias', 'swinv2.encoder.layers.0.blocks.0.layernorm_after.bias', 'swinv2.encoder.layers.1.blocks.0.layernorm_after.weight', 'swinv2.encoder.layers.2.blocks.4.attention.self.query.weight', 'swinv2.encoder.layers.0.blocks.0.layernorm_after.weight', 'swinv2.encoder.layers.2.blocks.4.attention.output.dense.weight', 'swinv2.encoder.layers.2.blocks.1.layernorm_after.bias', 'swinv2.encoder.layers.2.blocks.2.output.dense.weight', 'swinv2.encoder.layers.2.blocks.3.attention.self.key.weight', 'swinv2.encoder.layers.0.blocks.1.attention.self.continuous_position_bias_mlp.0.weight', 'swinv2.encoder.layers.2.blocks.3.attention.self.continuous_position_bias_mlp.2.weight', 'swinv2.encoder.layers.2.blocks.4.layernorm_after.weight', 'swinv2.embeddings.norm.weight', 'swinv2.encoder.layers.1.blocks.0.intermediate.dense.weight', 'swinv2.encoder.layers.0.blocks.0.attention.self.query.weight', 'swinv2.encoder.layers.0.blocks.0.attention.self.continuous_position_bias_mlp.0.weight', 'swinv2.encoder.layers.2.blocks.3.attention.self.value.weight', 'swinv2.encoder.layers.1.blocks.0.attention.self.query.weight', 'swinv2.encoder.layers.2.blocks.4.attention.output.dense.bias', 'swinv2.encoder.layers.0.blocks.1.layernorm_before.weight', 'swinv2.encoder.layers.2.blocks.5.attention.self.continuous_position_bias_mlp.0.bias', 'swinv2.encoder.layers.2.blocks.5.intermediate.dense.weight', 'swinv2.encoder.layers.1.blocks.1.attention.self.continuous_position_bias_mlp.0.bias', 'swinv2.encoder.layers.2.blocks.2.attention.self.key.weight', 'swinv2.encoder.layers.3.blocks.0.attention.self.continuous_position_bias_mlp.0.bias', 'swinv2.encoder.layers.2.blocks.0.layernorm_after.weight', 'swinv2.encoder.layers.2.blocks.1.attention.output.dense.weight', 'swinv2.encoder.layers.3.blocks.0.attention.output.dense.bias', 'swinv2.encoder.layers.2.blocks.1.intermediate.dense.bias', 'swinv2.encoder.layers.2.blocks.5.output.dense.weight', 'swinv2.encoder.layers.0.blocks.0.intermediate.dense.weight', 'swinv2.encoder.layers.2.blocks.0.attention.self.query.weight', 'swinv2.encoder.layers.1.blocks.1.layernorm_after.weight', 'swinv2.encoder.layers.2.blocks.3.attention.self.value.bias', 'swinv2.encoder.layers.0.blocks.1.attention.self.query.weight', 'swinv2.encoder.layers.3.blocks.1.attention.self.query.bias', 'swinv2.encoder.layers.0.blocks.0.output.dense.weight', 'swinv2.encoder.layers.2.blocks.1.output.dense.bias', 'swinv2.encoder.layers.2.blocks.4.attention.self.value.weight', 'swinv2.encoder.layers.1.blocks.1.attention.self.logit_scale', 'swinv2.embeddings.norm.bias', 'swinv2.encoder.layers.2.blocks.1.attention.self.query.weight', 'swinv2.encoder.layers.3.blocks.1.attention.self.continuous_position_bias_mlp.2.weight', 'swinv2.encoder.layers.1.blocks.0.output.dense.bias', 'swinv2.encoder.layers.3.blocks.0.intermediate.dense.bias', 'swinv2.encoder.layers.2.blocks.2.intermediate.dense.bias', 'swinv2.encoder.layers.2.blocks.2.attention.self.value.bias', 'swinv2.encoder.layers.2.blocks.2.attention.output.dense.weight', 'swinv2.encoder.layers.3.blocks.1.layernorm_after.weight', 'swinv2.encoder.layers.0.blocks.1.layernorm_before.bias', 'swinv2.encoder.layers.0.blocks.1.attention.output.dense.weight', 'swinv2.encoder.layers.3.blocks.1.attention.self.continuous_position_bias_mlp.0.bias', 'swinv2.encoder.layers.1.blocks.1.output.dense.bias', 'swinv2.encoder.layers.2.downsample.norm.bias', 'swinv2.encoder.layers.3.blocks.0.attention.self.value.bias', 'swinv2.encoder.layers.3.blocks.0.attention.self.query.weight', 'swinv2.encoder.layers.2.blocks.1.intermediate.dense.weight', 'swinv2.encoder.layers.2.blocks.2.attention.self.query.weight', 'swinv2.encoder.layers.0.downsample.reduction.weight', 'swinv2.encoder.layers.2.blocks.3.output.dense.weight', 'swinv2.encoder.layers.3.blocks.0.layernorm_after.bias', 'swinv2.encoder.layers.3.blocks.0.output.dense.bias', 'swinv2.encoder.layers.1.blocks.0.attention.self.continuous_position_bias_mlp.0.bias', 'swinv2.encoder.layers.2.blocks.5.layernorm_before.weight', 'swinv2.encoder.layers.2.blocks.0.attention.self.logit_scale', 'swinv2.encoder.layers.3.blocks.1.intermediate.dense.weight', 'swinv2.encoder.layers.1.blocks.0.attention.self.logit_scale', 'swinv2.encoder.layers.1.blocks.0.attention.self.continuous_position_bias_mlp.0.weight', 'swinv2.encoder.layers.2.blocks.5.attention.self.continuous_position_bias_mlp.0.weight', 'swinv2.encoder.layers.2.blocks.2.attention.self.continuous_position_bias_mlp.2.weight', 'swinv2.encoder.layers.2.blocks.1.attention.self.logit_scale', 'swinv2.encoder.layers.0.blocks.0.output.dense.bias', 'swinv2.encoder.layers.2.blocks.5.layernorm_before.bias', 'swinv2.encoder.layers.0.blocks.1.intermediate.dense.bias', 'swinv2.encoder.layers.2.blocks.1.layernorm_after.weight', 'swinv2.encoder.layers.2.blocks.2.layernorm_before.bias', 'swinv2.encoder.layers.3.blocks.0.attention.output.dense.weight', 'swinv2.encoder.layers.0.blocks.0.attention.self.query.bias', 'swinv2.encoder.layers.2.blocks.5.intermediate.dense.bias', 'swinv2.encoder.layers.2.blocks.4.output.dense.weight', 'swinv2.encoder.layers.1.blocks.0.attention.self.value.weight', 'swinv2.encoder.layers.1.blocks.0.attention.self.key.weight', 'swinv2.encoder.layers.2.blocks.1.attention.self.continuous_position_bias_mlp.0.bias', 'swinv2.encoder.layers.2.blocks.5.layernorm_after.weight', 'swinv2.encoder.layers.2.blocks.3.attention.self.logit_scale', 'swinv2.encoder.layers.2.blocks.0.layernorm_before.weight', 'swinv2.encoder.layers.2.blocks.5.attention.self.query.bias', 'swinv2.encoder.layers.3.blocks.1.layernorm_before.bias', 'swinv2.encoder.layers.2.blocks.0.attention.self.value.bias', 'swinv2.encoder.layers.2.blocks.4.intermediate.dense.bias', 'swinv2.embeddings.patch_embeddings.projection.bias', 'swinv2.encoder.layers.2.blocks.3.attention.self.query.bias', 'swinv2.encoder.layers.3.blocks.1.attention.self.logit_scale', 'swinv2.encoder.layers.0.blocks.1.layernorm_after.weight', 'swinv2.encoder.layers.2.blocks.1.attention.self.continuous_position_bias_mlp.2.weight', 'swinv2.encoder.layers.0.blocks.1.attention.self.value.bias', 'swinv2.encoder.layers.2.blocks.3.layernorm_before.bias', 'swinv2.encoder.layers.1.blocks.1.intermediate.dense.weight', 'swinv2.encoder.layers.1.downsample.norm.weight', 'swinv2.encoder.layers.3.blocks.1.output.dense.bias', 'swinv2.encoder.layers.2.blocks.0.attention.self.continuous_position_bias_mlp.0.weight', 'swinv2.encoder.layers.2.blocks.2.attention.output.dense.bias', 'swinv2.encoder.layers.2.blocks.2.attention.self.continuous_position_bias_mlp.0.bias', 'swinv2.encoder.layers.1.blocks.0.layernorm_after.bias', 'swinv2.encoder.layers.2.blocks.4.attention.self.logit_scale', 'swinv2.encoder.layers.2.downsample.norm.weight', 'swinv2.encoder.layers.3.blocks.1.layernorm_before.weight', 'swinv2.layernorm.weight', 'swinv2.encoder.layers.0.blocks.1.layernorm_after.bias', 'swinv2.encoder.layers.0.blocks.0.attention.self.continuous_position_bias_mlp.2.weight', 'swinv2.encoder.layers.0.blocks.1.attention.self.continuous_position_bias_mlp.2.weight', 'swinv2.encoder.layers.1.blocks.1.attention.self.key.weight', 'swinv2.encoder.layers.2.blocks.5.attention.self.value.weight', 'swinv2.encoder.layers.3.blocks.0.layernorm_before.bias', 'swinv2.encoder.layers.0.blocks.0.layernorm_before.weight', 'swinv2.encoder.layers.2.blocks.4.attention.self.continuous_position_bias_mlp.0.weight', 'swinv2.encoder.layers.2.blocks.2.layernorm_after.weight', 'swinv2.encoder.layers.2.blocks.4.attention.self.continuous_position_bias_mlp.0.bias', 'swinv2.encoder.layers.2.blocks.0.intermediate.dense.weight', 'swinv2.encoder.layers.1.blocks.1.attention.self.continuous_position_bias_mlp.2.weight', 'swinv2.encoder.layers.3.blocks.0.layernorm_before.weight', 'swinv2.encoder.layers.0.blocks.0.attention.output.dense.bias', 'swinv2.encoder.layers.1.blocks.1.intermediate.dense.bias', 'swinv2.encoder.layers.2.blocks.0.attention.self.query.bias', 'swinv2.encoder.layers.2.blocks.0.attention.self.value.weight', 'swinv2.encoder.layers.3.blocks.0.attention.self.continuous_position_bias_mlp.2.weight', 'swinv2.encoder.layers.0.blocks.0.attention.self.continuous_position_bias_mlp.0.bias', 'swinv2.encoder.layers.2.blocks.5.attention.output.dense.weight', 'swinv2.encoder.layers.1.blocks.0.layernorm_before.bias', 'swinv2.encoder.layers.1.blocks.1.attention.output.dense.bias', 'swinv2.encoder.layers.1.blocks.1.layernorm_before.bias', 'swinv2.encoder.layers.0.blocks.0.attention.self.logit_scale', 'swinv2.encoder.layers.2.blocks.1.output.dense.weight', 'swinv2.encoder.layers.2.blocks.2.layernorm_after.bias', 'swinv2.encoder.layers.0.blocks.0.attention.output.dense.weight', 'swinv2.encoder.layers.2.blocks.4.layernorm_before.weight', 'swinv2.encoder.layers.1.blocks.0.intermediate.dense.bias', 'swinv2.encoder.layers.0.blocks.0.intermediate.dense.bias', 'swinv2.encoder.layers.2.blocks.4.layernorm_after.bias', 'swinv2.encoder.layers.1.blocks.1.output.dense.weight', 'swinv2.encoder.layers.3.blocks.1.attention.self.query.weight', 'swinv2.encoder.layers.2.blocks.1.layernorm_before.weight', 'swinv2.encoder.layers.2.blocks.0.attention.self.continuous_position_bias_mlp.0.bias', 'swinv2.encoder.layers.2.blocks.1.attention.output.dense.bias', 'swinv2.encoder.layers.3.blocks.0.intermediate.dense.weight', 'swinv2.layernorm.bias', 'swinv2.encoder.layers.2.blocks.3.attention.self.query.weight']\n",
      "- This IS expected if you are initializing SwinForImageClassification from the checkpoint of a model trained on another task or with another architecture (e.g. initializing a BertForSequenceClassification model from a BertForPreTraining model).\n",
      "- This IS NOT expected if you are initializing SwinForImageClassification from the checkpoint of a model that you expect to be exactly identical (initializing a BertForSequenceClassification model from a BertForSequenceClassification model).\n",
      "Some weights of SwinForImageClassification were not initialized from the model checkpoint at microsoft/swinv2-tiny-patch4-window8-256 and are newly initialized: ['swin.encoder.layers.1.downsample.reduction.weight', 'swin.encoder.layers.3.blocks.0.attention.self.query.bias', 'swin.encoder.layers.2.blocks.2.attention.output.dense.weight', 'swin.encoder.layers.2.blocks.5.attention.self.value.weight', 'swin.encoder.layers.2.blocks.4.attention.self.value.weight', 'swin.encoder.layers.2.blocks.0.attention.self.query.bias', 'swin.encoder.layers.2.blocks.1.attention.self.relative_position_bias_table', 'swin.encoder.layers.3.blocks.1.layernorm_after.weight', 'swin.encoder.layers.2.blocks.0.attention.self.relative_position_bias_table', 'swin.encoder.layers.1.blocks.1.intermediate.dense.bias', 'swin.encoder.layers.2.blocks.2.layernorm_before.weight', 'swin.encoder.layers.2.blocks.0.intermediate.dense.bias', 'swin.encoder.layers.2.blocks.5.attention.self.key.bias', 'swin.encoder.layers.1.blocks.0.layernorm_after.bias', 'swin.encoder.layers.3.blocks.0.layernorm_after.bias', 'swin.encoder.layers.0.blocks.0.intermediate.dense.weight', 'swin.encoder.layers.2.blocks.3.layernorm_after.bias', 'swin.encoder.layers.2.blocks.4.layernorm_before.bias', 'swin.encoder.layers.3.blocks.0.attention.output.dense.bias', 'swin.encoder.layers.2.blocks.0.attention.self.value.bias', 'swin.encoder.layers.2.blocks.1.attention.self.key.weight', 'swin.encoder.layers.2.blocks.5.intermediate.dense.weight', 'swin.encoder.layers.2.blocks.1.attention.self.relative_position_index', 'swin.encoder.layers.2.blocks.2.intermediate.dense.weight', 'swin.encoder.layers.2.blocks.4.attention.self.value.bias', 'swin.encoder.layers.1.blocks.1.layernorm_after.bias', 'swin.encoder.layers.1.blocks.0.intermediate.dense.weight', 'swin.encoder.layers.2.blocks.0.output.dense.weight', 'swin.encoder.layers.3.blocks.0.layernorm_after.weight', 'swin.encoder.layers.1.blocks.0.attention.self.key.weight', 'swin.encoder.layers.2.blocks.3.intermediate.dense.bias', 'swin.encoder.layers.2.blocks.3.layernorm_before.weight', 'swin.encoder.layers.3.blocks.0.attention.self.query.weight', 'swin.encoder.layers.2.blocks.3.attention.self.query.bias', 'swin.embeddings.patch_embeddings.projection.weight', 'swin.encoder.layers.2.blocks.1.intermediate.dense.weight', 'swin.embeddings.norm.bias', 'swin.encoder.layers.0.blocks.1.output.dense.weight', 'swin.encoder.layers.2.blocks.0.attention.self.query.weight', 'swin.encoder.layers.2.blocks.4.layernorm_after.weight', 'swin.encoder.layers.3.blocks.1.attention.self.relative_position_index', 'swin.encoder.layers.2.blocks.2.attention.output.dense.bias', 'swin.encoder.layers.3.blocks.1.attention.output.dense.weight', 'swin.encoder.layers.1.blocks.0.layernorm_before.weight', 'swin.encoder.layers.2.blocks.0.attention.output.dense.bias', 'swin.encoder.layers.3.blocks.1.attention.self.query.weight', 'swin.encoder.layers.3.blocks.1.attention.self.key.weight', 'swin.encoder.layers.0.blocks.1.attention.self.query.bias', 'swin.encoder.layers.1.blocks.1.layernorm_before.bias', 'swin.encoder.layers.2.blocks.0.output.dense.bias', 'swin.encoder.layers.3.blocks.0.output.dense.bias', 'swin.encoder.layers.3.blocks.1.intermediate.dense.weight', 'swin.encoder.layers.2.blocks.3.attention.self.relative_position_index', 'swin.encoder.layers.2.blocks.5.layernorm_after.bias', 'swin.encoder.layers.1.blocks.1.attention.self.value.bias', 'swin.encoder.layers.2.blocks.4.attention.output.dense.bias', 'swin.encoder.layers.0.blocks.1.attention.self.key.bias', 'swin.layernorm.bias', 'swin.encoder.layers.0.blocks.1.attention.self.relative_position_bias_table', 'swin.encoder.layers.1.downsample.norm.weight', 'swin.encoder.layers.1.blocks.0.intermediate.dense.bias', 'swin.encoder.layers.1.blocks.1.layernorm_before.weight', 'swin.encoder.layers.2.blocks.5.attention.self.value.bias', 'swin.encoder.layers.2.blocks.4.attention.self.query.weight', 'swin.encoder.layers.2.blocks.5.attention.self.relative_position_bias_table', 'swin.encoder.layers.2.blocks.1.layernorm_after.bias', 'swin.encoder.layers.3.blocks.1.attention.self.value.weight', 'swin.encoder.layers.2.downsample.norm.bias', 'swin.encoder.layers.2.blocks.0.attention.self.key.bias', 'swin.encoder.layers.2.blocks.5.attention.output.dense.bias', 'swin.encoder.layers.2.blocks.2.layernorm_after.weight', 'swin.layernorm.weight', 'swin.encoder.layers.1.blocks.0.attention.self.key.bias', 'swin.encoder.layers.2.blocks.2.output.dense.weight', 'swin.encoder.layers.2.blocks.5.attention.self.relative_position_index', 'swin.encoder.layers.3.blocks.1.attention.self.relative_position_bias_table', 'swin.encoder.layers.3.blocks.1.attention.output.dense.bias', 'swin.encoder.layers.1.blocks.0.attention.output.dense.weight', 'swin.encoder.layers.3.blocks.0.attention.self.value.bias', 'swin.encoder.layers.2.blocks.1.attention.output.dense.weight', 'swin.encoder.layers.0.blocks.0.attention.self.relative_position_bias_table', 'swin.encoder.layers.2.blocks.2.attention.self.relative_position_bias_table', 'swin.encoder.layers.0.blocks.1.attention.self.query.weight', 'swin.encoder.layers.2.blocks.3.attention.output.dense.weight', 'swin.encoder.layers.2.blocks.4.layernorm_before.weight', 'swin.encoder.layers.2.blocks.0.layernorm_before.weight', 'swin.encoder.layers.1.blocks.0.layernorm_after.weight', 'swin.encoder.layers.1.blocks.0.layernorm_before.bias', 'swin.encoder.layers.0.blocks.1.layernorm_before.weight', 'swin.encoder.layers.3.blocks.1.intermediate.dense.bias', 'swin.encoder.layers.2.downsample.reduction.weight', 'swin.encoder.layers.2.blocks.3.attention.self.relative_position_bias_table', 'swin.encoder.layers.2.blocks.1.layernorm_before.weight', 'swin.encoder.layers.2.blocks.5.output.dense.bias', 'swin.encoder.layers.1.blocks.0.output.dense.bias', 'swin.encoder.layers.2.blocks.1.attention.self.key.bias', 'swin.encoder.layers.1.blocks.0.attention.self.value.weight', 'swin.encoder.layers.1.blocks.0.attention.self.value.bias', 'swin.encoder.layers.2.blocks.1.attention.self.value.bias', 'swin.encoder.layers.0.blocks.0.output.dense.bias', 'swin.encoder.layers.2.blocks.0.attention.self.key.weight', 'swin.encoder.layers.1.blocks.0.attention.output.dense.bias', 'swin.encoder.layers.2.blocks.3.attention.self.value.bias', 'swin.encoder.layers.3.blocks.1.attention.self.value.bias', 'swin.encoder.layers.1.blocks.1.attention.self.key.weight', 'swin.encoder.layers.2.blocks.4.intermediate.dense.weight', 'swin.encoder.layers.3.blocks.0.layernorm_before.bias', 'swin.encoder.layers.1.blocks.1.intermediate.dense.weight', 'swin.encoder.layers.2.blocks.1.attention.self.value.weight', 'swin.encoder.layers.2.blocks.4.attention.output.dense.weight', 'swin.encoder.layers.2.blocks.4.output.dense.weight', 'swin.encoder.layers.3.blocks.0.attention.self.relative_position_index', 'swin.encoder.layers.1.blocks.1.layernorm_after.weight', 'swin.encoder.layers.1.blocks.1.output.dense.bias', 'swin.encoder.layers.0.blocks.1.intermediate.dense.weight', 'swin.encoder.layers.3.blocks.1.layernorm_after.bias', 'swin.encoder.layers.2.blocks.4.layernorm_after.bias', 'swin.embeddings.norm.weight', 'swin.encoder.layers.0.blocks.1.attention.self.key.weight', 'swin.encoder.layers.2.blocks.0.attention.output.dense.weight', 'swin.encoder.layers.3.blocks.0.attention.self.key.weight', 'swin.encoder.layers.0.blocks.0.attention.self.value.weight', 'swin.encoder.layers.1.blocks.0.output.dense.weight', 'swin.encoder.layers.0.blocks.0.layernorm_after.bias', 'swin.encoder.layers.2.blocks.1.attention.self.query.bias', 'swin.encoder.layers.2.blocks.5.attention.self.key.weight', 'swin.encoder.layers.3.blocks.0.attention.output.dense.weight', 'swin.encoder.layers.1.blocks.1.attention.self.relative_position_bias_table', 'swin.encoder.layers.0.blocks.0.output.dense.weight', 'swin.encoder.layers.2.blocks.0.attention.self.value.weight', 'swin.encoder.layers.2.blocks.2.intermediate.dense.bias', 'swin.encoder.layers.0.blocks.1.attention.output.dense.bias', 'swin.encoder.layers.2.blocks.3.layernorm_before.bias', 'swin.encoder.layers.3.blocks.1.output.dense.bias', 'swin.encoder.layers.3.blocks.1.attention.self.query.bias', 'swin.encoder.layers.0.downsample.norm.weight', 'swin.encoder.layers.1.blocks.1.attention.self.query.weight', 'swin.encoder.layers.3.blocks.0.attention.self.value.weight', 'swin.encoder.layers.2.blocks.3.attention.self.key.weight', 'swin.encoder.layers.0.blocks.0.attention.self.query.weight', 'swin.encoder.layers.2.blocks.0.layernorm_before.bias', 'swin.encoder.layers.2.blocks.5.intermediate.dense.bias', 'swin.encoder.layers.2.blocks.4.attention.self.key.bias', 'swin.encoder.layers.0.blocks.0.attention.output.dense.bias', 'swin.encoder.layers.2.blocks.0.intermediate.dense.weight', 'swin.encoder.layers.0.downsample.reduction.weight', 'swin.encoder.layers.2.blocks.2.attention.self.value.weight', 'swin.encoder.layers.2.blocks.5.layernorm_before.bias', 'swin.encoder.layers.0.blocks.1.layernorm_after.bias', 'swin.encoder.layers.0.downsample.norm.bias', 'swin.encoder.layers.1.blocks.1.attention.self.query.bias', 'swin.encoder.layers.2.blocks.2.layernorm_before.bias', 'swin.encoder.layers.1.blocks.0.attention.self.query.bias', 'swin.encoder.layers.0.blocks.1.intermediate.dense.bias', 'swin.encoder.layers.1.blocks.1.attention.self.value.weight', 'swin.encoder.layers.3.blocks.0.output.dense.weight', 'swin.encoder.layers.0.blocks.0.layernorm_before.bias', 'swin.encoder.layers.2.blocks.3.attention.output.dense.bias', 'swin.encoder.layers.2.blocks.3.attention.self.query.weight', 'swin.encoder.layers.3.blocks.0.attention.self.relative_position_bias_table', 'swin.encoder.layers.1.blocks.1.attention.output.dense.weight', 'swin.encoder.layers.2.blocks.2.output.dense.bias', 'swin.encoder.layers.3.blocks.0.attention.self.key.bias', 'swin.encoder.layers.0.blocks.0.attention.self.relative_position_index', 'swin.encoder.layers.2.blocks.2.layernorm_after.bias', 'swin.encoder.layers.2.blocks.1.output.dense.bias', 'swin.encoder.layers.2.blocks.3.intermediate.dense.weight', 'swin.encoder.layers.3.blocks.0.layernorm_before.weight', 'swin.encoder.layers.2.blocks.2.attention.self.query.bias', 'swin.encoder.layers.2.blocks.4.attention.self.query.bias', 'swin.encoder.layers.0.blocks.0.attention.self.value.bias', 'swin.encoder.layers.2.blocks.0.layernorm_after.bias', 'swin.encoder.layers.2.blocks.2.attention.self.query.weight', 'swin.encoder.layers.2.blocks.3.output.dense.weight', 'swin.encoder.layers.0.blocks.0.attention.self.key.weight', 'swin.encoder.layers.3.blocks.1.layernorm_before.weight', 'swin.encoder.layers.0.blocks.1.output.dense.bias', 'swin.encoder.layers.3.blocks.0.intermediate.dense.weight', 'swin.encoder.layers.1.blocks.1.attention.self.key.bias', 'swin.encoder.layers.0.blocks.0.attention.self.query.bias', 'swin.encoder.layers.2.blocks.2.attention.self.key.bias', 'swin.encoder.layers.2.downsample.norm.weight', 'swin.encoder.layers.3.blocks.0.intermediate.dense.bias', 'swin.encoder.layers.0.blocks.1.attention.output.dense.weight', 'swin.encoder.layers.2.blocks.0.layernorm_after.weight', 'swin.encoder.layers.0.blocks.1.attention.self.value.weight', 'swin.encoder.layers.2.blocks.4.attention.self.relative_position_index', 'swin.encoder.layers.2.blocks.2.attention.self.relative_position_index', 'swin.encoder.layers.2.blocks.3.output.dense.bias', 'swin.encoder.layers.2.blocks.4.output.dense.bias', 'swin.encoder.layers.2.blocks.4.attention.self.key.weight', 'swin.encoder.layers.3.blocks.1.attention.self.key.bias', 'swin.encoder.layers.2.blocks.1.attention.output.dense.bias', 'swin.encoder.layers.2.blocks.1.intermediate.dense.bias', 'swin.encoder.layers.0.blocks.0.attention.output.dense.weight', 'swin.encoder.layers.2.blocks.0.attention.self.relative_position_index', 'swin.encoder.layers.2.blocks.3.attention.self.value.weight', 'swin.encoder.layers.0.blocks.0.intermediate.dense.bias', 'swin.encoder.layers.3.blocks.1.layernorm_before.bias', 'swin.encoder.layers.0.blocks.1.layernorm_after.weight', 'swin.encoder.layers.2.blocks.2.attention.self.value.bias', 'swin.encoder.layers.2.blocks.4.attention.self.relative_position_bias_table', 'swin.encoder.layers.2.blocks.3.attention.self.key.bias', 'swin.encoder.layers.2.blocks.5.output.dense.weight', 'swin.encoder.layers.0.blocks.0.attention.self.key.bias', 'swin.encoder.layers.1.blocks.0.attention.self.relative_position_bias_table', 'swin.encoder.layers.1.downsample.norm.bias', 'swin.encoder.layers.2.blocks.5.attention.output.dense.weight', 'swin.encoder.layers.2.blocks.5.attention.self.query.weight', 'swin.encoder.layers.2.blocks.2.attention.self.key.weight', 'swin.encoder.layers.1.blocks.0.attention.self.relative_position_index', 'swin.encoder.layers.0.blocks.1.attention.self.relative_position_index', 'swin.encoder.layers.0.blocks.0.layernorm_before.weight', 'swin.encoder.layers.2.blocks.1.attention.self.query.weight', 'swin.encoder.layers.2.blocks.3.layernorm_after.weight', 'swin.encoder.layers.2.blocks.5.attention.self.query.bias', 'swin.encoder.layers.1.blocks.1.attention.output.dense.bias', 'swin.encoder.layers.2.blocks.1.layernorm_after.weight', 'swin.encoder.layers.2.blocks.4.intermediate.dense.bias', 'swin.encoder.layers.2.blocks.5.layernorm_after.weight', 'swin.encoder.layers.2.blocks.1.output.dense.weight', 'swin.encoder.layers.0.blocks.1.attention.self.value.bias', 'swin.encoder.layers.3.blocks.1.output.dense.weight', 'swin.encoder.layers.2.blocks.5.layernorm_before.weight', 'swin.encoder.layers.2.blocks.1.layernorm_before.bias', 'swin.encoder.layers.1.blocks.1.output.dense.weight', 'swin.encoder.layers.0.blocks.0.layernorm_after.weight', 'swin.encoder.layers.0.blocks.1.layernorm_before.bias', 'swin.encoder.layers.1.blocks.1.attention.self.relative_position_index', 'swin.embeddings.patch_embeddings.projection.bias', 'swin.encoder.layers.1.blocks.0.attention.self.query.weight']\n",
      "You should probably TRAIN this model on a down-stream task to be able to use it for predictions and inference.\n"
     ]
    }
   ],
   "source": [
    "from transformers import AutoFeatureExtractor, SwinForImageClassification\n",
    "\n",
    "# 加载特征提取器\n",
    "feature_extractor = AutoFeatureExtractor.from_pretrained(\"microsoft/swinv2-tiny-patch4-window8-256\")\n",
    "\n",
    "# 加载预训练的Swin Transformer模型\n",
    "model = SwinForImageClassification.from_pretrained(\"microsoft/swinv2-tiny-patch4-window8-256\")\n"
   ]
  },
  {
   "cell_type": "code",
   "execution_count": 2,
   "metadata": {
    "collapsed": true,
    "jupyter": {
     "outputs_hidden": true
    },
    "tags": []
   },
   "outputs": [
    {
     "data": {
      "application/vnd.jupyter.widget-view+json": {
       "model_id": "6b1aecfc64734d709e5a6d8b571d6660",
       "version_major": 2,
       "version_minor": 0
      },
      "text/plain": [
       "Downloading (…)rocessor_config.json:   0%|          | 0.00/337 [00:00<?, ?B/s]"
      ]
     },
     "metadata": {},
     "output_type": "display_data"
    },
    {
     "data": {
      "application/vnd.jupyter.widget-view+json": {
       "model_id": "fcc1a7a05fc246b8bdc2964c55dc0a7e",
       "version_major": 2,
       "version_minor": 0
      },
      "text/plain": [
       "Downloading config.json:   0%|          | 0.00/1.19k [00:00<?, ?B/s]"
      ]
     },
     "metadata": {},
     "output_type": "display_data"
    },
    {
     "data": {
      "application/vnd.jupyter.widget-view+json": {
       "model_id": "6970206460a9482ba21d694cec94e367",
       "version_major": 2,
       "version_minor": 0
      },
      "text/plain": [
       "Downloading (…)air-Id=KVTP0A1DKRTAX:   0%|          | 0.00/110M [00:00<?, ?B/s]"
      ]
     },
     "metadata": {},
     "output_type": "display_data"
    }
   ],
   "source": [
    "####训练能到80\n",
    "from transformers import AutoFeatureExtractor, SwinForImageClassification\n",
    "\n",
    "# 加载特征提取器\n",
    "feature_extractor = AutoFeatureExtractor.from_pretrained(\"dvs/swin-tiny-patch4-window7-224-uploads-classifier-v2\")\n",
    "\n",
    "# 加载预训练的Swin Transformer模型\n",
    "model = SwinForImageClassification.from_pretrained(\"dvs/swin-tiny-patch4-window7-224-uploads-classifier-v2\")\n"
   ]
  },
  {
   "cell_type": "code",
   "execution_count": 14,
   "metadata": {
    "collapsed": true,
    "jupyter": {
     "outputs_hidden": true
    },
    "tags": []
   },
   "outputs": [
    {
     "data": {
      "text/plain": [
       "SwinForImageClassification(\n",
       "  (swin): SwinModel(\n",
       "    (embeddings): SwinEmbeddings(\n",
       "      (patch_embeddings): SwinPatchEmbeddings(\n",
       "        (projection): Conv2d(3, 96, kernel_size=(4, 4), stride=(4, 4))\n",
       "      )\n",
       "      (norm): LayerNorm((96,), eps=1e-05, elementwise_affine=True)\n",
       "      (dropout): Dropout(p=0.0, inplace=False)\n",
       "    )\n",
       "    (encoder): SwinEncoder(\n",
       "      (layers): ModuleList(\n",
       "        (0): SwinStage(\n",
       "          (blocks): ModuleList(\n",
       "            (0): SwinLayer(\n",
       "              (layernorm_before): LayerNorm((96,), eps=1e-05, elementwise_affine=True)\n",
       "              (attention): SwinAttention(\n",
       "                (self): SwinSelfAttention(\n",
       "                  (query): Linear(in_features=96, out_features=96, bias=True)\n",
       "                  (key): Linear(in_features=96, out_features=96, bias=True)\n",
       "                  (value): Linear(in_features=96, out_features=96, bias=True)\n",
       "                  (dropout): Dropout(p=0.0, inplace=False)\n",
       "                )\n",
       "                (output): SwinSelfOutput(\n",
       "                  (dense): Linear(in_features=96, out_features=96, bias=True)\n",
       "                  (dropout): Dropout(p=0.0, inplace=False)\n",
       "                )\n",
       "              )\n",
       "              (drop_path): SwinDropPath(p=0.1)\n",
       "              (layernorm_after): LayerNorm((96,), eps=1e-05, elementwise_affine=True)\n",
       "              (intermediate): SwinIntermediate(\n",
       "                (dense): Linear(in_features=96, out_features=384, bias=True)\n",
       "                (intermediate_act_fn): GELUActivation()\n",
       "              )\n",
       "              (output): SwinOutput(\n",
       "                (dense): Linear(in_features=384, out_features=96, bias=True)\n",
       "                (dropout): Dropout(p=0.0, inplace=False)\n",
       "              )\n",
       "            )\n",
       "            (1): SwinLayer(\n",
       "              (layernorm_before): LayerNorm((96,), eps=1e-05, elementwise_affine=True)\n",
       "              (attention): SwinAttention(\n",
       "                (self): SwinSelfAttention(\n",
       "                  (query): Linear(in_features=96, out_features=96, bias=True)\n",
       "                  (key): Linear(in_features=96, out_features=96, bias=True)\n",
       "                  (value): Linear(in_features=96, out_features=96, bias=True)\n",
       "                  (dropout): Dropout(p=0.0, inplace=False)\n",
       "                )\n",
       "                (output): SwinSelfOutput(\n",
       "                  (dense): Linear(in_features=96, out_features=96, bias=True)\n",
       "                  (dropout): Dropout(p=0.0, inplace=False)\n",
       "                )\n",
       "              )\n",
       "              (drop_path): SwinDropPath(p=0.1)\n",
       "              (layernorm_after): LayerNorm((96,), eps=1e-05, elementwise_affine=True)\n",
       "              (intermediate): SwinIntermediate(\n",
       "                (dense): Linear(in_features=96, out_features=384, bias=True)\n",
       "                (intermediate_act_fn): GELUActivation()\n",
       "              )\n",
       "              (output): SwinOutput(\n",
       "                (dense): Linear(in_features=384, out_features=96, bias=True)\n",
       "                (dropout): Dropout(p=0.0, inplace=False)\n",
       "              )\n",
       "            )\n",
       "          )\n",
       "          (downsample): SwinPatchMerging(\n",
       "            (reduction): Linear(in_features=384, out_features=192, bias=False)\n",
       "            (norm): LayerNorm((384,), eps=1e-05, elementwise_affine=True)\n",
       "          )\n",
       "        )\n",
       "        (1): SwinStage(\n",
       "          (blocks): ModuleList(\n",
       "            (0): SwinLayer(\n",
       "              (layernorm_before): LayerNorm((192,), eps=1e-05, elementwise_affine=True)\n",
       "              (attention): SwinAttention(\n",
       "                (self): SwinSelfAttention(\n",
       "                  (query): Linear(in_features=192, out_features=192, bias=True)\n",
       "                  (key): Linear(in_features=192, out_features=192, bias=True)\n",
       "                  (value): Linear(in_features=192, out_features=192, bias=True)\n",
       "                  (dropout): Dropout(p=0.0, inplace=False)\n",
       "                )\n",
       "                (output): SwinSelfOutput(\n",
       "                  (dense): Linear(in_features=192, out_features=192, bias=True)\n",
       "                  (dropout): Dropout(p=0.0, inplace=False)\n",
       "                )\n",
       "              )\n",
       "              (drop_path): SwinDropPath(p=0.1)\n",
       "              (layernorm_after): LayerNorm((192,), eps=1e-05, elementwise_affine=True)\n",
       "              (intermediate): SwinIntermediate(\n",
       "                (dense): Linear(in_features=192, out_features=768, bias=True)\n",
       "                (intermediate_act_fn): GELUActivation()\n",
       "              )\n",
       "              (output): SwinOutput(\n",
       "                (dense): Linear(in_features=768, out_features=192, bias=True)\n",
       "                (dropout): Dropout(p=0.0, inplace=False)\n",
       "              )\n",
       "            )\n",
       "            (1): SwinLayer(\n",
       "              (layernorm_before): LayerNorm((192,), eps=1e-05, elementwise_affine=True)\n",
       "              (attention): SwinAttention(\n",
       "                (self): SwinSelfAttention(\n",
       "                  (query): Linear(in_features=192, out_features=192, bias=True)\n",
       "                  (key): Linear(in_features=192, out_features=192, bias=True)\n",
       "                  (value): Linear(in_features=192, out_features=192, bias=True)\n",
       "                  (dropout): Dropout(p=0.0, inplace=False)\n",
       "                )\n",
       "                (output): SwinSelfOutput(\n",
       "                  (dense): Linear(in_features=192, out_features=192, bias=True)\n",
       "                  (dropout): Dropout(p=0.0, inplace=False)\n",
       "                )\n",
       "              )\n",
       "              (drop_path): SwinDropPath(p=0.1)\n",
       "              (layernorm_after): LayerNorm((192,), eps=1e-05, elementwise_affine=True)\n",
       "              (intermediate): SwinIntermediate(\n",
       "                (dense): Linear(in_features=192, out_features=768, bias=True)\n",
       "                (intermediate_act_fn): GELUActivation()\n",
       "              )\n",
       "              (output): SwinOutput(\n",
       "                (dense): Linear(in_features=768, out_features=192, bias=True)\n",
       "                (dropout): Dropout(p=0.0, inplace=False)\n",
       "              )\n",
       "            )\n",
       "          )\n",
       "          (downsample): SwinPatchMerging(\n",
       "            (reduction): Linear(in_features=768, out_features=384, bias=False)\n",
       "            (norm): LayerNorm((768,), eps=1e-05, elementwise_affine=True)\n",
       "          )\n",
       "        )\n",
       "        (2): SwinStage(\n",
       "          (blocks): ModuleList(\n",
       "            (0): SwinLayer(\n",
       "              (layernorm_before): LayerNorm((384,), eps=1e-05, elementwise_affine=True)\n",
       "              (attention): SwinAttention(\n",
       "                (self): SwinSelfAttention(\n",
       "                  (query): Linear(in_features=384, out_features=384, bias=True)\n",
       "                  (key): Linear(in_features=384, out_features=384, bias=True)\n",
       "                  (value): Linear(in_features=384, out_features=384, bias=True)\n",
       "                  (dropout): Dropout(p=0.0, inplace=False)\n",
       "                )\n",
       "                (output): SwinSelfOutput(\n",
       "                  (dense): Linear(in_features=384, out_features=384, bias=True)\n",
       "                  (dropout): Dropout(p=0.0, inplace=False)\n",
       "                )\n",
       "              )\n",
       "              (drop_path): SwinDropPath(p=0.1)\n",
       "              (layernorm_after): LayerNorm((384,), eps=1e-05, elementwise_affine=True)\n",
       "              (intermediate): SwinIntermediate(\n",
       "                (dense): Linear(in_features=384, out_features=1536, bias=True)\n",
       "                (intermediate_act_fn): GELUActivation()\n",
       "              )\n",
       "              (output): SwinOutput(\n",
       "                (dense): Linear(in_features=1536, out_features=384, bias=True)\n",
       "                (dropout): Dropout(p=0.0, inplace=False)\n",
       "              )\n",
       "            )\n",
       "            (1): SwinLayer(\n",
       "              (layernorm_before): LayerNorm((384,), eps=1e-05, elementwise_affine=True)\n",
       "              (attention): SwinAttention(\n",
       "                (self): SwinSelfAttention(\n",
       "                  (query): Linear(in_features=384, out_features=384, bias=True)\n",
       "                  (key): Linear(in_features=384, out_features=384, bias=True)\n",
       "                  (value): Linear(in_features=384, out_features=384, bias=True)\n",
       "                  (dropout): Dropout(p=0.0, inplace=False)\n",
       "                )\n",
       "                (output): SwinSelfOutput(\n",
       "                  (dense): Linear(in_features=384, out_features=384, bias=True)\n",
       "                  (dropout): Dropout(p=0.0, inplace=False)\n",
       "                )\n",
       "              )\n",
       "              (drop_path): SwinDropPath(p=0.1)\n",
       "              (layernorm_after): LayerNorm((384,), eps=1e-05, elementwise_affine=True)\n",
       "              (intermediate): SwinIntermediate(\n",
       "                (dense): Linear(in_features=384, out_features=1536, bias=True)\n",
       "                (intermediate_act_fn): GELUActivation()\n",
       "              )\n",
       "              (output): SwinOutput(\n",
       "                (dense): Linear(in_features=1536, out_features=384, bias=True)\n",
       "                (dropout): Dropout(p=0.0, inplace=False)\n",
       "              )\n",
       "            )\n",
       "            (2): SwinLayer(\n",
       "              (layernorm_before): LayerNorm((384,), eps=1e-05, elementwise_affine=True)\n",
       "              (attention): SwinAttention(\n",
       "                (self): SwinSelfAttention(\n",
       "                  (query): Linear(in_features=384, out_features=384, bias=True)\n",
       "                  (key): Linear(in_features=384, out_features=384, bias=True)\n",
       "                  (value): Linear(in_features=384, out_features=384, bias=True)\n",
       "                  (dropout): Dropout(p=0.0, inplace=False)\n",
       "                )\n",
       "                (output): SwinSelfOutput(\n",
       "                  (dense): Linear(in_features=384, out_features=384, bias=True)\n",
       "                  (dropout): Dropout(p=0.0, inplace=False)\n",
       "                )\n",
       "              )\n",
       "              (drop_path): SwinDropPath(p=0.1)\n",
       "              (layernorm_after): LayerNorm((384,), eps=1e-05, elementwise_affine=True)\n",
       "              (intermediate): SwinIntermediate(\n",
       "                (dense): Linear(in_features=384, out_features=1536, bias=True)\n",
       "                (intermediate_act_fn): GELUActivation()\n",
       "              )\n",
       "              (output): SwinOutput(\n",
       "                (dense): Linear(in_features=1536, out_features=384, bias=True)\n",
       "                (dropout): Dropout(p=0.0, inplace=False)\n",
       "              )\n",
       "            )\n",
       "            (3): SwinLayer(\n",
       "              (layernorm_before): LayerNorm((384,), eps=1e-05, elementwise_affine=True)\n",
       "              (attention): SwinAttention(\n",
       "                (self): SwinSelfAttention(\n",
       "                  (query): Linear(in_features=384, out_features=384, bias=True)\n",
       "                  (key): Linear(in_features=384, out_features=384, bias=True)\n",
       "                  (value): Linear(in_features=384, out_features=384, bias=True)\n",
       "                  (dropout): Dropout(p=0.0, inplace=False)\n",
       "                )\n",
       "                (output): SwinSelfOutput(\n",
       "                  (dense): Linear(in_features=384, out_features=384, bias=True)\n",
       "                  (dropout): Dropout(p=0.0, inplace=False)\n",
       "                )\n",
       "              )\n",
       "              (drop_path): SwinDropPath(p=0.1)\n",
       "              (layernorm_after): LayerNorm((384,), eps=1e-05, elementwise_affine=True)\n",
       "              (intermediate): SwinIntermediate(\n",
       "                (dense): Linear(in_features=384, out_features=1536, bias=True)\n",
       "                (intermediate_act_fn): GELUActivation()\n",
       "              )\n",
       "              (output): SwinOutput(\n",
       "                (dense): Linear(in_features=1536, out_features=384, bias=True)\n",
       "                (dropout): Dropout(p=0.0, inplace=False)\n",
       "              )\n",
       "            )\n",
       "            (4): SwinLayer(\n",
       "              (layernorm_before): LayerNorm((384,), eps=1e-05, elementwise_affine=True)\n",
       "              (attention): SwinAttention(\n",
       "                (self): SwinSelfAttention(\n",
       "                  (query): Linear(in_features=384, out_features=384, bias=True)\n",
       "                  (key): Linear(in_features=384, out_features=384, bias=True)\n",
       "                  (value): Linear(in_features=384, out_features=384, bias=True)\n",
       "                  (dropout): Dropout(p=0.0, inplace=False)\n",
       "                )\n",
       "                (output): SwinSelfOutput(\n",
       "                  (dense): Linear(in_features=384, out_features=384, bias=True)\n",
       "                  (dropout): Dropout(p=0.0, inplace=False)\n",
       "                )\n",
       "              )\n",
       "              (drop_path): SwinDropPath(p=0.1)\n",
       "              (layernorm_after): LayerNorm((384,), eps=1e-05, elementwise_affine=True)\n",
       "              (intermediate): SwinIntermediate(\n",
       "                (dense): Linear(in_features=384, out_features=1536, bias=True)\n",
       "                (intermediate_act_fn): GELUActivation()\n",
       "              )\n",
       "              (output): SwinOutput(\n",
       "                (dense): Linear(in_features=1536, out_features=384, bias=True)\n",
       "                (dropout): Dropout(p=0.0, inplace=False)\n",
       "              )\n",
       "            )\n",
       "            (5): SwinLayer(\n",
       "              (layernorm_before): LayerNorm((384,), eps=1e-05, elementwise_affine=True)\n",
       "              (attention): SwinAttention(\n",
       "                (self): SwinSelfAttention(\n",
       "                  (query): Linear(in_features=384, out_features=384, bias=True)\n",
       "                  (key): Linear(in_features=384, out_features=384, bias=True)\n",
       "                  (value): Linear(in_features=384, out_features=384, bias=True)\n",
       "                  (dropout): Dropout(p=0.0, inplace=False)\n",
       "                )\n",
       "                (output): SwinSelfOutput(\n",
       "                  (dense): Linear(in_features=384, out_features=384, bias=True)\n",
       "                  (dropout): Dropout(p=0.0, inplace=False)\n",
       "                )\n",
       "              )\n",
       "              (drop_path): SwinDropPath(p=0.1)\n",
       "              (layernorm_after): LayerNorm((384,), eps=1e-05, elementwise_affine=True)\n",
       "              (intermediate): SwinIntermediate(\n",
       "                (dense): Linear(in_features=384, out_features=1536, bias=True)\n",
       "                (intermediate_act_fn): GELUActivation()\n",
       "              )\n",
       "              (output): SwinOutput(\n",
       "                (dense): Linear(in_features=1536, out_features=384, bias=True)\n",
       "                (dropout): Dropout(p=0.0, inplace=False)\n",
       "              )\n",
       "            )\n",
       "          )\n",
       "          (downsample): SwinPatchMerging(\n",
       "            (reduction): Linear(in_features=1536, out_features=768, bias=False)\n",
       "            (norm): LayerNorm((1536,), eps=1e-05, elementwise_affine=True)\n",
       "          )\n",
       "        )\n",
       "        (3): SwinStage(\n",
       "          (blocks): ModuleList(\n",
       "            (0): SwinLayer(\n",
       "              (layernorm_before): LayerNorm((768,), eps=1e-05, elementwise_affine=True)\n",
       "              (attention): SwinAttention(\n",
       "                (self): SwinSelfAttention(\n",
       "                  (query): Linear(in_features=768, out_features=768, bias=True)\n",
       "                  (key): Linear(in_features=768, out_features=768, bias=True)\n",
       "                  (value): Linear(in_features=768, out_features=768, bias=True)\n",
       "                  (dropout): Dropout(p=0.0, inplace=False)\n",
       "                )\n",
       "                (output): SwinSelfOutput(\n",
       "                  (dense): Linear(in_features=768, out_features=768, bias=True)\n",
       "                  (dropout): Dropout(p=0.0, inplace=False)\n",
       "                )\n",
       "              )\n",
       "              (drop_path): SwinDropPath(p=0.1)\n",
       "              (layernorm_after): LayerNorm((768,), eps=1e-05, elementwise_affine=True)\n",
       "              (intermediate): SwinIntermediate(\n",
       "                (dense): Linear(in_features=768, out_features=3072, bias=True)\n",
       "                (intermediate_act_fn): GELUActivation()\n",
       "              )\n",
       "              (output): SwinOutput(\n",
       "                (dense): Linear(in_features=3072, out_features=768, bias=True)\n",
       "                (dropout): Dropout(p=0.0, inplace=False)\n",
       "              )\n",
       "            )\n",
       "            (1): SwinLayer(\n",
       "              (layernorm_before): LayerNorm((768,), eps=1e-05, elementwise_affine=True)\n",
       "              (attention): SwinAttention(\n",
       "                (self): SwinSelfAttention(\n",
       "                  (query): Linear(in_features=768, out_features=768, bias=True)\n",
       "                  (key): Linear(in_features=768, out_features=768, bias=True)\n",
       "                  (value): Linear(in_features=768, out_features=768, bias=True)\n",
       "                  (dropout): Dropout(p=0.0, inplace=False)\n",
       "                )\n",
       "                (output): SwinSelfOutput(\n",
       "                  (dense): Linear(in_features=768, out_features=768, bias=True)\n",
       "                  (dropout): Dropout(p=0.0, inplace=False)\n",
       "                )\n",
       "              )\n",
       "              (drop_path): SwinDropPath(p=0.1)\n",
       "              (layernorm_after): LayerNorm((768,), eps=1e-05, elementwise_affine=True)\n",
       "              (intermediate): SwinIntermediate(\n",
       "                (dense): Linear(in_features=768, out_features=3072, bias=True)\n",
       "                (intermediate_act_fn): GELUActivation()\n",
       "              )\n",
       "              (output): SwinOutput(\n",
       "                (dense): Linear(in_features=3072, out_features=768, bias=True)\n",
       "                (dropout): Dropout(p=0.0, inplace=False)\n",
       "              )\n",
       "            )\n",
       "          )\n",
       "        )\n",
       "      )\n",
       "    )\n",
       "    (layernorm): LayerNorm((768,), eps=1e-05, elementwise_affine=True)\n",
       "    (pooler): AdaptiveAvgPool1d(output_size=1)\n",
       "  )\n",
       "  (classifier): Linear(in_features=768, out_features=5, bias=True)\n",
       ")"
      ]
     },
     "execution_count": 14,
     "metadata": {},
     "output_type": "execute_result"
    }
   ],
   "source": [
    "# 首先，检查是否有可用的CUDA设备\n",
    "device = torch.device(\"cuda\" if torch.cuda.is_available() else \"cpu\")\n",
    "\n",
    "# 然后，将模型转移到选定的设备\n",
    "model.to(device)"
   ]
  },
  {
   "cell_type": "code",
   "execution_count": 15,
   "metadata": {
    "id": "QSR62vy1Ps5Z",
    "tags": []
   },
   "outputs": [],
   "source": [
    "inputs, labels = next(iter(train_loader))\n",
    "inputs = inputs.to(DEVICE)  # 将输入数据转移到设定的设备上\n",
    "labels = labels.to(DEVICE)  # 将标签数据转移到设定的设备上\n",
    "# forward + backward + optimize\n",
    "outputsClass = model(inputs)"
   ]
  },
  {
   "cell_type": "code",
   "execution_count": 16,
   "metadata": {
    "colab": {
     "base_uri": "https://localhost:8080/"
    },
    "id": "iVyrC9nTQBAW",
    "outputId": "030acde3-a01c-4e40-dfa2-3d26c9f8d1ae"
   },
   "outputs": [
    {
     "data": {
      "text/plain": [
       "torch.Size([48, 5])"
      ]
     },
     "execution_count": 16,
     "metadata": {},
     "output_type": "execute_result"
    }
   ],
   "source": [
    "outputsClass.logits.shape"
   ]
  },
  {
   "cell_type": "markdown",
   "metadata": {
    "id": "ZH2ezvvCOvZE"
   },
   "source": [
    "# TRAIN - PYTORCH"
   ]
  },
  {
   "cell_type": "code",
   "execution_count": 28,
   "metadata": {
    "colab": {
     "base_uri": "https://localhost:8080/"
    },
    "collapsed": true,
    "id": "45DV8Im7y3k4",
    "jupyter": {
     "outputs_hidden": true
    },
    "outputId": "dad742b1-3bee-464c-a748-1e0c5312c483",
    "tags": []
   },
   "outputs": [
    {
     "name": "stdout",
     "output_type": "stream",
     "text": [
      "Looking in indexes: https://pypi.tuna.tsinghua.edu.cn/simple\n",
      "Collecting torchmetrics\n",
      "  Downloading https://pypi.tuna.tsinghua.edu.cn/packages/fb/47/6e9f9b41c48750a45ad07cc6d43a2979bfc09e6989656aece97cc59cbef1/torchmetrics-0.11.4-py3-none-any.whl (519 kB)\n",
      "\u001b[K     |████████████████████████████████| 519 kB 71.6 MB/s eta 0:00:01\n",
      "\u001b[?25hRequirement already satisfied: typing-extensions in /environment/miniconda3/lib/python3.7/site-packages (from torchmetrics) (4.0.1)\n",
      "Requirement already satisfied: torch>=1.8.1 in /environment/miniconda3/lib/python3.7/site-packages (from torchmetrics) (1.10.0+cu113)\n",
      "Requirement already satisfied: numpy>=1.17.2 in /environment/miniconda3/lib/python3.7/site-packages (from torchmetrics) (1.21.4)\n",
      "Requirement already satisfied: packaging in /environment/miniconda3/lib/python3.7/site-packages (from torchmetrics) (21.3)\n",
      "Requirement already satisfied: pyparsing!=3.0.5,>=2.0.2 in /environment/miniconda3/lib/python3.7/site-packages (from packaging->torchmetrics) (3.0.6)\n",
      "Installing collected packages: torchmetrics\n",
      "Successfully installed torchmetrics-0.11.4\n"
     ]
    }
   ],
   "source": [
    "!pip install torchmetrics"
   ]
  },
  {
   "cell_type": "code",
   "execution_count": 17,
   "metadata": {
    "id": "mFwqZnGoUMvz"
   },
   "outputs": [],
   "source": [
    "from torch.optim import AdamW\n",
    "from torch.optim.lr_scheduler import ReduceLROnPlateau\n",
    "from torch import nn\n",
    "from torchmetrics import F1Score\n",
    "device = torch.device(\"cuda\" if torch.cuda.is_available() else \"cpu\")\n",
    "\n",
    "criterion = nn.CrossEntropyLoss()\n",
    "optimizer = AdamW(model.parameters(), lr=LEARNING_RATE, weight_decay = WEIGHT_DECAY)\n",
    "\n",
    "# set F1 score\n",
    "# f1 =  F1Score(num_classes=NUM_CLASSES, average='none', task='multiclass')\n",
    "f1 = F1Score(num_classes=NUM_CLASSES, average='macro', task='multiclass').to(device)\n"
   ]
  },
  {
   "cell_type": "code",
   "execution_count": 20,
   "metadata": {
    "tags": []
   },
   "outputs": [
    {
     "name": "stdout",
     "output_type": "stream",
     "text": [
      "device: cpu\n"
     ]
    }
   ],
   "source": [
    "\n",
    "# import torch\n",
    "\n",
    "# # 直接设置为使用 CPU\n",
    "# DEVICE = torch.device(\"cpu\")\n",
    "# print(\"device:\", DEVICE)\n",
    "\n"
   ]
  },
  {
   "cell_type": "markdown",
   "metadata": {
    "id": "ku8E9nu2BhTz"
   },
   "source": [
    "# train model without freezing the layers\n",
    "\n",
    "---从头开始训练模型或者在一个与模型原始训练集显著不同的新数据集上微调预训练模型时使用\n",
    "\n"
   ]
  },
  {
   "cell_type": "code",
   "execution_count": 139,
   "metadata": {},
   "outputs": [],
   "source": [
    "import os\n",
    "os.environ['CUDA_LAUNCH_BLOCKING'] = \"1\"\n"
   ]
  },
  {
   "cell_type": "code",
   "execution_count": 18,
   "metadata": {},
   "outputs": [],
   "source": [
    "##如果需要测试代码是否顺利运行请运行下面代码\n",
    "from torch.utils.data import Subset\n",
    "import numpy as np\n",
    "\n",
    "# 假定 train_set 和 val_set 是您的完整训练和验证数据集\n",
    "\n",
    "# 选择一个较小的数据集大小百分比\n",
    "subset_percentage = 0.1  # 例如，使用10%的数据\n",
    "\n",
    "# 计算新的子集大小\n",
    "train_subset_size = int(subset_percentage * len(train_set))\n",
    "val_subset_size = int(subset_percentage * len(val_set))\n",
    "\n",
    "# 随机选择子集索引\n",
    "train_indices = np.random.choice(len(train_set), train_subset_size, replace=False)\n",
    "val_indices = np.random.choice(len(val_set), val_subset_size, replace=False)\n",
    "\n",
    "# 创建子集\n",
    "train_subset = Subset(train_set, indices=train_indices)\n",
    "val_subset = Subset(val_set, indices=val_indices)\n",
    "\n",
    "# 使用子集更新 DataLoader\n",
    "train_loader = torch.utils.data.DataLoader(train_subset, batch_size=BATCH_SIZE, shuffle=True, num_workers=NUM_WORKERS, pin_memory=True)\n",
    "val_loader = torch.utils.data.DataLoader(val_subset, batch_size=BATCH_SIZE, shuffle=True, num_workers=NUM_WORKERS, pin_memory=True)\n"
   ]
  },
  {
   "cell_type": "code",
   "execution_count": 19,
   "metadata": {
    "collapsed": true,
    "jupyter": {
     "outputs_hidden": true
    },
    "tags": []
   },
   "outputs": [
    {
     "data": {
      "text/plain": [
       "SwinForImageClassification(\n",
       "  (swin): SwinModel(\n",
       "    (embeddings): SwinEmbeddings(\n",
       "      (patch_embeddings): SwinPatchEmbeddings(\n",
       "        (projection): Conv2d(3, 96, kernel_size=(4, 4), stride=(4, 4))\n",
       "      )\n",
       "      (norm): LayerNorm((96,), eps=1e-05, elementwise_affine=True)\n",
       "      (dropout): Dropout(p=0.0, inplace=False)\n",
       "    )\n",
       "    (encoder): SwinEncoder(\n",
       "      (layers): ModuleList(\n",
       "        (0): SwinStage(\n",
       "          (blocks): ModuleList(\n",
       "            (0): SwinLayer(\n",
       "              (layernorm_before): LayerNorm((96,), eps=1e-05, elementwise_affine=True)\n",
       "              (attention): SwinAttention(\n",
       "                (self): SwinSelfAttention(\n",
       "                  (query): Linear(in_features=96, out_features=96, bias=True)\n",
       "                  (key): Linear(in_features=96, out_features=96, bias=True)\n",
       "                  (value): Linear(in_features=96, out_features=96, bias=True)\n",
       "                  (dropout): Dropout(p=0.0, inplace=False)\n",
       "                )\n",
       "                (output): SwinSelfOutput(\n",
       "                  (dense): Linear(in_features=96, out_features=96, bias=True)\n",
       "                  (dropout): Dropout(p=0.0, inplace=False)\n",
       "                )\n",
       "              )\n",
       "              (drop_path): SwinDropPath(p=0.1)\n",
       "              (layernorm_after): LayerNorm((96,), eps=1e-05, elementwise_affine=True)\n",
       "              (intermediate): SwinIntermediate(\n",
       "                (dense): Linear(in_features=96, out_features=384, bias=True)\n",
       "                (intermediate_act_fn): GELUActivation()\n",
       "              )\n",
       "              (output): SwinOutput(\n",
       "                (dense): Linear(in_features=384, out_features=96, bias=True)\n",
       "                (dropout): Dropout(p=0.0, inplace=False)\n",
       "              )\n",
       "            )\n",
       "            (1): SwinLayer(\n",
       "              (layernorm_before): LayerNorm((96,), eps=1e-05, elementwise_affine=True)\n",
       "              (attention): SwinAttention(\n",
       "                (self): SwinSelfAttention(\n",
       "                  (query): Linear(in_features=96, out_features=96, bias=True)\n",
       "                  (key): Linear(in_features=96, out_features=96, bias=True)\n",
       "                  (value): Linear(in_features=96, out_features=96, bias=True)\n",
       "                  (dropout): Dropout(p=0.0, inplace=False)\n",
       "                )\n",
       "                (output): SwinSelfOutput(\n",
       "                  (dense): Linear(in_features=96, out_features=96, bias=True)\n",
       "                  (dropout): Dropout(p=0.0, inplace=False)\n",
       "                )\n",
       "              )\n",
       "              (drop_path): SwinDropPath(p=0.1)\n",
       "              (layernorm_after): LayerNorm((96,), eps=1e-05, elementwise_affine=True)\n",
       "              (intermediate): SwinIntermediate(\n",
       "                (dense): Linear(in_features=96, out_features=384, bias=True)\n",
       "                (intermediate_act_fn): GELUActivation()\n",
       "              )\n",
       "              (output): SwinOutput(\n",
       "                (dense): Linear(in_features=384, out_features=96, bias=True)\n",
       "                (dropout): Dropout(p=0.0, inplace=False)\n",
       "              )\n",
       "            )\n",
       "          )\n",
       "          (downsample): SwinPatchMerging(\n",
       "            (reduction): Linear(in_features=384, out_features=192, bias=False)\n",
       "            (norm): LayerNorm((384,), eps=1e-05, elementwise_affine=True)\n",
       "          )\n",
       "        )\n",
       "        (1): SwinStage(\n",
       "          (blocks): ModuleList(\n",
       "            (0): SwinLayer(\n",
       "              (layernorm_before): LayerNorm((192,), eps=1e-05, elementwise_affine=True)\n",
       "              (attention): SwinAttention(\n",
       "                (self): SwinSelfAttention(\n",
       "                  (query): Linear(in_features=192, out_features=192, bias=True)\n",
       "                  (key): Linear(in_features=192, out_features=192, bias=True)\n",
       "                  (value): Linear(in_features=192, out_features=192, bias=True)\n",
       "                  (dropout): Dropout(p=0.0, inplace=False)\n",
       "                )\n",
       "                (output): SwinSelfOutput(\n",
       "                  (dense): Linear(in_features=192, out_features=192, bias=True)\n",
       "                  (dropout): Dropout(p=0.0, inplace=False)\n",
       "                )\n",
       "              )\n",
       "              (drop_path): SwinDropPath(p=0.1)\n",
       "              (layernorm_after): LayerNorm((192,), eps=1e-05, elementwise_affine=True)\n",
       "              (intermediate): SwinIntermediate(\n",
       "                (dense): Linear(in_features=192, out_features=768, bias=True)\n",
       "                (intermediate_act_fn): GELUActivation()\n",
       "              )\n",
       "              (output): SwinOutput(\n",
       "                (dense): Linear(in_features=768, out_features=192, bias=True)\n",
       "                (dropout): Dropout(p=0.0, inplace=False)\n",
       "              )\n",
       "            )\n",
       "            (1): SwinLayer(\n",
       "              (layernorm_before): LayerNorm((192,), eps=1e-05, elementwise_affine=True)\n",
       "              (attention): SwinAttention(\n",
       "                (self): SwinSelfAttention(\n",
       "                  (query): Linear(in_features=192, out_features=192, bias=True)\n",
       "                  (key): Linear(in_features=192, out_features=192, bias=True)\n",
       "                  (value): Linear(in_features=192, out_features=192, bias=True)\n",
       "                  (dropout): Dropout(p=0.0, inplace=False)\n",
       "                )\n",
       "                (output): SwinSelfOutput(\n",
       "                  (dense): Linear(in_features=192, out_features=192, bias=True)\n",
       "                  (dropout): Dropout(p=0.0, inplace=False)\n",
       "                )\n",
       "              )\n",
       "              (drop_path): SwinDropPath(p=0.1)\n",
       "              (layernorm_after): LayerNorm((192,), eps=1e-05, elementwise_affine=True)\n",
       "              (intermediate): SwinIntermediate(\n",
       "                (dense): Linear(in_features=192, out_features=768, bias=True)\n",
       "                (intermediate_act_fn): GELUActivation()\n",
       "              )\n",
       "              (output): SwinOutput(\n",
       "                (dense): Linear(in_features=768, out_features=192, bias=True)\n",
       "                (dropout): Dropout(p=0.0, inplace=False)\n",
       "              )\n",
       "            )\n",
       "          )\n",
       "          (downsample): SwinPatchMerging(\n",
       "            (reduction): Linear(in_features=768, out_features=384, bias=False)\n",
       "            (norm): LayerNorm((768,), eps=1e-05, elementwise_affine=True)\n",
       "          )\n",
       "        )\n",
       "        (2): SwinStage(\n",
       "          (blocks): ModuleList(\n",
       "            (0): SwinLayer(\n",
       "              (layernorm_before): LayerNorm((384,), eps=1e-05, elementwise_affine=True)\n",
       "              (attention): SwinAttention(\n",
       "                (self): SwinSelfAttention(\n",
       "                  (query): Linear(in_features=384, out_features=384, bias=True)\n",
       "                  (key): Linear(in_features=384, out_features=384, bias=True)\n",
       "                  (value): Linear(in_features=384, out_features=384, bias=True)\n",
       "                  (dropout): Dropout(p=0.0, inplace=False)\n",
       "                )\n",
       "                (output): SwinSelfOutput(\n",
       "                  (dense): Linear(in_features=384, out_features=384, bias=True)\n",
       "                  (dropout): Dropout(p=0.0, inplace=False)\n",
       "                )\n",
       "              )\n",
       "              (drop_path): SwinDropPath(p=0.1)\n",
       "              (layernorm_after): LayerNorm((384,), eps=1e-05, elementwise_affine=True)\n",
       "              (intermediate): SwinIntermediate(\n",
       "                (dense): Linear(in_features=384, out_features=1536, bias=True)\n",
       "                (intermediate_act_fn): GELUActivation()\n",
       "              )\n",
       "              (output): SwinOutput(\n",
       "                (dense): Linear(in_features=1536, out_features=384, bias=True)\n",
       "                (dropout): Dropout(p=0.0, inplace=False)\n",
       "              )\n",
       "            )\n",
       "            (1): SwinLayer(\n",
       "              (layernorm_before): LayerNorm((384,), eps=1e-05, elementwise_affine=True)\n",
       "              (attention): SwinAttention(\n",
       "                (self): SwinSelfAttention(\n",
       "                  (query): Linear(in_features=384, out_features=384, bias=True)\n",
       "                  (key): Linear(in_features=384, out_features=384, bias=True)\n",
       "                  (value): Linear(in_features=384, out_features=384, bias=True)\n",
       "                  (dropout): Dropout(p=0.0, inplace=False)\n",
       "                )\n",
       "                (output): SwinSelfOutput(\n",
       "                  (dense): Linear(in_features=384, out_features=384, bias=True)\n",
       "                  (dropout): Dropout(p=0.0, inplace=False)\n",
       "                )\n",
       "              )\n",
       "              (drop_path): SwinDropPath(p=0.1)\n",
       "              (layernorm_after): LayerNorm((384,), eps=1e-05, elementwise_affine=True)\n",
       "              (intermediate): SwinIntermediate(\n",
       "                (dense): Linear(in_features=384, out_features=1536, bias=True)\n",
       "                (intermediate_act_fn): GELUActivation()\n",
       "              )\n",
       "              (output): SwinOutput(\n",
       "                (dense): Linear(in_features=1536, out_features=384, bias=True)\n",
       "                (dropout): Dropout(p=0.0, inplace=False)\n",
       "              )\n",
       "            )\n",
       "            (2): SwinLayer(\n",
       "              (layernorm_before): LayerNorm((384,), eps=1e-05, elementwise_affine=True)\n",
       "              (attention): SwinAttention(\n",
       "                (self): SwinSelfAttention(\n",
       "                  (query): Linear(in_features=384, out_features=384, bias=True)\n",
       "                  (key): Linear(in_features=384, out_features=384, bias=True)\n",
       "                  (value): Linear(in_features=384, out_features=384, bias=True)\n",
       "                  (dropout): Dropout(p=0.0, inplace=False)\n",
       "                )\n",
       "                (output): SwinSelfOutput(\n",
       "                  (dense): Linear(in_features=384, out_features=384, bias=True)\n",
       "                  (dropout): Dropout(p=0.0, inplace=False)\n",
       "                )\n",
       "              )\n",
       "              (drop_path): SwinDropPath(p=0.1)\n",
       "              (layernorm_after): LayerNorm((384,), eps=1e-05, elementwise_affine=True)\n",
       "              (intermediate): SwinIntermediate(\n",
       "                (dense): Linear(in_features=384, out_features=1536, bias=True)\n",
       "                (intermediate_act_fn): GELUActivation()\n",
       "              )\n",
       "              (output): SwinOutput(\n",
       "                (dense): Linear(in_features=1536, out_features=384, bias=True)\n",
       "                (dropout): Dropout(p=0.0, inplace=False)\n",
       "              )\n",
       "            )\n",
       "            (3): SwinLayer(\n",
       "              (layernorm_before): LayerNorm((384,), eps=1e-05, elementwise_affine=True)\n",
       "              (attention): SwinAttention(\n",
       "                (self): SwinSelfAttention(\n",
       "                  (query): Linear(in_features=384, out_features=384, bias=True)\n",
       "                  (key): Linear(in_features=384, out_features=384, bias=True)\n",
       "                  (value): Linear(in_features=384, out_features=384, bias=True)\n",
       "                  (dropout): Dropout(p=0.0, inplace=False)\n",
       "                )\n",
       "                (output): SwinSelfOutput(\n",
       "                  (dense): Linear(in_features=384, out_features=384, bias=True)\n",
       "                  (dropout): Dropout(p=0.0, inplace=False)\n",
       "                )\n",
       "              )\n",
       "              (drop_path): SwinDropPath(p=0.1)\n",
       "              (layernorm_after): LayerNorm((384,), eps=1e-05, elementwise_affine=True)\n",
       "              (intermediate): SwinIntermediate(\n",
       "                (dense): Linear(in_features=384, out_features=1536, bias=True)\n",
       "                (intermediate_act_fn): GELUActivation()\n",
       "              )\n",
       "              (output): SwinOutput(\n",
       "                (dense): Linear(in_features=1536, out_features=384, bias=True)\n",
       "                (dropout): Dropout(p=0.0, inplace=False)\n",
       "              )\n",
       "            )\n",
       "            (4): SwinLayer(\n",
       "              (layernorm_before): LayerNorm((384,), eps=1e-05, elementwise_affine=True)\n",
       "              (attention): SwinAttention(\n",
       "                (self): SwinSelfAttention(\n",
       "                  (query): Linear(in_features=384, out_features=384, bias=True)\n",
       "                  (key): Linear(in_features=384, out_features=384, bias=True)\n",
       "                  (value): Linear(in_features=384, out_features=384, bias=True)\n",
       "                  (dropout): Dropout(p=0.0, inplace=False)\n",
       "                )\n",
       "                (output): SwinSelfOutput(\n",
       "                  (dense): Linear(in_features=384, out_features=384, bias=True)\n",
       "                  (dropout): Dropout(p=0.0, inplace=False)\n",
       "                )\n",
       "              )\n",
       "              (drop_path): SwinDropPath(p=0.1)\n",
       "              (layernorm_after): LayerNorm((384,), eps=1e-05, elementwise_affine=True)\n",
       "              (intermediate): SwinIntermediate(\n",
       "                (dense): Linear(in_features=384, out_features=1536, bias=True)\n",
       "                (intermediate_act_fn): GELUActivation()\n",
       "              )\n",
       "              (output): SwinOutput(\n",
       "                (dense): Linear(in_features=1536, out_features=384, bias=True)\n",
       "                (dropout): Dropout(p=0.0, inplace=False)\n",
       "              )\n",
       "            )\n",
       "            (5): SwinLayer(\n",
       "              (layernorm_before): LayerNorm((384,), eps=1e-05, elementwise_affine=True)\n",
       "              (attention): SwinAttention(\n",
       "                (self): SwinSelfAttention(\n",
       "                  (query): Linear(in_features=384, out_features=384, bias=True)\n",
       "                  (key): Linear(in_features=384, out_features=384, bias=True)\n",
       "                  (value): Linear(in_features=384, out_features=384, bias=True)\n",
       "                  (dropout): Dropout(p=0.0, inplace=False)\n",
       "                )\n",
       "                (output): SwinSelfOutput(\n",
       "                  (dense): Linear(in_features=384, out_features=384, bias=True)\n",
       "                  (dropout): Dropout(p=0.0, inplace=False)\n",
       "                )\n",
       "              )\n",
       "              (drop_path): SwinDropPath(p=0.1)\n",
       "              (layernorm_after): LayerNorm((384,), eps=1e-05, elementwise_affine=True)\n",
       "              (intermediate): SwinIntermediate(\n",
       "                (dense): Linear(in_features=384, out_features=1536, bias=True)\n",
       "                (intermediate_act_fn): GELUActivation()\n",
       "              )\n",
       "              (output): SwinOutput(\n",
       "                (dense): Linear(in_features=1536, out_features=384, bias=True)\n",
       "                (dropout): Dropout(p=0.0, inplace=False)\n",
       "              )\n",
       "            )\n",
       "          )\n",
       "          (downsample): SwinPatchMerging(\n",
       "            (reduction): Linear(in_features=1536, out_features=768, bias=False)\n",
       "            (norm): LayerNorm((1536,), eps=1e-05, elementwise_affine=True)\n",
       "          )\n",
       "        )\n",
       "        (3): SwinStage(\n",
       "          (blocks): ModuleList(\n",
       "            (0): SwinLayer(\n",
       "              (layernorm_before): LayerNorm((768,), eps=1e-05, elementwise_affine=True)\n",
       "              (attention): SwinAttention(\n",
       "                (self): SwinSelfAttention(\n",
       "                  (query): Linear(in_features=768, out_features=768, bias=True)\n",
       "                  (key): Linear(in_features=768, out_features=768, bias=True)\n",
       "                  (value): Linear(in_features=768, out_features=768, bias=True)\n",
       "                  (dropout): Dropout(p=0.0, inplace=False)\n",
       "                )\n",
       "                (output): SwinSelfOutput(\n",
       "                  (dense): Linear(in_features=768, out_features=768, bias=True)\n",
       "                  (dropout): Dropout(p=0.0, inplace=False)\n",
       "                )\n",
       "              )\n",
       "              (drop_path): SwinDropPath(p=0.1)\n",
       "              (layernorm_after): LayerNorm((768,), eps=1e-05, elementwise_affine=True)\n",
       "              (intermediate): SwinIntermediate(\n",
       "                (dense): Linear(in_features=768, out_features=3072, bias=True)\n",
       "                (intermediate_act_fn): GELUActivation()\n",
       "              )\n",
       "              (output): SwinOutput(\n",
       "                (dense): Linear(in_features=3072, out_features=768, bias=True)\n",
       "                (dropout): Dropout(p=0.0, inplace=False)\n",
       "              )\n",
       "            )\n",
       "            (1): SwinLayer(\n",
       "              (layernorm_before): LayerNorm((768,), eps=1e-05, elementwise_affine=True)\n",
       "              (attention): SwinAttention(\n",
       "                (self): SwinSelfAttention(\n",
       "                  (query): Linear(in_features=768, out_features=768, bias=True)\n",
       "                  (key): Linear(in_features=768, out_features=768, bias=True)\n",
       "                  (value): Linear(in_features=768, out_features=768, bias=True)\n",
       "                  (dropout): Dropout(p=0.0, inplace=False)\n",
       "                )\n",
       "                (output): SwinSelfOutput(\n",
       "                  (dense): Linear(in_features=768, out_features=768, bias=True)\n",
       "                  (dropout): Dropout(p=0.0, inplace=False)\n",
       "                )\n",
       "              )\n",
       "              (drop_path): SwinDropPath(p=0.1)\n",
       "              (layernorm_after): LayerNorm((768,), eps=1e-05, elementwise_affine=True)\n",
       "              (intermediate): SwinIntermediate(\n",
       "                (dense): Linear(in_features=768, out_features=3072, bias=True)\n",
       "                (intermediate_act_fn): GELUActivation()\n",
       "              )\n",
       "              (output): SwinOutput(\n",
       "                (dense): Linear(in_features=3072, out_features=768, bias=True)\n",
       "                (dropout): Dropout(p=0.0, inplace=False)\n",
       "              )\n",
       "            )\n",
       "          )\n",
       "        )\n",
       "      )\n",
       "    )\n",
       "    (layernorm): LayerNorm((768,), eps=1e-05, elementwise_affine=True)\n",
       "    (pooler): AdaptiveAvgPool1d(output_size=1)\n",
       "  )\n",
       "  (classifier): Linear(in_features=768, out_features=5, bias=True)\n",
       ")"
      ]
     },
     "execution_count": 19,
     "metadata": {},
     "output_type": "execute_result"
    }
   ],
   "source": [
    "# 首先，检查是否有可用的CUDA设备\n",
    "device = torch.device(\"cuda\" if torch.cuda.is_available() else \"cpu\")\n",
    "\n",
    "# 然后，将模型转移到选定的设备\n",
    "model.to(device)"
   ]
  },
  {
   "cell_type": "code",
   "execution_count": 17,
   "metadata": {
    "collapsed": true,
    "jupyter": {
     "outputs_hidden": true
    },
    "tags": []
   },
   "outputs": [
    {
     "name": "stdout",
     "output_type": "stream",
     "text": [
      "Looking in indexes: https://pypi.tuna.tsinghua.edu.cn/simple\n",
      "Requirement already satisfied: ipywidgets in /environment/miniconda3/lib/python3.10/site-packages (8.1.2)\n",
      "Requirement already satisfied: comm>=0.1.3 in /environment/miniconda3/lib/python3.10/site-packages (from ipywidgets) (0.1.4)\n",
      "Requirement already satisfied: ipython>=6.1.0 in /environment/miniconda3/lib/python3.10/site-packages (from ipywidgets) (8.14.0)\n",
      "Requirement already satisfied: traitlets>=4.3.1 in /environment/miniconda3/lib/python3.10/site-packages (from ipywidgets) (5.9.0)\n",
      "Requirement already satisfied: widgetsnbextension~=4.0.10 in /environment/miniconda3/lib/python3.10/site-packages (from ipywidgets) (4.0.10)\n",
      "Requirement already satisfied: jupyterlab-widgets~=3.0.10 in /environment/miniconda3/lib/python3.10/site-packages (from ipywidgets) (3.0.10)\n",
      "Requirement already satisfied: backcall in /environment/miniconda3/lib/python3.10/site-packages (from ipython>=6.1.0->ipywidgets) (0.2.0)\n",
      "Requirement already satisfied: decorator in /environment/miniconda3/lib/python3.10/site-packages (from ipython>=6.1.0->ipywidgets) (5.1.1)\n",
      "Requirement already satisfied: jedi>=0.16 in /environment/miniconda3/lib/python3.10/site-packages (from ipython>=6.1.0->ipywidgets) (0.19.0)\n",
      "Requirement already satisfied: matplotlib-inline in /environment/miniconda3/lib/python3.10/site-packages (from ipython>=6.1.0->ipywidgets) (0.1.6)\n",
      "Requirement already satisfied: pickleshare in /environment/miniconda3/lib/python3.10/site-packages (from ipython>=6.1.0->ipywidgets) (0.7.5)\n",
      "Requirement already satisfied: prompt-toolkit!=3.0.37,<3.1.0,>=3.0.30 in /environment/miniconda3/lib/python3.10/site-packages (from ipython>=6.1.0->ipywidgets) (3.0.39)\n",
      "Requirement already satisfied: pygments>=2.4.0 in /environment/miniconda3/lib/python3.10/site-packages (from ipython>=6.1.0->ipywidgets) (2.15.1)\n",
      "Requirement already satisfied: stack-data in /environment/miniconda3/lib/python3.10/site-packages (from ipython>=6.1.0->ipywidgets) (0.6.2)\n",
      "Requirement already satisfied: pexpect>4.3 in /environment/miniconda3/lib/python3.10/site-packages (from ipython>=6.1.0->ipywidgets) (4.8.0)\n",
      "Requirement already satisfied: parso<0.9.0,>=0.8.3 in /environment/miniconda3/lib/python3.10/site-packages (from jedi>=0.16->ipython>=6.1.0->ipywidgets) (0.8.3)\n",
      "Requirement already satisfied: ptyprocess>=0.5 in /environment/miniconda3/lib/python3.10/site-packages (from pexpect>4.3->ipython>=6.1.0->ipywidgets) (0.7.0)\n",
      "Requirement already satisfied: wcwidth in /environment/miniconda3/lib/python3.10/site-packages (from prompt-toolkit!=3.0.37,<3.1.0,>=3.0.30->ipython>=6.1.0->ipywidgets) (0.2.5)\n",
      "Requirement already satisfied: executing>=1.2.0 in /environment/miniconda3/lib/python3.10/site-packages (from stack-data->ipython>=6.1.0->ipywidgets) (1.2.0)\n",
      "Requirement already satisfied: asttokens>=2.1.0 in /environment/miniconda3/lib/python3.10/site-packages (from stack-data->ipython>=6.1.0->ipywidgets) (2.2.1)\n",
      "Requirement already satisfied: pure-eval in /environment/miniconda3/lib/python3.10/site-packages (from stack-data->ipython>=6.1.0->ipywidgets) (0.2.2)\n",
      "Requirement already satisfied: six in /environment/miniconda3/lib/python3.10/site-packages (from asttokens>=2.1.0->stack-data->ipython>=6.1.0->ipywidgets) (1.16.0)\n",
      "Enabling notebook extension jupyter-js-widgets/extension...\n",
      "      - Validating: \u001b[32mOK\u001b[0m\n"
     ]
    }
   ],
   "source": [
    "!pip install ipywidgets --upgrade\n",
    "!jupyter nbextension enable --py widgetsnbextension  # Only for Jupyter Notebook\n"
   ]
  },
  {
   "cell_type": "code",
   "execution_count": 48,
   "metadata": {},
   "outputs": [],
   "source": [
    "import os\n",
    "os.environ['CUDA_LAUNCH_BLOCKING'] = \"1\""
   ]
  },
  {
   "cell_type": "code",
   "execution_count": 18,
   "metadata": {
    "colab": {
     "base_uri": "https://localhost:8080/"
    },
    "id": "_t7dwChpOziA",
    "outputId": "eb01bfc2-99a2-4c40-bff4-0dd492f702e2",
    "tags": []
   },
   "outputs": [
    {
     "data": {
      "application/vnd.jupyter.widget-view+json": {
       "model_id": "2a60d588dec945fead43faa92ce53077",
       "version_major": 2,
       "version_minor": 0
      },
      "text/plain": [
       "Epoch 1/30 [Training]:   0%|          | 0/154 [00:00<?, ?it/s]"
      ]
     },
     "metadata": {},
     "output_type": "display_data"
    },
    {
     "data": {
      "application/vnd.jupyter.widget-view+json": {
       "model_id": "189e3791a8e84f69a0a95289304b6fee",
       "version_major": 2,
       "version_minor": 0
      },
      "text/plain": [
       "Epoch 1/30 [Validation]:   0%|          | 0/39 [00:00<?, ?it/s]"
      ]
     },
     "metadata": {},
     "output_type": "display_data"
    },
    {
     "name": "stdout",
     "output_type": "stream",
     "text": [
      "Epoch: 0 avg_val_loss: 0.7894407877555261\n",
      "New min val loss: 0.7894407877555261\n",
      "trigger times: 0\n",
      "[Epoch: 1] train loss: 1.063 val loss:0.789 \n",
      "[Epoch: 1] train f1: 0.541 val f1:0.651 \n",
      "[Epoch: 1] train acc: 0.561 val acc:0.673 \n"
     ]
    },
    {
     "data": {
      "application/vnd.jupyter.widget-view+json": {
       "model_id": "e56c1826199b495eb28bd644045e9b31",
       "version_major": 2,
       "version_minor": 0
      },
      "text/plain": [
       "Epoch 2/30 [Training]:   0%|          | 0/154 [00:00<?, ?it/s]"
      ]
     },
     "metadata": {},
     "output_type": "display_data"
    },
    {
     "data": {
      "application/vnd.jupyter.widget-view+json": {
       "model_id": "6ea009f423164d79bf3a4173ddc20c24",
       "version_major": 2,
       "version_minor": 0
      },
      "text/plain": [
       "Epoch 2/30 [Validation]:   0%|          | 0/39 [00:00<?, ?it/s]"
      ]
     },
     "metadata": {},
     "output_type": "display_data"
    },
    {
     "name": "stdout",
     "output_type": "stream",
     "text": [
      "trigger times: 0\n",
      "[Epoch: 2] train loss: 0.715 val loss:0.648 \n",
      "[Epoch: 2] train f1: 0.695 val f1:0.722 \n",
      "[Epoch: 2] train acc: 0.710 val acc:0.740 \n"
     ]
    },
    {
     "data": {
      "application/vnd.jupyter.widget-view+json": {
       "model_id": "61f76855082e43f0bdf52d36b654260e",
       "version_major": 2,
       "version_minor": 0
      },
      "text/plain": [
       "Epoch 3/30 [Training]:   0%|          | 0/154 [00:00<?, ?it/s]"
      ]
     },
     "metadata": {},
     "output_type": "display_data"
    },
    {
     "data": {
      "application/vnd.jupyter.widget-view+json": {
       "model_id": "6eaeeb58e9ed465fa2f407f6932bd9b8",
       "version_major": 2,
       "version_minor": 0
      },
      "text/plain": [
       "Epoch 3/30 [Validation]:   0%|          | 0/39 [00:00<?, ?it/s]"
      ]
     },
     "metadata": {},
     "output_type": "display_data"
    },
    {
     "name": "stdout",
     "output_type": "stream",
     "text": [
      "trigger times: 0\n",
      "[Epoch: 3] train loss: 0.592 val loss:0.563 \n",
      "[Epoch: 3] train f1: 0.762 val f1:0.757 \n",
      "[Epoch: 3] train acc: 0.772 val acc:0.772 \n"
     ]
    },
    {
     "data": {
      "application/vnd.jupyter.widget-view+json": {
       "model_id": "877c3b5f600044908b44c4f3714b8472",
       "version_major": 2,
       "version_minor": 0
      },
      "text/plain": [
       "Epoch 4/30 [Training]:   0%|          | 0/154 [00:00<?, ?it/s]"
      ]
     },
     "metadata": {},
     "output_type": "display_data"
    },
    {
     "data": {
      "application/vnd.jupyter.widget-view+json": {
       "model_id": "f082c43d04db48ecace62672cc3516fc",
       "version_major": 2,
       "version_minor": 0
      },
      "text/plain": [
       "Epoch 4/30 [Validation]:   0%|          | 0/39 [00:00<?, ?it/s]"
      ]
     },
     "metadata": {},
     "output_type": "display_data"
    },
    {
     "name": "stdout",
     "output_type": "stream",
     "text": [
      "trigger times: 0\n",
      "[Epoch: 4] train loss: 0.494 val loss:0.554 \n",
      "[Epoch: 4] train f1: 0.806 val f1:0.766 \n",
      "[Epoch: 4] train acc: 0.815 val acc:0.782 \n"
     ]
    },
    {
     "data": {
      "application/vnd.jupyter.widget-view+json": {
       "model_id": "4742a57e74b2448cb62e80370dfc4174",
       "version_major": 2,
       "version_minor": 0
      },
      "text/plain": [
       "Epoch 5/30 [Training]:   0%|          | 0/154 [00:00<?, ?it/s]"
      ]
     },
     "metadata": {},
     "output_type": "display_data"
    },
    {
     "data": {
      "application/vnd.jupyter.widget-view+json": {
       "model_id": "5e12899eb6e640cabe757283a411b345",
       "version_major": 2,
       "version_minor": 0
      },
      "text/plain": [
       "Epoch 5/30 [Validation]:   0%|          | 0/39 [00:00<?, ?it/s]"
      ]
     },
     "metadata": {},
     "output_type": "display_data"
    },
    {
     "name": "stdout",
     "output_type": "stream",
     "text": [
      "trigger times: 0\n",
      "[Epoch: 5] train loss: 0.418 val loss:0.514 \n",
      "[Epoch: 5] train f1: 0.836 val f1:0.792 \n",
      "[Epoch: 5] train acc: 0.843 val acc:0.800 \n"
     ]
    },
    {
     "data": {
      "application/vnd.jupyter.widget-view+json": {
       "model_id": "bffbe90503a74720aa43418acde0daef",
       "version_major": 2,
       "version_minor": 0
      },
      "text/plain": [
       "Epoch 6/30 [Training]:   0%|          | 0/154 [00:00<?, ?it/s]"
      ]
     },
     "metadata": {},
     "output_type": "display_data"
    },
    {
     "data": {
      "application/vnd.jupyter.widget-view+json": {
       "model_id": "a348aecba8fa473d86ceefff95f0b05a",
       "version_major": 2,
       "version_minor": 0
      },
      "text/plain": [
       "Epoch 6/30 [Validation]:   0%|          | 0/39 [00:00<?, ?it/s]"
      ]
     },
     "metadata": {},
     "output_type": "display_data"
    },
    {
     "name": "stdout",
     "output_type": "stream",
     "text": [
      "Epoch: 5 avg_val_loss: 0.46576326053876144\n",
      "New min val loss: 0.46576326053876144\n",
      "trigger times: 0\n",
      "[Epoch: 6] train loss: 0.340 val loss:0.466 \n",
      "[Epoch: 6] train f1: 0.867 val f1:0.804 \n",
      "[Epoch: 6] train acc: 0.873 val acc:0.814 \n"
     ]
    },
    {
     "data": {
      "application/vnd.jupyter.widget-view+json": {
       "model_id": "01b303f27d5544cfa0c46e0896d2e9f9",
       "version_major": 2,
       "version_minor": 0
      },
      "text/plain": [
       "Epoch 7/30 [Training]:   0%|          | 0/154 [00:00<?, ?it/s]"
      ]
     },
     "metadata": {},
     "output_type": "display_data"
    },
    {
     "data": {
      "application/vnd.jupyter.widget-view+json": {
       "model_id": "dd01e337031b412998c5be16e391d094",
       "version_major": 2,
       "version_minor": 0
      },
      "text/plain": [
       "Epoch 7/30 [Validation]:   0%|          | 0/39 [00:00<?, ?it/s]"
      ]
     },
     "metadata": {},
     "output_type": "display_data"
    },
    {
     "name": "stdout",
     "output_type": "stream",
     "text": [
      "trigger times: 0\n",
      "[Epoch: 7] train loss: 0.286 val loss:0.414 \n",
      "[Epoch: 7] train f1: 0.896 val f1:0.842 \n",
      "[Epoch: 7] train acc: 0.901 val acc:0.849 \n"
     ]
    },
    {
     "data": {
      "application/vnd.jupyter.widget-view+json": {
       "model_id": "3d037c33e0064771abcec365b6ceef2e",
       "version_major": 2,
       "version_minor": 0
      },
      "text/plain": [
       "Epoch 8/30 [Training]:   0%|          | 0/154 [00:00<?, ?it/s]"
      ]
     },
     "metadata": {},
     "output_type": "display_data"
    },
    {
     "data": {
      "application/vnd.jupyter.widget-view+json": {
       "model_id": "55e35f24d75f47bfa2408879eb42c81d",
       "version_major": 2,
       "version_minor": 0
      },
      "text/plain": [
       "Epoch 8/30 [Validation]:   0%|          | 0/39 [00:00<?, ?it/s]"
      ]
     },
     "metadata": {},
     "output_type": "display_data"
    },
    {
     "name": "stdout",
     "output_type": "stream",
     "text": [
      "trigger times: 0\n",
      "[Epoch: 8] train loss: 0.251 val loss:0.354 \n",
      "[Epoch: 8] train f1: 0.905 val f1:0.872 \n",
      "[Epoch: 8] train acc: 0.909 val acc:0.879 \n"
     ]
    },
    {
     "data": {
      "application/vnd.jupyter.widget-view+json": {
       "model_id": "b8d6ed4912b8420dad78bf26e1d04a51",
       "version_major": 2,
       "version_minor": 0
      },
      "text/plain": [
       "Epoch 9/30 [Training]:   0%|          | 0/154 [00:00<?, ?it/s]"
      ]
     },
     "metadata": {},
     "output_type": "display_data"
    },
    {
     "data": {
      "application/vnd.jupyter.widget-view+json": {
       "model_id": "52e76897941a475fb337e931ad27c5aa",
       "version_major": 2,
       "version_minor": 0
      },
      "text/plain": [
       "Epoch 9/30 [Validation]:   0%|          | 0/39 [00:00<?, ?it/s]"
      ]
     },
     "metadata": {},
     "output_type": "display_data"
    },
    {
     "name": "stdout",
     "output_type": "stream",
     "text": [
      "Trigger Times: 1\n",
      "[Epoch: 9] train loss: 0.217 val loss:0.366 \n",
      "[Epoch: 9] train f1: 0.925 val f1:0.853 \n",
      "[Epoch: 9] train acc: 0.929 val acc:0.861 \n"
     ]
    },
    {
     "data": {
      "application/vnd.jupyter.widget-view+json": {
       "model_id": "7e9278e3c3b14a6f8f69a4bb1a432657",
       "version_major": 2,
       "version_minor": 0
      },
      "text/plain": [
       "Epoch 10/30 [Training]:   0%|          | 0/154 [00:00<?, ?it/s]"
      ]
     },
     "metadata": {},
     "output_type": "display_data"
    },
    {
     "data": {
      "application/vnd.jupyter.widget-view+json": {
       "model_id": "e3800bd1cd334a519b22e8ae88bfa09a",
       "version_major": 2,
       "version_minor": 0
      },
      "text/plain": [
       "Epoch 10/30 [Validation]:   0%|          | 0/39 [00:00<?, ?it/s]"
      ]
     },
     "metadata": {},
     "output_type": "display_data"
    },
    {
     "name": "stdout",
     "output_type": "stream",
     "text": [
      "Trigger Times: 2\n",
      "[Epoch: 10] train loss: 0.180 val loss:0.369 \n",
      "[Epoch: 10] train f1: 0.936 val f1:0.867 \n",
      "[Epoch: 10] train acc: 0.939 val acc:0.874 \n"
     ]
    },
    {
     "data": {
      "application/vnd.jupyter.widget-view+json": {
       "model_id": "a6b0b68bb7c04fe5b175d70cc9ed1d01",
       "version_major": 2,
       "version_minor": 0
      },
      "text/plain": [
       "Epoch 11/30 [Training]:   0%|          | 0/154 [00:00<?, ?it/s]"
      ]
     },
     "metadata": {},
     "output_type": "display_data"
    },
    {
     "data": {
      "application/vnd.jupyter.widget-view+json": {
       "model_id": "3b6f6878361e447298f31c4cf0f9d7d3",
       "version_major": 2,
       "version_minor": 0
      },
      "text/plain": [
       "Epoch 11/30 [Validation]:   0%|          | 0/39 [00:00<?, ?it/s]"
      ]
     },
     "metadata": {},
     "output_type": "display_data"
    },
    {
     "name": "stdout",
     "output_type": "stream",
     "text": [
      "Epoch: 10 avg_val_loss: 0.3456983172740692\n",
      "New min val loss: 0.3456983172740692\n",
      "trigger times: 0\n",
      "[Epoch: 11] train loss: 0.153 val loss:0.346 \n",
      "[Epoch: 11] train f1: 0.948 val f1:0.874 \n",
      "[Epoch: 11] train acc: 0.950 val acc:0.881 \n"
     ]
    },
    {
     "data": {
      "application/vnd.jupyter.widget-view+json": {
       "model_id": "28b236f4c37e4814b4cb3fc333c3916f",
       "version_major": 2,
       "version_minor": 0
      },
      "text/plain": [
       "Epoch 12/30 [Training]:   0%|          | 0/154 [00:00<?, ?it/s]"
      ]
     },
     "metadata": {},
     "output_type": "display_data"
    },
    {
     "data": {
      "application/vnd.jupyter.widget-view+json": {
       "model_id": "a3f46dc889494523941188eeaebeaffc",
       "version_major": 2,
       "version_minor": 0
      },
      "text/plain": [
       "Epoch 12/30 [Validation]:   0%|          | 0/39 [00:00<?, ?it/s]"
      ]
     },
     "metadata": {},
     "output_type": "display_data"
    },
    {
     "name": "stdout",
     "output_type": "stream",
     "text": [
      "Trigger Times: 1\n",
      "[Epoch: 12] train loss: 0.142 val loss:0.349 \n",
      "[Epoch: 12] train f1: 0.953 val f1:0.878 \n",
      "[Epoch: 12] train acc: 0.954 val acc:0.885 \n"
     ]
    },
    {
     "data": {
      "application/vnd.jupyter.widget-view+json": {
       "model_id": "494b54fe27144276906cdbc31855d936",
       "version_major": 2,
       "version_minor": 0
      },
      "text/plain": [
       "Epoch 13/30 [Training]:   0%|          | 0/154 [00:00<?, ?it/s]"
      ]
     },
     "metadata": {},
     "output_type": "display_data"
    },
    {
     "data": {
      "application/vnd.jupyter.widget-view+json": {
       "model_id": "66e89ff27fe04c60a11ce36ebbfe2db4",
       "version_major": 2,
       "version_minor": 0
      },
      "text/plain": [
       "Epoch 13/30 [Validation]:   0%|          | 0/39 [00:00<?, ?it/s]"
      ]
     },
     "metadata": {},
     "output_type": "display_data"
    },
    {
     "name": "stdout",
     "output_type": "stream",
     "text": [
      "trigger times: 0\n",
      "[Epoch: 13] train loss: 0.115 val loss:0.346 \n",
      "[Epoch: 13] train f1: 0.962 val f1:0.875 \n",
      "[Epoch: 13] train acc: 0.965 val acc:0.885 \n"
     ]
    },
    {
     "data": {
      "application/vnd.jupyter.widget-view+json": {
       "model_id": "e51bbcd8547f4897b1334e5d36c1aa5e",
       "version_major": 2,
       "version_minor": 0
      },
      "text/plain": [
       "Epoch 14/30 [Training]:   0%|          | 0/154 [00:00<?, ?it/s]"
      ]
     },
     "metadata": {},
     "output_type": "display_data"
    },
    {
     "data": {
      "application/vnd.jupyter.widget-view+json": {
       "model_id": "91fab8ca8e114d3c91ad318867eb15a0",
       "version_major": 2,
       "version_minor": 0
      },
      "text/plain": [
       "Epoch 14/30 [Validation]:   0%|          | 0/39 [00:00<?, ?it/s]"
      ]
     },
     "metadata": {},
     "output_type": "display_data"
    },
    {
     "name": "stdout",
     "output_type": "stream",
     "text": [
      "trigger times: 0\n",
      "[Epoch: 14] train loss: 0.111 val loss:0.305 \n",
      "[Epoch: 14] train f1: 0.965 val f1:0.895 \n",
      "[Epoch: 14] train acc: 0.966 val acc:0.899 \n"
     ]
    },
    {
     "data": {
      "application/vnd.jupyter.widget-view+json": {
       "model_id": "2d3cecc9b1fb4e988d05eeb05664673d",
       "version_major": 2,
       "version_minor": 0
      },
      "text/plain": [
       "Epoch 15/30 [Training]:   0%|          | 0/154 [00:00<?, ?it/s]"
      ]
     },
     "metadata": {},
     "output_type": "display_data"
    },
    {
     "data": {
      "application/vnd.jupyter.widget-view+json": {
       "model_id": "9638458e4f3841ec973807e666c3f186",
       "version_major": 2,
       "version_minor": 0
      },
      "text/plain": [
       "Epoch 15/30 [Validation]:   0%|          | 0/39 [00:00<?, ?it/s]"
      ]
     },
     "metadata": {},
     "output_type": "display_data"
    },
    {
     "name": "stdout",
     "output_type": "stream",
     "text": [
      "Trigger Times: 1\n",
      "[Epoch: 15] train loss: 0.094 val loss:0.343 \n",
      "[Epoch: 15] train f1: 0.969 val f1:0.889 \n",
      "[Epoch: 15] train acc: 0.972 val acc:0.895 \n"
     ]
    },
    {
     "data": {
      "application/vnd.jupyter.widget-view+json": {
       "model_id": "e486f85b68bb48a8b31695a5c2f7c62d",
       "version_major": 2,
       "version_minor": 0
      },
      "text/plain": [
       "Epoch 16/30 [Training]:   0%|          | 0/154 [00:00<?, ?it/s]"
      ]
     },
     "metadata": {},
     "output_type": "display_data"
    },
    {
     "data": {
      "application/vnd.jupyter.widget-view+json": {
       "model_id": "886af1e869464b2f8ee4dc0fc54394eb",
       "version_major": 2,
       "version_minor": 0
      },
      "text/plain": [
       "Epoch 16/30 [Validation]:   0%|          | 0/39 [00:00<?, ?it/s]"
      ]
     },
     "metadata": {},
     "output_type": "display_data"
    },
    {
     "name": "stdout",
     "output_type": "stream",
     "text": [
      "Epoch: 15 avg_val_loss: 0.32944437364737195\n",
      "New min val loss: 0.32944437364737195\n",
      "trigger times: 0\n",
      "[Epoch: 16] train loss: 0.092 val loss:0.329 \n",
      "[Epoch: 16] train f1: 0.969 val f1:0.897 \n",
      "[Epoch: 16] train acc: 0.971 val acc:0.904 \n"
     ]
    },
    {
     "data": {
      "application/vnd.jupyter.widget-view+json": {
       "model_id": "c65cb8a9dd904ca59d559081669d8062",
       "version_major": 2,
       "version_minor": 0
      },
      "text/plain": [
       "Epoch 17/30 [Training]:   0%|          | 0/154 [00:00<?, ?it/s]"
      ]
     },
     "metadata": {},
     "output_type": "display_data"
    },
    {
     "data": {
      "application/vnd.jupyter.widget-view+json": {
       "model_id": "cd72addd60134a32b7f0e9ed10d37a74",
       "version_major": 2,
       "version_minor": 0
      },
      "text/plain": [
       "Epoch 17/30 [Validation]:   0%|          | 0/39 [00:00<?, ?it/s]"
      ]
     },
     "metadata": {},
     "output_type": "display_data"
    },
    {
     "name": "stdout",
     "output_type": "stream",
     "text": [
      "trigger times: 0\n",
      "[Epoch: 17] train loss: 0.090 val loss:0.327 \n",
      "[Epoch: 17] train f1: 0.969 val f1:0.892 \n",
      "[Epoch: 17] train acc: 0.971 val acc:0.903 \n"
     ]
    },
    {
     "data": {
      "application/vnd.jupyter.widget-view+json": {
       "model_id": "178d35a04a9a467fa7626c7075ec94ad",
       "version_major": 2,
       "version_minor": 0
      },
      "text/plain": [
       "Epoch 18/30 [Training]:   0%|          | 0/154 [00:00<?, ?it/s]"
      ]
     },
     "metadata": {},
     "output_type": "display_data"
    },
    {
     "data": {
      "application/vnd.jupyter.widget-view+json": {
       "model_id": "e1c94bc3bbce4b428fe432b5636678e9",
       "version_major": 2,
       "version_minor": 0
      },
      "text/plain": [
       "Epoch 18/30 [Validation]:   0%|          | 0/39 [00:00<?, ?it/s]"
      ]
     },
     "metadata": {},
     "output_type": "display_data"
    },
    {
     "name": "stdout",
     "output_type": "stream",
     "text": [
      "Trigger Times: 1\n",
      "[Epoch: 18] train loss: 0.077 val loss:0.332 \n",
      "[Epoch: 18] train f1: 0.976 val f1:0.897 \n",
      "[Epoch: 18] train acc: 0.978 val acc:0.899 \n"
     ]
    },
    {
     "data": {
      "application/vnd.jupyter.widget-view+json": {
       "model_id": "667d6cad62c94de6815bebd5a589201f",
       "version_major": 2,
       "version_minor": 0
      },
      "text/plain": [
       "Epoch 19/30 [Training]:   0%|          | 0/154 [00:00<?, ?it/s]"
      ]
     },
     "metadata": {},
     "output_type": "display_data"
    },
    {
     "data": {
      "application/vnd.jupyter.widget-view+json": {
       "model_id": "e3dbc5ca4bcc463eac0e6b2eeb04092e",
       "version_major": 2,
       "version_minor": 0
      },
      "text/plain": [
       "Epoch 19/30 [Validation]:   0%|          | 0/39 [00:00<?, ?it/s]"
      ]
     },
     "metadata": {},
     "output_type": "display_data"
    },
    {
     "name": "stdout",
     "output_type": "stream",
     "text": [
      "Trigger Times: 2\n",
      "[Epoch: 19] train loss: 0.075 val loss:0.347 \n",
      "[Epoch: 19] train f1: 0.975 val f1:0.884 \n",
      "[Epoch: 19] train acc: 0.976 val acc:0.891 \n"
     ]
    },
    {
     "data": {
      "application/vnd.jupyter.widget-view+json": {
       "model_id": "9f47038d96e34f60a228041bf9ce1df4",
       "version_major": 2,
       "version_minor": 0
      },
      "text/plain": [
       "Epoch 20/30 [Training]:   0%|          | 0/154 [00:00<?, ?it/s]"
      ]
     },
     "metadata": {},
     "output_type": "display_data"
    },
    {
     "data": {
      "application/vnd.jupyter.widget-view+json": {
       "model_id": "e908ca408b61413291f1e78fc9ca0941",
       "version_major": 2,
       "version_minor": 0
      },
      "text/plain": [
       "Epoch 20/30 [Validation]:   0%|          | 0/39 [00:00<?, ?it/s]"
      ]
     },
     "metadata": {},
     "output_type": "display_data"
    },
    {
     "name": "stdout",
     "output_type": "stream",
     "text": [
      "trigger times: 0\n",
      "[Epoch: 20] train loss: 0.069 val loss:0.304 \n",
      "[Epoch: 20] train f1: 0.978 val f1:0.907 \n",
      "[Epoch: 20] train acc: 0.979 val acc:0.913 \n"
     ]
    },
    {
     "data": {
      "application/vnd.jupyter.widget-view+json": {
       "model_id": "102b556424d94297bcf30eb6fe1ddb50",
       "version_major": 2,
       "version_minor": 0
      },
      "text/plain": [
       "Epoch 21/30 [Training]:   0%|          | 0/154 [00:00<?, ?it/s]"
      ]
     },
     "metadata": {},
     "output_type": "display_data"
    },
    {
     "data": {
      "application/vnd.jupyter.widget-view+json": {
       "model_id": "9a147516f42c4b1a810c3865d547f411",
       "version_major": 2,
       "version_minor": 0
      },
      "text/plain": [
       "Epoch 21/30 [Validation]:   0%|          | 0/39 [00:00<?, ?it/s]"
      ]
     },
     "metadata": {},
     "output_type": "display_data"
    },
    {
     "name": "stdout",
     "output_type": "stream",
     "text": [
      "Epoch: 20 avg_val_loss: 0.3646042834107692\n",
      "Trigger Times: 1\n",
      "[Epoch: 21] train loss: 0.068 val loss:0.365 \n",
      "[Epoch: 21] train f1: 0.977 val f1:0.886 \n",
      "[Epoch: 21] train acc: 0.978 val acc:0.892 \n"
     ]
    },
    {
     "data": {
      "application/vnd.jupyter.widget-view+json": {
       "model_id": "656d245b0a454ee1a76c1f4f6dc97700",
       "version_major": 2,
       "version_minor": 0
      },
      "text/plain": [
       "Epoch 22/30 [Training]:   0%|          | 0/154 [00:00<?, ?it/s]"
      ]
     },
     "metadata": {},
     "output_type": "display_data"
    },
    {
     "data": {
      "application/vnd.jupyter.widget-view+json": {
       "model_id": "07a93a6879134c0f9f5206dbeb7e38cb",
       "version_major": 2,
       "version_minor": 0
      },
      "text/plain": [
       "Epoch 22/30 [Validation]:   0%|          | 0/39 [00:00<?, ?it/s]"
      ]
     },
     "metadata": {},
     "output_type": "display_data"
    },
    {
     "name": "stdout",
     "output_type": "stream",
     "text": [
      "trigger times: 0\n",
      "[Epoch: 22] train loss: 0.060 val loss:0.339 \n",
      "[Epoch: 22] train f1: 0.978 val f1:0.896 \n",
      "[Epoch: 22] train acc: 0.980 val acc:0.904 \n"
     ]
    },
    {
     "data": {
      "application/vnd.jupyter.widget-view+json": {
       "model_id": "74e7aff2872e43f3bae75be20765843b",
       "version_major": 2,
       "version_minor": 0
      },
      "text/plain": [
       "Epoch 23/30 [Training]:   0%|          | 0/154 [00:00<?, ?it/s]"
      ]
     },
     "metadata": {},
     "output_type": "display_data"
    },
    {
     "data": {
      "application/vnd.jupyter.widget-view+json": {
       "model_id": "1c3422dca4ae420084a700f5d92b0ac8",
       "version_major": 2,
       "version_minor": 0
      },
      "text/plain": [
       "Epoch 23/30 [Validation]:   0%|          | 0/39 [00:00<?, ?it/s]"
      ]
     },
     "metadata": {},
     "output_type": "display_data"
    },
    {
     "name": "stdout",
     "output_type": "stream",
     "text": [
      "trigger times: 0\n",
      "[Epoch: 23] train loss: 0.054 val loss:0.321 \n",
      "[Epoch: 23] train f1: 0.982 val f1:0.898 \n",
      "[Epoch: 23] train acc: 0.984 val acc:0.910 \n"
     ]
    },
    {
     "data": {
      "application/vnd.jupyter.widget-view+json": {
       "model_id": "306faa52d0df4480bf41a127e4aeed67",
       "version_major": 2,
       "version_minor": 0
      },
      "text/plain": [
       "Epoch 24/30 [Training]:   0%|          | 0/154 [00:00<?, ?it/s]"
      ]
     },
     "metadata": {},
     "output_type": "display_data"
    },
    {
     "data": {
      "application/vnd.jupyter.widget-view+json": {
       "model_id": "5b041606bfbe4277bd24c6372efc7488",
       "version_major": 2,
       "version_minor": 0
      },
      "text/plain": [
       "Epoch 24/30 [Validation]:   0%|          | 0/39 [00:00<?, ?it/s]"
      ]
     },
     "metadata": {},
     "output_type": "display_data"
    },
    {
     "name": "stdout",
     "output_type": "stream",
     "text": [
      "Trigger Times: 1\n",
      "[Epoch: 24] train loss: 0.057 val loss:0.337 \n",
      "[Epoch: 24] train f1: 0.982 val f1:0.891 \n",
      "[Epoch: 24] train acc: 0.983 val acc:0.901 \n"
     ]
    },
    {
     "data": {
      "application/vnd.jupyter.widget-view+json": {
       "model_id": "713dd9e858ad4111845a596fb4bc52b2",
       "version_major": 2,
       "version_minor": 0
      },
      "text/plain": [
       "Epoch 25/30 [Training]:   0%|          | 0/154 [00:00<?, ?it/s]"
      ]
     },
     "metadata": {},
     "output_type": "display_data"
    },
    {
     "data": {
      "application/vnd.jupyter.widget-view+json": {
       "model_id": "f512887b014147d5a192395be4417428",
       "version_major": 2,
       "version_minor": 0
      },
      "text/plain": [
       "Epoch 25/30 [Validation]:   0%|          | 0/39 [00:00<?, ?it/s]"
      ]
     },
     "metadata": {},
     "output_type": "display_data"
    },
    {
     "name": "stdout",
     "output_type": "stream",
     "text": [
      "trigger times: 0\n",
      "[Epoch: 25] train loss: 0.058 val loss:0.325 \n",
      "[Epoch: 25] train f1: 0.980 val f1:0.902 \n",
      "[Epoch: 25] train acc: 0.981 val acc:0.907 \n"
     ]
    },
    {
     "data": {
      "application/vnd.jupyter.widget-view+json": {
       "model_id": "f7ff1df129a34e3696cbcd76e2651cca",
       "version_major": 2,
       "version_minor": 0
      },
      "text/plain": [
       "Epoch 26/30 [Training]:   0%|          | 0/154 [00:00<?, ?it/s]"
      ]
     },
     "metadata": {},
     "output_type": "display_data"
    },
    {
     "data": {
      "application/vnd.jupyter.widget-view+json": {
       "model_id": "5c418542a85b405b855fa915c8969fd7",
       "version_major": 2,
       "version_minor": 0
      },
      "text/plain": [
       "Epoch 26/30 [Validation]:   0%|          | 0/39 [00:00<?, ?it/s]"
      ]
     },
     "metadata": {},
     "output_type": "display_data"
    },
    {
     "name": "stdout",
     "output_type": "stream",
     "text": [
      "Epoch: 25 avg_val_loss: 0.3917864703406126\n",
      "Trigger Times: 1\n",
      "[Epoch: 26] train loss: 0.045 val loss:0.392 \n",
      "[Epoch: 26] train f1: 0.984 val f1:0.888 \n",
      "[Epoch: 26] train acc: 0.986 val acc:0.895 \n"
     ]
    },
    {
     "data": {
      "application/vnd.jupyter.widget-view+json": {
       "model_id": "c0762b4d48f749ac84d97464bfc73590",
       "version_major": 2,
       "version_minor": 0
      },
      "text/plain": [
       "Epoch 27/30 [Training]:   0%|          | 0/154 [00:00<?, ?it/s]"
      ]
     },
     "metadata": {},
     "output_type": "display_data"
    },
    {
     "data": {
      "application/vnd.jupyter.widget-view+json": {
       "model_id": "5cff0d88a5c647a1afab34ba52c0c286",
       "version_major": 2,
       "version_minor": 0
      },
      "text/plain": [
       "Epoch 27/30 [Validation]:   0%|          | 0/39 [00:00<?, ?it/s]"
      ]
     },
     "metadata": {},
     "output_type": "display_data"
    },
    {
     "name": "stdout",
     "output_type": "stream",
     "text": [
      "trigger times: 0\n",
      "[Epoch: 27] train loss: 0.046 val loss:0.326 \n",
      "[Epoch: 27] train f1: 0.985 val f1:0.909 \n",
      "[Epoch: 27] train acc: 0.986 val acc:0.914 \n"
     ]
    },
    {
     "data": {
      "application/vnd.jupyter.widget-view+json": {
       "model_id": "1baa590e4c4d410a867629ad294b1ee2",
       "version_major": 2,
       "version_minor": 0
      },
      "text/plain": [
       "Epoch 28/30 [Training]:   0%|          | 0/154 [00:00<?, ?it/s]"
      ]
     },
     "metadata": {},
     "output_type": "display_data"
    },
    {
     "data": {
      "application/vnd.jupyter.widget-view+json": {
       "model_id": "76302d92b4b04e09b0da5ee6985a87dc",
       "version_major": 2,
       "version_minor": 0
      },
      "text/plain": [
       "Epoch 28/30 [Validation]:   0%|          | 0/39 [00:00<?, ?it/s]"
      ]
     },
     "metadata": {},
     "output_type": "display_data"
    },
    {
     "name": "stdout",
     "output_type": "stream",
     "text": [
      "trigger times: 0\n",
      "[Epoch: 28] train loss: 0.048 val loss:0.322 \n",
      "[Epoch: 28] train f1: 0.985 val f1:0.904 \n",
      "[Epoch: 28] train acc: 0.985 val acc:0.907 \n"
     ]
    },
    {
     "data": {
      "application/vnd.jupyter.widget-view+json": {
       "model_id": "b3a2423e20f9485b900cacf83e5a32b1",
       "version_major": 2,
       "version_minor": 0
      },
      "text/plain": [
       "Epoch 29/30 [Training]:   0%|          | 0/154 [00:00<?, ?it/s]"
      ]
     },
     "metadata": {},
     "output_type": "display_data"
    },
    {
     "data": {
      "application/vnd.jupyter.widget-view+json": {
       "model_id": "aff56124fe8940dabdd9dd1ef5e2c53b",
       "version_major": 2,
       "version_minor": 0
      },
      "text/plain": [
       "Epoch 29/30 [Validation]:   0%|          | 0/39 [00:00<?, ?it/s]"
      ]
     },
     "metadata": {},
     "output_type": "display_data"
    },
    {
     "name": "stdout",
     "output_type": "stream",
     "text": [
      "Trigger Times: 1\n",
      "[Epoch: 29] train loss: 0.044 val loss:0.360 \n",
      "[Epoch: 29] train f1: 0.986 val f1:0.901 \n",
      "[Epoch: 29] train acc: 0.987 val acc:0.904 \n"
     ]
    },
    {
     "data": {
      "application/vnd.jupyter.widget-view+json": {
       "model_id": "a654e258c6934160b7135ff9a2feaf5c",
       "version_major": 2,
       "version_minor": 0
      },
      "text/plain": [
       "Epoch 30/30 [Training]:   0%|          | 0/154 [00:00<?, ?it/s]"
      ]
     },
     "metadata": {},
     "output_type": "display_data"
    },
    {
     "data": {
      "application/vnd.jupyter.widget-view+json": {
       "model_id": "a0af000383304b9790a6817ed706be8a",
       "version_major": 2,
       "version_minor": 0
      },
      "text/plain": [
       "Epoch 30/30 [Validation]:   0%|          | 0/39 [00:00<?, ?it/s]"
      ]
     },
     "metadata": {},
     "output_type": "display_data"
    },
    {
     "name": "stdout",
     "output_type": "stream",
     "text": [
      "trigger times: 0\n",
      "[Epoch: 30] train loss: 0.037 val loss:0.330 \n",
      "[Epoch: 30] train f1: 0.987 val f1:0.913 \n",
      "[Epoch: 30] train acc: 0.987 val acc:0.917 \n",
      "Finished Training\n"
     ]
    }
   ],
   "source": [
    "from tqdm.notebook import tqdm\n",
    "from sklearn.metrics import accuracy_score\n",
    "\n",
    "optimizer = optim.Adam(model.parameters(), lr=1e-4)\n",
    "scheduler = ReduceLROnPlateau(optimizer, mode='min', factor=0.1, patience=5, verbose=True)\n",
    "\n",
    "EPOCHS = 30\n",
    "MIN_PATH = 'swin_model/min_loss_model.pth'\n",
    "PATH = 'swin_model/last_model.pth'\n",
    "train_loss_values = []\n",
    "train_f1 = []\n",
    "train_acc=[]\n",
    "\n",
    "val_loss_values = []\n",
    "val_f1 = []\n",
    "val_acc = []\n",
    "\n",
    "last_val_loss = 1000\n",
    "min_val_loss = 100\n",
    "patience = 5\n",
    "triggertimes = 0\n",
    "\n",
    "for epoch in range(EPOCHS):  # loop over the dataset multiple times\n",
    "\n",
    "    running_loss = 0.0\n",
    "    val_loss = 0.0\n",
    "    \n",
    "    train_f1_epoch = 0.0\n",
    "    train_acc_epoch = 0.0\n",
    "    val_f1_epoch = 0.0\n",
    "    val_acc_epoch = 0.0\n",
    "\n",
    "    model.train()\n",
    "    train_loop = tqdm(enumerate(train_loader), total=len(train_loader), desc=f'Epoch {epoch+1}/{EPOCHS} [Training]')\n",
    "\n",
    "    for i, data in enumerate(train_loader):\n",
    "        inputs, labels = data\n",
    "        inputs = inputs.to(DEVICE)\n",
    "        labels = labels.to(DEVICE)\n",
    "        \n",
    "        optimizer.zero_grad()\n",
    "        outputs = model(inputs)\n",
    "        \n",
    "        loss = criterion(outputs.logits, labels)\n",
    "        \n",
    "        # 获取最可能的类别索引\n",
    "        _, preds = torch.max(outputs.logits, dim=1)\n",
    "        # 更新累计的 F1 分数\n",
    "        train_f1_epoch += f1(preds, labels).item()\n",
    "        train_acc_epoch += accuracy_score(preds.cpu(), labels.cpu())  # Accumulate training accuracy\n",
    "\n",
    "        loss.backward()\n",
    "        optimizer.step()\n",
    "\n",
    "        running_loss += loss.item()\n",
    "        # 更新进度条信息\n",
    "        train_loop.set_postfix(loss=running_loss/(i+1), f1=train_f1_epoch/(i+1))\n",
    "\n",
    "    avg_train_loss = running_loss / len(train_loader)\n",
    "    avg_train_f1 = train_f1_epoch / len(train_loader) \n",
    "    avg_train_acc = train_acc_epoch / len(train_loader)\n",
    "    \n",
    "    train_loss_values.append(avg_train_loss)\n",
    "    train_f1.append(avg_train_f1)\n",
    "    train_acc.append(avg_train_acc)\n",
    "    \n",
    "    model.eval()\n",
    "\n",
    "# 同样为验证循环添加进度条\n",
    "    val_loop = tqdm(enumerate(val_loader), total=len(val_loader), desc=f'Epoch {epoch+1}/{EPOCHS} [Validation]')\n",
    "\n",
    "    with torch.no_grad():\n",
    "        for i, data in enumerate(val_loader):\n",
    "                    inputs, labels = data\n",
    "                    inputs = inputs.to(DEVICE)\n",
    "                    labels = labels.to(DEVICE)\n",
    "\n",
    "                    outputs = model(inputs)\n",
    "                    loss = criterion(outputs.logits, labels)\n",
    "\n",
    "                    # 获取最可能的类别索引并计算 F1 分数\n",
    "                    _, preds = torch.max(outputs.logits, dim=1)\n",
    "                    val_f1_epoch += f1(preds, labels).item()\n",
    "                    val_acc_epoch += accuracy_score(preds.cpu(), labels.cpu())\n",
    "                    \n",
    "                    val_loss += loss.item()\n",
    "                    \n",
    "                    val_loop.set_postfix(loss=val_loss/(i+1), f1=val_f1_epoch/(i+1))\n",
    "                        \n",
    "        avg_val_loss = val_loss / len(val_loader)\n",
    "        avg_val_f1 = val_f1_epoch / len(val_loader) \n",
    "        avg_val_acc = val_acc_epoch / len(val_loader)\n",
    "        # 检查路径是否存在，如果不存在则创建\n",
    "        min_path_dir = os.path.dirname(MIN_PATH)\n",
    "        path_dir = os.path.dirname(PATH)\n",
    "        if not os.path.exists(min_path_dir):\n",
    "            os.makedirs(min_path_dir)\n",
    "        if not os.path.exists(path_dir):\n",
    "            os.makedirs(path_dir)\n",
    "\n",
    "        # 每5个epoch检查一次，是否需要保存模型\n",
    "        if epoch % 5 == 0:\n",
    "            print('Epoch:', epoch, 'avg_val_loss:', avg_val_loss)\n",
    "            # 每5个epoch保存一次模型状态，无论验证损失如何\n",
    "            torch.save({\n",
    "                'epoch': epoch,\n",
    "                'model_state_dict': model.state_dict(),\n",
    "                'optimizer_state_dict': optimizer.state_dict(),\n",
    "                'loss': loss,\n",
    "            }, PATH + f\"_epoch_{epoch}.pth\")  # 保存时给文件名添加epoch编号\n",
    "\n",
    "            # 如果当前验证损失低于之前最低的验证损失，更新最低验证损失并保存模型\n",
    "            if avg_val_loss < min_val_loss:\n",
    "                print('New min val loss:', avg_val_loss)\n",
    "                # 保存当前最佳模型状态\n",
    "                torch.save({\n",
    "                    'epoch': epoch,\n",
    "                    'model_state_dict': model.state_dict(),\n",
    "                    'optimizer_state_dict': optimizer.state_dict(),\n",
    "                    'loss': loss,\n",
    "                }, MIN_PATH)\n",
    "                min_val_loss = avg_val_loss\n",
    "\n",
    "        # early stopping\n",
    "        if avg_val_loss > last_val_loss:\n",
    "            trigger_times += 1\n",
    "            print('Trigger Times:', trigger_times)\n",
    "\n",
    "            if trigger_times >= patience:\n",
    "                print('Early stopping!\\nStop training.')\n",
    "                # save the model\n",
    "                torch.save({'epoch': epoch,\n",
    "                            'model_state_dict': model.state_dict(),\n",
    "                            'optimizer_state_dict': optimizer.state_dict(),\n",
    "                            'loss': loss,\n",
    "                            }, PATH)\n",
    "                break\n",
    "        else:\n",
    "            print('trigger times: 0')\n",
    "            trigger_times = 0\n",
    "\n",
    "        last_val_loss = avg_val_loss\n",
    "        \n",
    "        val_loss_values.append(avg_val_loss)\n",
    "        val_f1.append(avg_val_f1)\n",
    "        val_acc.append(avg_val_acc)\n",
    "    scheduler.step(avg_val_loss)  # 更新学习率\n",
    "    print(f'[Epoch: {epoch + 1}] train loss: {avg_train_loss:.3f} val loss:{avg_val_loss:.3f} ')\n",
    "    print(f'[Epoch: {epoch + 1}] train f1: {avg_train_f1:.3f} val f1:{avg_val_f1:.3f} ')\n",
    "    print(f'[Epoch: {epoch + 1}] train acc: {avg_train_acc:.3f} val acc:{avg_val_acc:.3f} ')\n",
    "\n",
    "print('Finished Training')"
   ]
  },
  {
   "cell_type": "code",
   "execution_count": 19,
   "metadata": {
    "id": "FHKjrNKCgcsI",
    "tags": []
   },
   "outputs": [
    {
     "name": "stdout",
     "output_type": "stream",
     "text": [
      "[ 0  1  2  3  4  5  6  7  8  9 10 11 12 13 14 15 16 17 18 19 20 21 22 23\n",
      " 24 25 26 27 28 29] [1.063431876046317, 0.7145682801673938, 0.5920117600010587, 0.49402072329025765, 0.41791353500508643, 0.33979410716852587, 0.28606568712305713, 0.25052148887476366, 0.21691388346545107, 0.1800315168190312, 0.1533413509560096, 0.1422232421260182, 0.11467002061280337, 0.11110029507476787, 0.0936389806885998, 0.09202564355324615, 0.08952488418813649, 0.07748347797806, 0.07498287874600523, 0.06922911828407993, 0.06842184182885405, 0.0604570137500134, 0.05374134006281081, 0.05669722585884443, 0.05802625603671488, 0.045438915318748975, 0.045912406667341275, 0.04787398053048929, 0.04357518960250082, 0.03672868731301641] [0.7894407877555261, 0.6477219172013111, 0.5631111126679641, 0.5538311822292132, 0.5140376740541214, 0.46576326053876144, 0.4144978660803575, 0.3538207654387523, 0.3660265644773459, 0.36933500071366626, 0.3456983172740692, 0.34913775668694425, 0.34612413151906085, 0.3053799563875565, 0.3426328289967317, 0.32944437364737195, 0.32737653798017746, 0.3320258690569645, 0.34674015106298983, 0.30367288580880714, 0.3646042834107692, 0.3386507551066386, 0.32090984867551386, 0.3368772344711499, 0.32534903221023387, 0.3917864703406126, 0.3261264505294653, 0.3220106996118258, 0.36041089452994174, 0.3303404530653587]\n"
     ]
    },
    {
     "data": {
      "image/png": "[encoded data removed]",
      "text/plain": [
       "<Figure size 432x288 with 1 Axes>"
      ]
     },
     "metadata": {
      "needs_background": "light"
     },
     "output_type": "display_data"
    }
   ],
   "source": [
    "import matplotlib.pyplot as plt\n",
    "import numpy as np \n",
    "\n",
    "x = np.arange(EPOCHS)\n",
    "y = train_loss_values\n",
    "z = val_loss_values\n",
    "print(x,y,z) \n",
    "# plot lines\n",
    "plt.plot(x, y, label = \"train\")\n",
    "plt.plot(x, z, label = \"val\")\n",
    "plt.legend()\n",
    "plt.show()"
   ]
  },
  {
   "cell_type": "code",
   "execution_count": 20,
   "metadata": {},
   "outputs": [
    {
     "data": {
      "image/png": "[encoded data removed]",
      "text/plain": [
       "<Figure size 1440x576 with 2 Axes>"
      ]
     },
     "metadata": {
      "needs_background": "light"
     },
     "output_type": "display_data"
    }
   ],
   "source": [
    "import matplotlib.pyplot as plt\n",
    "import numpy as np \n",
    "\n",
    "# 定义需要的变量\n",
    "x = np.arange(EPOCHS)\n",
    "train_loss = train_loss_values\n",
    "val_loss = val_loss_values\n",
    "train_acc = train_acc\n",
    "val_acc = val_acc\n",
    "\n",
    "# 找到最佳的epoch\n",
    "index_loss = np.argmin(val_loss)\n",
    "val_lowest = val_loss[index_loss]\n",
    "index_acc = np.argmax(val_acc)\n",
    "acc_highest = val_acc[index_acc]\n",
    "\n",
    "# 绘制训练历史\n",
    "plt.figure(figsize= (20, 8))\n",
    "plt.style.use('fivethirtyeight')\n",
    "\n",
    "# 绘制损失图\n",
    "plt.subplot(1, 2, 1)\n",
    "plt.plot(x, train_loss, 'r', label= 'Training loss')\n",
    "plt.plot(x, val_loss, 'g', label= 'Validation loss')\n",
    "plt.scatter(index_loss, val_lowest, s= 150, c= 'blue', label= f'best epoch= {str(index_loss + 1)}')\n",
    "plt.title('Training and Validation Loss')\n",
    "plt.xlabel('Epochs')\n",
    "plt.ylabel('Loss')\n",
    "plt.legend()\n",
    "\n",
    "# 绘制准确率图\n",
    "plt.subplot(1, 2, 2)\n",
    "plt.plot(x, train_acc, 'r', label= 'Training Accuracy')\n",
    "plt.plot(x, val_acc, 'g', label= 'Validation Accuracy')\n",
    "plt.scatter(index_acc, acc_highest, s= 150, c= 'blue', label= f'best epoch= {str(index_acc + 1)}')\n",
    "plt.title('Training and Validation Accuracy')\n",
    "plt.xlabel('Epochs')\n",
    "plt.ylabel('Accuracy')\n",
    "plt.legend()\n",
    "\n",
    "plt.tight_layout()\n",
    "plt.show()\n"
   ]
  },
  {
   "cell_type": "code",
   "execution_count": 99,
   "metadata": {
    "collapsed": true,
    "jupyter": {
     "outputs_hidden": true
    },
    "tags": []
   },
   "outputs": [
    {
     "name": "stdout",
     "output_type": "stream",
     "text": [
      "Looking in indexes: https://pypi.tuna.tsinghua.edu.cn/simple\n",
      "Requirement already satisfied: matplotlib in /environment/miniconda3/lib/python3.10/site-packages (3.8.3)\n",
      "Requirement already satisfied: contourpy>=1.0.1 in /environment/miniconda3/lib/python3.10/site-packages (from matplotlib) (1.2.0)\n",
      "Requirement already satisfied: cycler>=0.10 in /environment/miniconda3/lib/python3.10/site-packages (from matplotlib) (0.12.1)\n",
      "Requirement already satisfied: fonttools>=4.22.0 in /environment/miniconda3/lib/python3.10/site-packages (from matplotlib) (4.50.0)\n",
      "Requirement already satisfied: kiwisolver>=1.3.1 in /environment/miniconda3/lib/python3.10/site-packages (from matplotlib) (1.4.5)\n",
      "Requirement already satisfied: numpy<2,>=1.21 in /environment/miniconda3/lib/python3.10/site-packages (from matplotlib) (1.24.1)\n",
      "Requirement already satisfied: packaging>=20.0 in /environment/miniconda3/lib/python3.10/site-packages (from matplotlib) (23.0)\n",
      "Requirement already satisfied: pillow>=8 in /environment/miniconda3/lib/python3.10/site-packages (from matplotlib) (9.3.0)\n",
      "Requirement already satisfied: pyparsing>=2.3.1 in /environment/miniconda3/lib/python3.10/site-packages (from matplotlib) (3.1.2)\n",
      "Requirement already satisfied: python-dateutil>=2.7 in /environment/miniconda3/lib/python3.10/site-packages (from matplotlib) (2.8.2)\n",
      "Requirement already satisfied: six>=1.5 in /environment/miniconda3/lib/python3.10/site-packages (from python-dateutil>=2.7->matplotlib) (1.16.0)\n",
      "Note: you may need to restart the kernel to use updated packages.\n"
     ]
    }
   ],
   "source": [
    "%pip install matplotlib"
   ]
  },
  {
   "cell_type": "code",
   "execution_count": 21,
   "metadata": {
    "colab": {
     "base_uri": "https://localhost:8080/"
    },
    "id": "f7Fbf-P-fCPQ",
    "outputId": "07fd65bc-7480-4e8a-d7b6-c29aa4eaf84b"
   },
   "outputs": [
    {
     "data": {
      "text/plain": [
       "(19, 0.30367288580880714)"
      ]
     },
     "execution_count": 21,
     "metadata": {},
     "output_type": "execute_result"
    }
   ],
   "source": [
    "# find the min training loss and the epoch number of that loss\n",
    "np.argmin(val_loss_values), min(val_loss_values)"
   ]
  },
  {
   "cell_type": "code",
   "execution_count": 25,
   "metadata": {},
   "outputs": [],
   "source": [
    "PATH='thebest_swin_30.pth'\n",
    "torch.save({\n",
    "    'epoch': epoch,\n",
    "    'model_state_dict': model.state_dict(),\n",
    "    'optimizer_state_dict': optimizer.state_dict(),\n",
    "    'loss': loss,\n",
    "}, PATH)"
   ]
  },
  {
   "cell_type": "markdown",
   "metadata": {
    "id": "_N0pv9WgByws"
   },
   "source": [
    "# Model with frozen layers\n",
    "冻结预训练模型的一部分层（通常是前几层），利用已经学习到的通用特征，同时只训练模型的后几层来适应新的数据集"
   ]
  },
  {
   "cell_type": "code",
   "execution_count": 32,
   "metadata": {
    "id": "oWgFZ9OtkBsx",
    "tags": []
   },
   "outputs": [],
   "source": [
    "# Freeze weights\n",
    "for param in model.parameters():\n",
    "    param.requires_grad = False\n",
    "\n",
    "for param in model.classifier.parameters():\n",
    "    param.requires_grad = True\n"
   ]
  },
  {
   "cell_type": "code",
   "execution_count": 55,
   "metadata": {
    "id": "MhbpeMgn8p-7",
    "tags": []
   },
   "outputs": [],
   "source": [
    "train_loss_values = []\n",
    "train_f1 = []\n",
    "\n",
    "val_loss_values = []\n",
    "val_f1 = []\n"
   ]
  },
  {
   "cell_type": "code",
   "execution_count": 57,
   "metadata": {
    "colab": {
     "base_uri": "https://localhost:8080/",
     "height": 1000
    },
    "collapsed": true,
    "id": "RD7oga08dxZL",
    "jupyter": {
     "outputs_hidden": true
    },
    "outputId": "14f91a23-6001-4190-e79a-18517c31eb96",
    "tags": []
   },
   "outputs": [
    {
     "data": {
      "application/vnd.jupyter.widget-view+json": {
       "model_id": "ab479ae9c7324183b9ff90bcd861e1f0",
       "version_major": 2,
       "version_minor": 0
      },
      "text/plain": [
       "Epoch 1/100 [Training]:   0%|          | 0/1757 [00:00<?, ?it/s]"
      ]
     },
     "metadata": {},
     "output_type": "display_data"
    },
    {
     "data": {
      "application/vnd.jupyter.widget-view+json": {
       "model_id": "658e6401b4584ea394dc0cd0c9c2dc1b",
       "version_major": 2,
       "version_minor": 0
      },
      "text/plain": [
       "Epoch 1/100 [Validation]:   0%|          | 0/440 [00:00<?, ?it/s]"
      ]
     },
     "metadata": {},
     "output_type": "display_data"
    },
    {
     "name": "stdout",
     "output_type": "stream",
     "text": [
      "trigger times: 0\n",
      "[Epoch: 1] train loss: 0.815 train f1: 0.307 \n",
      "[Epoch: 1] val loss:0.791 val f1:0.333 \n"
     ]
    },
    {
     "data": {
      "application/vnd.jupyter.widget-view+json": {
       "model_id": "fdc536c832564b189e7fd3ab24c73cbf",
       "version_major": 2,
       "version_minor": 0
      },
      "text/plain": [
       "Epoch 2/100 [Training]:   0%|          | 0/1757 [00:00<?, ?it/s]"
      ]
     },
     "metadata": {},
     "output_type": "display_data"
    },
    {
     "data": {
      "application/vnd.jupyter.widget-view+json": {
       "model_id": "02b3fc76944a44559c71812fa02babaa",
       "version_major": 2,
       "version_minor": 0
      },
      "text/plain": [
       "Epoch 2/100 [Validation]:   0%|          | 0/440 [00:00<?, ?it/s]"
      ]
     },
     "metadata": {},
     "output_type": "display_data"
    },
    {
     "name": "stdout",
     "output_type": "stream",
     "text": [
      "trigger times: 0\n",
      "[Epoch: 2] train loss: 0.809 train f1: 0.309 \n",
      "[Epoch: 2] val loss:0.786 val f1:0.334 \n"
     ]
    },
    {
     "data": {
      "application/vnd.jupyter.widget-view+json": {
       "model_id": "ebc27e8bbf2f4787a599c7d09a2e44cd",
       "version_major": 2,
       "version_minor": 0
      },
      "text/plain": [
       "Epoch 3/100 [Training]:   0%|          | 0/1757 [00:00<?, ?it/s]"
      ]
     },
     "metadata": {},
     "output_type": "display_data"
    },
    {
     "data": {
      "application/vnd.jupyter.widget-view+json": {
       "model_id": "e319f8456b844b2fa0394d239310ba55",
       "version_major": 2,
       "version_minor": 0
      },
      "text/plain": [
       "Epoch 3/100 [Validation]:   0%|          | 0/440 [00:00<?, ?it/s]"
      ]
     },
     "metadata": {},
     "output_type": "display_data"
    },
    {
     "name": "stdout",
     "output_type": "stream",
     "text": [
      "trigger times: 0\n",
      "[Epoch: 3] train loss: 0.805 train f1: 0.312 \n",
      "[Epoch: 3] val loss:0.782 val f1:0.336 \n"
     ]
    },
    {
     "data": {
      "application/vnd.jupyter.widget-view+json": {
       "model_id": "10bc7faac9f34bf3a8192a0701730a73",
       "version_major": 2,
       "version_minor": 0
      },
      "text/plain": [
       "Epoch 4/100 [Training]:   0%|          | 0/1757 [00:00<?, ?it/s]"
      ]
     },
     "metadata": {},
     "output_type": "display_data"
    },
    {
     "data": {
      "application/vnd.jupyter.widget-view+json": {
       "model_id": "20891a8dc40b486e95e71f134aa7c83e",
       "version_major": 2,
       "version_minor": 0
      },
      "text/plain": [
       "Epoch 4/100 [Validation]:   0%|          | 0/440 [00:00<?, ?it/s]"
      ]
     },
     "metadata": {},
     "output_type": "display_data"
    },
    {
     "name": "stderr",
     "output_type": "stream",
     "text": [
      "\n",
      "KeyboardInterrupt\n",
      "\n"
     ]
    }
   ],
   "source": [
    "MIN_PATH = 'swin_model/min_loss_model.pth'\n",
    "PATH = 'swin_model/last_model.pth'\n",
    "for epoch in range(EPOCHS):  # loop over the dataset multiple times\n",
    "\n",
    "    running_loss = 0.0\n",
    "    val_loss = 0.0\n",
    "    \n",
    "    train_f1_epoch = 0.0\n",
    "    val_f1_epoch = 0.0\n",
    "\n",
    "    model.train()\n",
    "    train_loop = tqdm(enumerate(train_loader), total=len(train_loader), desc=f'Epoch {epoch+1}/{EPOCHS} [Training]')\n",
    "\n",
    "    for i, data in enumerate(train_loader):\n",
    "        inputs, labels = data\n",
    "        inputs = inputs.to(DEVICE)\n",
    "        labels = labels.to(DEVICE)\n",
    "        \n",
    "        optimizer.zero_grad()\n",
    "        outputs = model(inputs)\n",
    "        \n",
    "        loss = criterion(outputs.logits, labels)\n",
    "        \n",
    "        # 获取最可能的类别索引\n",
    "        _, preds = torch.max(outputs.logits, dim=1)\n",
    "        # 更新累计的 F1 分数\n",
    "        train_f1_epoch += f1(preds, labels).item()\n",
    "\n",
    "        loss.backward()\n",
    "        optimizer.step()\n",
    "\n",
    "        running_loss += loss.item()\n",
    "        # 更新进度条信息\n",
    "        train_loop.set_postfix(loss=running_loss/(i+1), f1=train_f1_epoch/(i+1))\n",
    "    \n",
    "    avg_train_loss = running_loss / len(train_loader)\n",
    "    avg_train_f1 = train_f1_epoch / len(train_loader) \n",
    "\n",
    "    train_loss_values.append(avg_train_loss)\n",
    "    train_f1.append(avg_train_f1)\n",
    "\n",
    "    model.eval()\n",
    "    val_loop = tqdm(enumerate(val_loader), total=len(val_loader), desc=f'Epoch {epoch+1}/{EPOCHS} [Validation]')\n",
    "\n",
    "    with torch.no_grad():\n",
    "        for i, data in enumerate(val_loader):\n",
    "                    inputs, labels = data\n",
    "                    inputs = inputs.to(DEVICE)\n",
    "                    labels = labels.to(DEVICE)\n",
    "\n",
    "                    outputs = model(inputs)\n",
    "                    loss = criterion(outputs.logits, labels)\n",
    "\n",
    "                    # 获取最可能的类别索引并计算 F1 分数\n",
    "                    _, preds = torch.max(outputs.logits, dim=1)\n",
    "                    val_f1_epoch += f1(preds, labels).item()\n",
    "\n",
    "                    val_loss += loss.item()\n",
    "                    \n",
    "                    val_loop.set_postfix(loss=val_loss/(i+1), f1=val_f1_epoch/(i+1))\n",
    "\n",
    "          \n",
    "        avg_val_loss = val_loss / len(val_loader)\n",
    "        avg_val_f1 = val_f1_epoch / len(val_loader) \n",
    "         # 检查路径是否存在，如果不存在则创建\n",
    "        min_path_dir = os.path.dirname(MIN_PATH)\n",
    "        path_dir = os.path.dirname(PATH)\n",
    "        if not os.path.exists(min_path_dir):\n",
    "            os.makedirs(min_path_dir)\n",
    "        if not os.path.exists(path_dir):\n",
    "            os.makedirs(path_dir)\n",
    "            \n",
    "            \n",
    "        if avg_val_loss < min_val_loss:\n",
    "            print('New min val loss:', avg_val_loss)\n",
    "          # save the model\n",
    "            torch.save({'epoch': epoch,\n",
    "                      'model_state_dict': model.state_dict(),\n",
    "                      'optimizer_state_dict': optimizer.state_dict(),\n",
    "                      'loss': loss,\n",
    "                      }, MIN_PATH)\n",
    "            min_val_loss = avg_val_loss\n",
    "\n",
    "        # early stopping\n",
    "        if avg_val_loss > last_val_loss:\n",
    "            trigger_times += 1\n",
    "            print('Trigger Times:', trigger_times)\n",
    "\n",
    "            if trigger_times >= patience:\n",
    "                print('Early stopping!\\nStop training.')\n",
    "                # save the model\n",
    "                torch.save({'epoch': epoch,\n",
    "                            'model_state_dict': model.state_dict(),\n",
    "                            'optimizer_state_dict': optimizer.state_dict(),\n",
    "                            'loss': loss,\n",
    "                            }, PATH)\n",
    "                break\n",
    "        else:\n",
    "            print('trigger times: 0')\n",
    "            trigger_times = 0\n",
    "        val_loss_values.append(avg_val_loss)\n",
    "        val_f1.append(avg_val_f1)\n",
    "\n",
    "    print(f'[Epoch: {epoch + 1}] train loss: {avg_train_loss:.3f} train f1: {avg_train_f1:.3f} ')\n",
    "    print(f'[Epoch: {epoch + 1}] val loss:{avg_val_loss:.3f} val f1:{avg_val_f1:.3f} ')\n",
    "\n",
    "print('Finished Training')"
   ]
  },
  {
   "cell_type": "code",
   "execution_count": null,
   "metadata": {
    "id": "pdeFeCwN3apM",
    "tags": []
   },
   "outputs": [],
   "source": [
    "x = np.arange(EPOCHS)\n",
    "y = np.array(train_f1)\n",
    "z = np.array(val_f1)\n",
    "\n",
    "# plot lines\n",
    "plt.plot(x, y, label = \"train f1\")\n",
    "plt.plot(x, z, label = \"val f1\")\n",
    "plt.legend()\n",
    "plt.show()"
   ]
  },
  {
   "cell_type": "markdown",
   "metadata": {
    "id": "Qvmnwc9LbcCq"
   },
   "source": [
    "# Submission"
   ]
  },
  {
   "cell_type": "code",
   "execution_count": null,
   "metadata": {
    "id": "SBPSio5ubhYE"
   },
   "outputs": [],
   "source": [
    "# unzip the data\n",
    "!unzip /content/drive/MyDrive/LMU/SS2022/UDLSeminar/DiabeticRetinopathyGradingTest.zip"
   ]
  },
  {
   "cell_type": "code",
   "execution_count": 24,
   "metadata": {
    "id": "KqwF_HAGdaO6"
   },
   "outputs": [],
   "source": [
    "ROOT_TEST_DIR = 'input/aptos2019-blindness-detection/train_images'"
   ]
  },
  {
   "cell_type": "code",
   "execution_count": null,
   "metadata": {
    "id": "u8onkpZ0jLbN"
   },
   "outputs": [],
   "source": [
    "!cd '/content/C. Diabetic Retinopathy Grading/1. Original Images/b. Testing Set' && ls > /content/test_filenames.csv"
   ]
  },
  {
   "cell_type": "code",
   "execution_count": null,
   "metadata": {
    "id": "JTKoj22ZkADQ"
   },
   "outputs": [],
   "source": [
    "!cat /content/test_filenames.csv"
   ]
  },
  {
   "cell_type": "code",
   "execution_count": 31,
   "metadata": {
    "id": "Y04vEBjOkoV-"
   },
   "outputs": [],
   "source": [
    "csv_test_name = 'input/aptos2019-blindness-detection/train.csv'"
   ]
  },
  {
   "cell_type": "code",
   "execution_count": 32,
   "metadata": {
    "id": "aqtWd6QxcfuN"
   },
   "outputs": [],
   "source": [
    "from torchvision.io import read_image\n",
    "\n",
    "# data loader for test images\n",
    "class CustomTestDataset(Dataset):\n",
    "    \"\"\"Face Landmarks dataset.\"\"\"\n",
    "\n",
    "    def __init__(self, csv_file, root_dir, transform=None):\n",
    "        \"\"\"\n",
    "        Args:\n",
    "            csv_file (string): Path to the csv file with annotations.\n",
    "            root_dir (string): Directory with all the images.\n",
    "            transform (callable, optional): Optional transform to be applied\n",
    "                on a sample.\n",
    "        \"\"\"\n",
    "        self.annotations = pd.read_csv(csv_file, header=None)\n",
    "        self.root_dir = root_dir\n",
    "        self.transform = transform\n",
    "\n",
    "    def __len__(self):\n",
    "        return len(self.annotations)\n",
    "\n",
    "    def __getitem__(self, idx):\n",
    "        if torch.is_tensor(idx):\n",
    "            idx = idx.tolist()\n",
    "\n",
    "        img_name = os.path.join(self.root_dir,\n",
    "                                self.annotations.iloc[idx, 0])\n",
    "        # image = read_image(img_name)\n",
    "        image = Image.open(img_name)\n",
    "\n",
    "        if self.transform:\n",
    "            image = self.transform(image)\n",
    "\n",
    "        return image"
   ]
  },
  {
   "cell_type": "code",
   "execution_count": 33,
   "metadata": {
    "id": "d-e_tzCrdJvi"
   },
   "outputs": [],
   "source": [
    "transform = transforms.Compose([transforms.PILToTensor(),\n",
    "                                transforms.Resize((IMAGE_SIZE,IMAGE_SIZE)),\n",
    "                                transforms.ConvertImageDtype(torch.float)])"
   ]
  },
  {
   "cell_type": "code",
   "execution_count": 34,
   "metadata": {
    "id": "HB1ieQK5dVly"
   },
   "outputs": [],
   "source": [
    "test_dataset = CustomTestDataset(csv_test_name,ROOT_TEST_DIR, transform)"
   ]
  },
  {
   "cell_type": "code",
   "execution_count": 35,
   "metadata": {
    "id": "GbNJQVLPg__0"
   },
   "outputs": [],
   "source": [
    "test_loader = torch.utils.data.DataLoader(test_dataset, batch_size=1,\n",
    "                                           num_workers=NUM_WORKERS, pin_memory=True)"
   ]
  },
  {
   "cell_type": "markdown",
   "metadata": {
    "colab": {
     "base_uri": "https://localhost:8080/",
     "height": 34
    },
    "id": "KznG1u5ihRew",
    "jupyter": {
     "outputs_hidden": true
    },
    "outputId": "8702baa1-81d3-4f43-9193-865dc40f16da",
    "tags": []
   },
   "source": [
    "image = next(iter(test_loader))\n",
    "display(image.shape)"
   ]
  },
  {
   "cell_type": "markdown",
   "metadata": {
    "id": "3kb1WtxWQ8P3"
   },
   "source": [
    "# Test Loop"
   ]
  },
  {
   "cell_type": "code",
   "execution_count": 36,
   "metadata": {
    "colab": {
     "base_uri": "https://localhost:8080/",
     "height": 222,
     "referenced_widgets": [
      "8a948da2579d4f309b8ea70fdf5284ef",
      "d09ea9a035424ec1b699bc4f40aafa10",
      "c9e57dd7fd804947b9d31ac06c7421a1",
      "a18777a0bfce4ee7b37a2a4850deed24",
      "8f17604fca084e24bed0c02da20003ad",
      "9411490f029a4923ba4a797bd276f2f2",
      "0f4c1e88af8640f58d7e1cbe4c2ffa50",
      "c71e41f7c2dc4c429b61d63b7e1b6258",
      "7d9153cfdf0e47d493ce16339cafdb96",
      "a134bdf1b78747ac86a59861a1443192",
      "62621fd0e77c44bb810569da1c46be8d",
      "94e81b1a2ab240469d7c3e71d11c0b17",
      "7015cb230ee14f04b6d02d1db16e0519",
      "740880f54e66464a8c1d9eea9a1d9a1d",
      "4ba5e3a19bb94667a730310c826cea77",
      "7d25613312ca4ba48d6bacb622ebfa78",
      "9b37056ace1b410799b754adc379f755",
      "f10f6e54bd934a8cb7bf2aa2a9408769",
      "646935b9ba7141acb477d23b382c9601",
      "481b63accbf945078fe1acb679193985",
      "c153dabd4bb94c68a4f3f2a16d9161bc",
      "be468fc531ff49759900f35eeec715c1"
     ]
    },
    "id": "WdTbO34JQ_zw",
    "outputId": "82ae12bd-e395-454c-d540-dfd1c93f5056",
    "tags": []
   },
   "outputs": [
    {
     "name": "stderr",
     "output_type": "stream",
     "text": [
      "Some weights of SwinForImageClassification were not initialized from the model checkpoint at microsoft/swin-tiny-patch4-window7-224 and are newly initialized because the shapes did not match:\n",
      "- classifier.bias: found shape torch.Size([1000]) in the checkpoint and torch.Size([5]) in the model instantiated\n",
      "- classifier.weight: found shape torch.Size([1000, 768]) in the checkpoint and torch.Size([5, 768]) in the model instantiated\n",
      "You should probably TRAIN this model on a down-stream task to be able to use it for predictions and inference.\n"
     ]
    }
   ],
   "source": [
    "from torch.optim import AdamW\n",
    "from transformers import AutoFeatureExtractor, SwinForImageClassification\n",
    "from transformers import SwinModel, SwinConfig\n",
    "\n",
    "# Initializing a Swin microsoft/swin-tiny-patch4-window7-224 style configuration\n",
    "configuration = SwinConfig( image_size = IMAGE_SIZE, num_channels = NUM_CHANNELS, num_labels = 5)\n",
    "feature_extractor = AutoFeatureExtractor.from_pretrained(\"microsoft/swin-tiny-patch4-window7-224\")\n",
    "model = SwinForImageClassification.from_pretrained(\"microsoft/swin-tiny-patch4-window7-224\", config = configuration, ignore_mismatched_sizes=True)\n",
    "\n",
    "optimizer = AdamW(model.parameters(), lr=LEARNING_RATE, weight_decay = WEIGHT_DECAY)\n",
    "\n",
    "checkpoint = torch.load(MIN_PATH)\n",
    "model.load_state_dict(checkpoint['model_state_dict'])\n",
    "optimizer.load_state_dict(checkpoint['optimizer_state_dict'])\n",
    "epoch = checkpoint['epoch']\n",
    "loss = checkpoint['loss']\n"
   ]
  },
  {
   "cell_type": "code",
   "execution_count": 37,
   "metadata": {
    "id": "r5aqtTqRVYI5"
   },
   "outputs": [
    {
     "ename": "FileNotFoundError",
     "evalue": "[Errno 2] No such file or directory: 'input/aptos2019-blindness-detection/train_images/id_code'",
     "output_type": "error",
     "traceback": [
      "\u001b[0;31m---------------------------------------------------------------------------\u001b[0m",
      "\u001b[0;31mFileNotFoundError\u001b[0m                         Traceback (most recent call last)",
      "\u001b[0;32m/tmp/ipykernel_25697/2695154992.py\u001b[0m in \u001b[0;36m<module>\u001b[0;34m\u001b[0m\n\u001b[1;32m      4\u001b[0m \u001b[0mmodel\u001b[0m\u001b[0;34m.\u001b[0m\u001b[0meval\u001b[0m\u001b[0;34m(\u001b[0m\u001b[0;34m)\u001b[0m\u001b[0;34m\u001b[0m\u001b[0;34m\u001b[0m\u001b[0m\n\u001b[1;32m      5\u001b[0m \u001b[0;32mwith\u001b[0m \u001b[0mtorch\u001b[0m\u001b[0;34m.\u001b[0m\u001b[0mno_grad\u001b[0m\u001b[0;34m(\u001b[0m\u001b[0;34m)\u001b[0m\u001b[0;34m:\u001b[0m\u001b[0;34m\u001b[0m\u001b[0;34m\u001b[0m\u001b[0m\n\u001b[0;32m----> 6\u001b[0;31m     \u001b[0;32mfor\u001b[0m \u001b[0mi\u001b[0m\u001b[0;34m,\u001b[0m \u001b[0mdata\u001b[0m \u001b[0;32min\u001b[0m \u001b[0menumerate\u001b[0m\u001b[0;34m(\u001b[0m\u001b[0mtest_loader\u001b[0m\u001b[0;34m)\u001b[0m\u001b[0;34m:\u001b[0m\u001b[0;34m\u001b[0m\u001b[0;34m\u001b[0m\u001b[0m\n\u001b[0m\u001b[1;32m      7\u001b[0m         \u001b[0;31m# get the inputs; data is a list of [inputs, labels]\u001b[0m\u001b[0;34m\u001b[0m\u001b[0;34m\u001b[0m\u001b[0;34m\u001b[0m\u001b[0m\n\u001b[1;32m      8\u001b[0m         \u001b[0minputs\u001b[0m \u001b[0;34m=\u001b[0m \u001b[0mdata\u001b[0m\u001b[0;34m\u001b[0m\u001b[0;34m\u001b[0m\u001b[0m\n",
      "\u001b[0;32m/environment/miniconda3/lib/python3.7/site-packages/torch/utils/data/dataloader.py\u001b[0m in \u001b[0;36m__next__\u001b[0;34m(self)\u001b[0m\n\u001b[1;32m    519\u001b[0m             \u001b[0;32mif\u001b[0m \u001b[0mself\u001b[0m\u001b[0;34m.\u001b[0m\u001b[0m_sampler_iter\u001b[0m \u001b[0;32mis\u001b[0m \u001b[0;32mNone\u001b[0m\u001b[0;34m:\u001b[0m\u001b[0;34m\u001b[0m\u001b[0;34m\u001b[0m\u001b[0m\n\u001b[1;32m    520\u001b[0m                 \u001b[0mself\u001b[0m\u001b[0;34m.\u001b[0m\u001b[0m_reset\u001b[0m\u001b[0;34m(\u001b[0m\u001b[0;34m)\u001b[0m\u001b[0;34m\u001b[0m\u001b[0;34m\u001b[0m\u001b[0m\n\u001b[0;32m--> 521\u001b[0;31m             \u001b[0mdata\u001b[0m \u001b[0;34m=\u001b[0m \u001b[0mself\u001b[0m\u001b[0;34m.\u001b[0m\u001b[0m_next_data\u001b[0m\u001b[0;34m(\u001b[0m\u001b[0;34m)\u001b[0m\u001b[0;34m\u001b[0m\u001b[0;34m\u001b[0m\u001b[0m\n\u001b[0m\u001b[1;32m    522\u001b[0m             \u001b[0mself\u001b[0m\u001b[0;34m.\u001b[0m\u001b[0m_num_yielded\u001b[0m \u001b[0;34m+=\u001b[0m \u001b[0;36m1\u001b[0m\u001b[0;34m\u001b[0m\u001b[0;34m\u001b[0m\u001b[0m\n\u001b[1;32m    523\u001b[0m             \u001b[0;32mif\u001b[0m \u001b[0mself\u001b[0m\u001b[0;34m.\u001b[0m\u001b[0m_dataset_kind\u001b[0m \u001b[0;34m==\u001b[0m \u001b[0m_DatasetKind\u001b[0m\u001b[0;34m.\u001b[0m\u001b[0mIterable\u001b[0m \u001b[0;32mand\u001b[0m\u001b[0;31m \u001b[0m\u001b[0;31m\\\u001b[0m\u001b[0;34m\u001b[0m\u001b[0;34m\u001b[0m\u001b[0m\n",
      "\u001b[0;32m/environment/miniconda3/lib/python3.7/site-packages/torch/utils/data/dataloader.py\u001b[0m in \u001b[0;36m_next_data\u001b[0;34m(self)\u001b[0m\n\u001b[1;32m    559\u001b[0m     \u001b[0;32mdef\u001b[0m \u001b[0m_next_data\u001b[0m\u001b[0;34m(\u001b[0m\u001b[0mself\u001b[0m\u001b[0;34m)\u001b[0m\u001b[0;34m:\u001b[0m\u001b[0;34m\u001b[0m\u001b[0;34m\u001b[0m\u001b[0m\n\u001b[1;32m    560\u001b[0m         \u001b[0mindex\u001b[0m \u001b[0;34m=\u001b[0m \u001b[0mself\u001b[0m\u001b[0;34m.\u001b[0m\u001b[0m_next_index\u001b[0m\u001b[0;34m(\u001b[0m\u001b[0;34m)\u001b[0m  \u001b[0;31m# may raise StopIteration\u001b[0m\u001b[0;34m\u001b[0m\u001b[0;34m\u001b[0m\u001b[0m\n\u001b[0;32m--> 561\u001b[0;31m         \u001b[0mdata\u001b[0m \u001b[0;34m=\u001b[0m \u001b[0mself\u001b[0m\u001b[0;34m.\u001b[0m\u001b[0m_dataset_fetcher\u001b[0m\u001b[0;34m.\u001b[0m\u001b[0mfetch\u001b[0m\u001b[0;34m(\u001b[0m\u001b[0mindex\u001b[0m\u001b[0;34m)\u001b[0m  \u001b[0;31m# may raise StopIteration\u001b[0m\u001b[0;34m\u001b[0m\u001b[0;34m\u001b[0m\u001b[0m\n\u001b[0m\u001b[1;32m    562\u001b[0m         \u001b[0;32mif\u001b[0m \u001b[0mself\u001b[0m\u001b[0;34m.\u001b[0m\u001b[0m_pin_memory\u001b[0m\u001b[0;34m:\u001b[0m\u001b[0;34m\u001b[0m\u001b[0;34m\u001b[0m\u001b[0m\n\u001b[1;32m    563\u001b[0m             \u001b[0mdata\u001b[0m \u001b[0;34m=\u001b[0m \u001b[0m_utils\u001b[0m\u001b[0;34m.\u001b[0m\u001b[0mpin_memory\u001b[0m\u001b[0;34m.\u001b[0m\u001b[0mpin_memory\u001b[0m\u001b[0;34m(\u001b[0m\u001b[0mdata\u001b[0m\u001b[0;34m)\u001b[0m\u001b[0;34m\u001b[0m\u001b[0;34m\u001b[0m\u001b[0m\n",
      "\u001b[0;32m/environment/miniconda3/lib/python3.7/site-packages/torch/utils/data/_utils/fetch.py\u001b[0m in \u001b[0;36mfetch\u001b[0;34m(self, possibly_batched_index)\u001b[0m\n\u001b[1;32m     47\u001b[0m     \u001b[0;32mdef\u001b[0m \u001b[0mfetch\u001b[0m\u001b[0;34m(\u001b[0m\u001b[0mself\u001b[0m\u001b[0;34m,\u001b[0m \u001b[0mpossibly_batched_index\u001b[0m\u001b[0;34m)\u001b[0m\u001b[0;34m:\u001b[0m\u001b[0;34m\u001b[0m\u001b[0;34m\u001b[0m\u001b[0m\n\u001b[1;32m     48\u001b[0m         \u001b[0;32mif\u001b[0m \u001b[0mself\u001b[0m\u001b[0;34m.\u001b[0m\u001b[0mauto_collation\u001b[0m\u001b[0;34m:\u001b[0m\u001b[0;34m\u001b[0m\u001b[0;34m\u001b[0m\u001b[0m\n\u001b[0;32m---> 49\u001b[0;31m             \u001b[0mdata\u001b[0m \u001b[0;34m=\u001b[0m \u001b[0;34m[\u001b[0m\u001b[0mself\u001b[0m\u001b[0;34m.\u001b[0m\u001b[0mdataset\u001b[0m\u001b[0;34m[\u001b[0m\u001b[0midx\u001b[0m\u001b[0;34m]\u001b[0m \u001b[0;32mfor\u001b[0m \u001b[0midx\u001b[0m \u001b[0;32min\u001b[0m \u001b[0mpossibly_batched_index\u001b[0m\u001b[0;34m]\u001b[0m\u001b[0;34m\u001b[0m\u001b[0;34m\u001b[0m\u001b[0m\n\u001b[0m\u001b[1;32m     50\u001b[0m         \u001b[0;32melse\u001b[0m\u001b[0;34m:\u001b[0m\u001b[0;34m\u001b[0m\u001b[0;34m\u001b[0m\u001b[0m\n\u001b[1;32m     51\u001b[0m             \u001b[0mdata\u001b[0m \u001b[0;34m=\u001b[0m \u001b[0mself\u001b[0m\u001b[0;34m.\u001b[0m\u001b[0mdataset\u001b[0m\u001b[0;34m[\u001b[0m\u001b[0mpossibly_batched_index\u001b[0m\u001b[0;34m]\u001b[0m\u001b[0;34m\u001b[0m\u001b[0;34m\u001b[0m\u001b[0m\n",
      "\u001b[0;32m/environment/miniconda3/lib/python3.7/site-packages/torch/utils/data/_utils/fetch.py\u001b[0m in \u001b[0;36m<listcomp>\u001b[0;34m(.0)\u001b[0m\n\u001b[1;32m     47\u001b[0m     \u001b[0;32mdef\u001b[0m \u001b[0mfetch\u001b[0m\u001b[0;34m(\u001b[0m\u001b[0mself\u001b[0m\u001b[0;34m,\u001b[0m \u001b[0mpossibly_batched_index\u001b[0m\u001b[0;34m)\u001b[0m\u001b[0;34m:\u001b[0m\u001b[0;34m\u001b[0m\u001b[0;34m\u001b[0m\u001b[0m\n\u001b[1;32m     48\u001b[0m         \u001b[0;32mif\u001b[0m \u001b[0mself\u001b[0m\u001b[0;34m.\u001b[0m\u001b[0mauto_collation\u001b[0m\u001b[0;34m:\u001b[0m\u001b[0;34m\u001b[0m\u001b[0;34m\u001b[0m\u001b[0m\n\u001b[0;32m---> 49\u001b[0;31m             \u001b[0mdata\u001b[0m \u001b[0;34m=\u001b[0m \u001b[0;34m[\u001b[0m\u001b[0mself\u001b[0m\u001b[0;34m.\u001b[0m\u001b[0mdataset\u001b[0m\u001b[0;34m[\u001b[0m\u001b[0midx\u001b[0m\u001b[0;34m]\u001b[0m \u001b[0;32mfor\u001b[0m \u001b[0midx\u001b[0m \u001b[0;32min\u001b[0m \u001b[0mpossibly_batched_index\u001b[0m\u001b[0;34m]\u001b[0m\u001b[0;34m\u001b[0m\u001b[0;34m\u001b[0m\u001b[0m\n\u001b[0m\u001b[1;32m     50\u001b[0m         \u001b[0;32melse\u001b[0m\u001b[0;34m:\u001b[0m\u001b[0;34m\u001b[0m\u001b[0;34m\u001b[0m\u001b[0m\n\u001b[1;32m     51\u001b[0m             \u001b[0mdata\u001b[0m \u001b[0;34m=\u001b[0m \u001b[0mself\u001b[0m\u001b[0;34m.\u001b[0m\u001b[0mdataset\u001b[0m\u001b[0;34m[\u001b[0m\u001b[0mpossibly_batched_index\u001b[0m\u001b[0;34m]\u001b[0m\u001b[0;34m\u001b[0m\u001b[0;34m\u001b[0m\u001b[0m\n",
      "\u001b[0;32m/tmp/ipykernel_25697/455395214.py\u001b[0m in \u001b[0;36m__getitem__\u001b[0;34m(self, idx)\u001b[0m\n\u001b[1;32m     27\u001b[0m                                 self.annotations.iloc[idx, 0])\n\u001b[1;32m     28\u001b[0m         \u001b[0;31m# image = read_image(img_name)\u001b[0m\u001b[0;34m\u001b[0m\u001b[0;34m\u001b[0m\u001b[0;34m\u001b[0m\u001b[0m\n\u001b[0;32m---> 29\u001b[0;31m         \u001b[0mimage\u001b[0m \u001b[0;34m=\u001b[0m \u001b[0mImage\u001b[0m\u001b[0;34m.\u001b[0m\u001b[0mopen\u001b[0m\u001b[0;34m(\u001b[0m\u001b[0mimg_name\u001b[0m\u001b[0;34m)\u001b[0m\u001b[0;34m\u001b[0m\u001b[0;34m\u001b[0m\u001b[0m\n\u001b[0m\u001b[1;32m     30\u001b[0m \u001b[0;34m\u001b[0m\u001b[0m\n\u001b[1;32m     31\u001b[0m         \u001b[0;32mif\u001b[0m \u001b[0mself\u001b[0m\u001b[0;34m.\u001b[0m\u001b[0mtransform\u001b[0m\u001b[0;34m:\u001b[0m\u001b[0;34m\u001b[0m\u001b[0;34m\u001b[0m\u001b[0m\n",
      "\u001b[0;32m/environment/miniconda3/lib/python3.7/site-packages/PIL/Image.py\u001b[0m in \u001b[0;36mopen\u001b[0;34m(fp, mode, formats)\u001b[0m\n\u001b[1;32m   2973\u001b[0m \u001b[0;34m\u001b[0m\u001b[0m\n\u001b[1;32m   2974\u001b[0m     \u001b[0;32mif\u001b[0m \u001b[0mfilename\u001b[0m\u001b[0;34m:\u001b[0m\u001b[0;34m\u001b[0m\u001b[0;34m\u001b[0m\u001b[0m\n\u001b[0;32m-> 2975\u001b[0;31m         \u001b[0mfp\u001b[0m \u001b[0;34m=\u001b[0m \u001b[0mbuiltins\u001b[0m\u001b[0;34m.\u001b[0m\u001b[0mopen\u001b[0m\u001b[0;34m(\u001b[0m\u001b[0mfilename\u001b[0m\u001b[0;34m,\u001b[0m \u001b[0;34m\"rb\"\u001b[0m\u001b[0;34m)\u001b[0m\u001b[0;34m\u001b[0m\u001b[0;34m\u001b[0m\u001b[0m\n\u001b[0m\u001b[1;32m   2976\u001b[0m         \u001b[0mexclusive_fp\u001b[0m \u001b[0;34m=\u001b[0m \u001b[0;32mTrue\u001b[0m\u001b[0;34m\u001b[0m\u001b[0;34m\u001b[0m\u001b[0m\n\u001b[1;32m   2977\u001b[0m \u001b[0;34m\u001b[0m\u001b[0m\n",
      "\u001b[0;31mFileNotFoundError\u001b[0m: [Errno 2] No such file or directory: 'input/aptos2019-blindness-detection/train_images/id_code'"
     ]
    }
   ],
   "source": [
    "predictions = torch.zeros((len(test_dataset), 5))\n",
    "model.to(DEVICE)\n",
    "\n",
    "model.eval()\n",
    "with torch.no_grad():\n",
    "    for i, data in enumerate(test_loader):\n",
    "        # get the inputs; data is a list of [inputs, labels]\n",
    "        inputs = data\n",
    "        inputs = inputs.to(DEVICE)\n",
    "        \n",
    "        # forward + backward + optimize\n",
    "        outputs = model(inputs)\n",
    "\n",
    "        predictions[i, :] = outputs.logits.cpu()\n",
    "\n"
   ]
  },
  {
   "cell_type": "code",
   "execution_count": null,
   "metadata": {
    "id": "Ej-eIA58Ww_r"
   },
   "outputs": [],
   "source": [
    "predictions = torch.nn.functional.softmax(predictions, dim=1).numpy()"
   ]
  },
  {
   "cell_type": "code",
   "execution_count": null,
   "metadata": {
    "colab": {
     "base_uri": "https://localhost:8080/",
     "height": 182
    },
    "id": "BgojVd4AKT6U",
    "outputId": "63645bda-9a1a-4259-aff9-f5fa8d6f4519"
   },
   "outputs": [
    {
     "ename": "NameError",
     "evalue": "ignored",
     "output_type": "error",
     "traceback": [
      "\u001b[0;31m---------------------------------------------------------------------------\u001b[0m",
      "\u001b[0;31mNameError\u001b[0m                                 Traceback (most recent call last)",
      "\u001b[0;32m<ipython-input-1-380a0264a378>\u001b[0m in \u001b[0;36m<module>\u001b[0;34m\u001b[0m\n\u001b[1;32m      1\u001b[0m \u001b[0;31m# Calculate the pseudo-loss\u001b[0m\u001b[0;34m\u001b[0m\u001b[0;34m\u001b[0m\u001b[0;34m\u001b[0m\u001b[0m\n\u001b[0;32m----> 2\u001b[0;31m \u001b[0mtest_loss\u001b[0m \u001b[0;34m=\u001b[0m \u001b[0mnn\u001b[0m\u001b[0;34m.\u001b[0m\u001b[0mCrossEntropy\u001b[0m\u001b[0;34m(\u001b[0m\u001b[0;34m)\u001b[0m\u001b[0;34m\u001b[0m\u001b[0;34m\u001b[0m\u001b[0m\n\u001b[0m",
      "\u001b[0;31mNameError\u001b[0m: name 'nn' is not defined"
     ]
    }
   ],
   "source": [
    "# Calculate the pseudo-loss\n",
    "test_loss = nn.CrossEntropy()\n",
    "test_loss(predictions.argmax(axis=1), predictions)"
   ]
  },
  {
   "cell_type": "code",
   "execution_count": null,
   "metadata": {
    "colab": {
     "base_uri": "https://localhost:8080/"
    },
    "id": "28l-dFXbYBuP",
    "outputId": "33bbc169-434c-4419-9574-59cbe7dda26b"
   },
   "outputs": [
    {
     "data": {
      "text/plain": [
       "(386,)"
      ]
     },
     "execution_count": 42,
     "metadata": {},
     "output_type": "execute_result"
    }
   ],
   "source": [
    "predicted_classes = predictions.argmax(axis=1)\n",
    "predicted_classes.shape"
   ]
  },
  {
   "cell_type": "code",
   "execution_count": null,
   "metadata": {
    "id": "8ZNPcWyFXpLu"
   },
   "outputs": [],
   "source": [
    "submission = pd.read_csv(csv_test_name, header=None)\n",
    "submission.columns = ['case']\n",
    "submission['class'] =  predicted_classes"
   ]
  },
  {
   "cell_type": "code",
   "execution_count": null,
   "metadata": {
    "colab": {
     "base_uri": "https://localhost:8080/",
     "height": 424
    },
    "id": "IYRjDXNGYj4Z",
    "outputId": "d8fedda1-8e7e-4812-e21b-3c1a1676475b"
   },
   "outputs": [
    {
     "data": {
      "text/html": [
       "\n",
       "  <div id=\"df-f5439309-2928-472c-b743-010347b7fe39\">\n",
       "    <div class=\"colab-df-container\">\n",
       "      <div>\n",
       "<style scoped>\n",
       "    .dataframe tbody tr th:only-of-type {\n",
       "        vertical-align: middle;\n",
       "    }\n",
       "\n",
       "    .dataframe tbody tr th {\n",
       "        vertical-align: top;\n",
       "    }\n",
       "\n",
       "    .dataframe thead th {\n",
       "        text-align: right;\n",
       "    }\n",
       "</style>\n",
       "<table border=\"1\" class=\"dataframe\">\n",
       "  <thead>\n",
       "    <tr style=\"text-align: right;\">\n",
       "      <th></th>\n",
       "      <th>case</th>\n",
       "      <th>class</th>\n",
       "    </tr>\n",
       "  </thead>\n",
       "  <tbody>\n",
       "    <tr>\n",
       "      <th>0</th>\n",
       "      <td>1000.png</td>\n",
       "      <td>2</td>\n",
       "    </tr>\n",
       "    <tr>\n",
       "      <th>1</th>\n",
       "      <td>1001.png</td>\n",
       "      <td>1</td>\n",
       "    </tr>\n",
       "    <tr>\n",
       "      <th>2</th>\n",
       "      <td>1002.png</td>\n",
       "      <td>1</td>\n",
       "    </tr>\n",
       "    <tr>\n",
       "      <th>3</th>\n",
       "      <td>1003.png</td>\n",
       "      <td>2</td>\n",
       "    </tr>\n",
       "    <tr>\n",
       "      <th>4</th>\n",
       "      <td>1004.png</td>\n",
       "      <td>2</td>\n",
       "    </tr>\n",
       "    <tr>\n",
       "      <th>...</th>\n",
       "      <td>...</td>\n",
       "      <td>...</td>\n",
       "    </tr>\n",
       "    <tr>\n",
       "      <th>381</th>\n",
       "      <td>995.png</td>\n",
       "      <td>2</td>\n",
       "    </tr>\n",
       "    <tr>\n",
       "      <th>382</th>\n",
       "      <td>996.png</td>\n",
       "      <td>2</td>\n",
       "    </tr>\n",
       "    <tr>\n",
       "      <th>383</th>\n",
       "      <td>997.png</td>\n",
       "      <td>1</td>\n",
       "    </tr>\n",
       "    <tr>\n",
       "      <th>384</th>\n",
       "      <td>998.png</td>\n",
       "      <td>2</td>\n",
       "    </tr>\n",
       "    <tr>\n",
       "      <th>385</th>\n",
       "      <td>999.png</td>\n",
       "      <td>2</td>\n",
       "    </tr>\n",
       "  </tbody>\n",
       "</table>\n",
       "<p>386 rows × 2 columns</p>\n",
       "</div>\n",
       "      <button class=\"colab-df-convert\" onclick=\"convertToInteractive('df-f5439309-2928-472c-b743-010347b7fe39')\"\n",
       "              title=\"Convert this dataframe to an interactive table.\"\n",
       "              style=\"display:none;\">\n",
       "        \n",
       "  <svg xmlns=\"http://www.w3.org/2000/svg\" height=\"24px\"viewBox=\"0 0 24 24\"\n",
       "       width=\"24px\">\n",
       "    <path d=\"M0 0h24v24H0V0z\" fill=\"none\"/>\n",
       "    <path d=\"M18.56 5.44l.94 2.06.94-2.06 2.06-.94-2.06-.94-.94-2.06-.94 2.06-2.06.94zm-11 1L8.5 8.5l.94-2.06 2.06-.94-2.06-.94L8.5 2.5l-.94 2.06-2.06.94zm10 10l.94 2.06.94-2.06 2.06-.94-2.06-.94-.94-2.06-.94 2.06-2.06.94z\"/><path d=\"M17.41 7.96l-1.37-1.37c-.4-.4-.92-.59-1.43-.59-.52 0-1.04.2-1.43.59L10.3 9.45l-7.72 7.72c-.78.78-.78 2.05 0 2.83L4 21.41c.39.39.9.59 1.41.59.51 0 1.02-.2 1.41-.59l7.78-7.78 2.81-2.81c.8-.78.8-2.07 0-2.86zM5.41 20L4 18.59l7.72-7.72 1.47 1.35L5.41 20z\"/>\n",
       "  </svg>\n",
       "      </button>\n",
       "      \n",
       "  <style>\n",
       "    .colab-df-container {\n",
       "      display:flex;\n",
       "      flex-wrap:wrap;\n",
       "      gap: 12px;\n",
       "    }\n",
       "\n",
       "    .colab-df-convert {\n",
       "      background-color: #E8F0FE;\n",
       "      border: none;\n",
       "      border-radius: 50%;\n",
       "      cursor: pointer;\n",
       "      display: none;\n",
       "      fill: #1967D2;\n",
       "      height: 32px;\n",
       "      padding: 0 0 0 0;\n",
       "      width: 32px;\n",
       "    }\n",
       "\n",
       "    .colab-df-convert:hover {\n",
       "      background-color: #E2EBFA;\n",
       "      box-shadow: 0px 1px 2px rgba(60, 64, 67, 0.3), 0px 1px 3px 1px rgba(60, 64, 67, 0.15);\n",
       "      fill: #174EA6;\n",
       "    }\n",
       "\n",
       "    [theme=dark] .colab-df-convert {\n",
       "      background-color: #3B4455;\n",
       "      fill: #D2E3FC;\n",
       "    }\n",
       "\n",
       "    [theme=dark] .colab-df-convert:hover {\n",
       "      background-color: #434B5C;\n",
       "      box-shadow: 0px 1px 3px 1px rgba(0, 0, 0, 0.15);\n",
       "      filter: drop-shadow(0px 1px 2px rgba(0, 0, 0, 0.3));\n",
       "      fill: #FFFFFF;\n",
       "    }\n",
       "  </style>\n",
       "\n",
       "      <script>\n",
       "        const buttonEl =\n",
       "          document.querySelector('#df-f5439309-2928-472c-b743-010347b7fe39 button.colab-df-convert');\n",
       "        buttonEl.style.display =\n",
       "          google.colab.kernel.accessAllowed ? 'block' : 'none';\n",
       "\n",
       "        async function convertToInteractive(key) {\n",
       "          const element = document.querySelector('#df-f5439309-2928-472c-b743-010347b7fe39');\n",
       "          const dataTable =\n",
       "            await google.colab.kernel.invokeFunction('convertToInteractive',\n",
       "                                                     [key], {});\n",
       "          if (!dataTable) return;\n",
       "\n",
       "          const docLinkHtml = 'Like what you see? Visit the ' +\n",
       "            '<a target=\"_blank\" href=https://colab.research.google.com/notebooks/data_table.ipynb>data table notebook</a>'\n",
       "            + ' to learn more about interactive tables.';\n",
       "          element.innerHTML = '';\n",
       "          dataTable['output_type'] = 'display_data';\n",
       "          await google.colab.output.renderOutput(dataTable, element);\n",
       "          const docLink = document.createElement('div');\n",
       "          docLink.innerHTML = docLinkHtml;\n",
       "          element.appendChild(docLink);\n",
       "        }\n",
       "      </script>\n",
       "    </div>\n",
       "  </div>\n",
       "  "
      ],
      "text/plain": [
       "         case  class\n",
       "0    1000.png      2\n",
       "1    1001.png      1\n",
       "2    1002.png      1\n",
       "3    1003.png      2\n",
       "4    1004.png      2\n",
       "..        ...    ...\n",
       "381   995.png      2\n",
       "382   996.png      2\n",
       "383   997.png      1\n",
       "384   998.png      2\n",
       "385   999.png      2\n",
       "\n",
       "[386 rows x 2 columns]"
      ]
     },
     "execution_count": 47,
     "metadata": {},
     "output_type": "execute_result"
    }
   ],
   "source": [
    "submission"
   ]
  },
  {
   "cell_type": "code",
   "execution_count": null,
   "metadata": {
    "id": "gOsIae7JZKzc"
   },
   "outputs": [],
   "source": [
    "submission['P0'] = predictions[:,0]\n",
    "submission['P1'] = predictions[:,1]\n",
    "submission['P2'] = predictions[:,2]\n",
    "submission['P3'] = predictions[:,3]\n",
    "submission['P4'] = predictions[:,4]\n"
   ]
  },
  {
   "cell_type": "code",
   "execution_count": null,
   "metadata": {
    "id": "EB_24V29ZYvn"
   },
   "outputs": [],
   "source": [
    "submission.to_csv('/content/drive/MyDrive/LMU/SS2022/UDLSeminar/submission_csv.csv')"
   ]
  },
  {
   "cell_type": "markdown",
   "metadata": {},
   "source": [
    "# 评估"
   ]
  },
  {
   "cell_type": "code",
   "execution_count": 46,
   "metadata": {},
   "outputs": [],
   "source": [
    "import pandas as pd\n",
    "from torch.utils.data import Dataset\n",
    "from torchvision.transforms import Compose, Resize, ToTensor\n",
    "from PIL import Image\n",
    "\n",
    "# 定义自定义数据集类\n",
    "class MyDataset(Dataset):\n",
    "    def __init__(self, dataframe, image_dir, transform=None):\n",
    "        self.dataframe = dataframe\n",
    "        self.image_dir = image_dir\n",
    "        self.transform = transform\n",
    "\n",
    "    def __len__(self):\n",
    "        return len(self.dataframe)\n",
    "\n",
    "    def __getitem__(self, idx):\n",
    "        img_name = self.dataframe.iloc[idx, 0]  # 图像文件名在 CSV 文件的第一列\n",
    "        img_path = os.path.join(self.image_dir, img_name)\n",
    "        image = Image.open(img_path)\n",
    "        label = self.dataframe.iloc[idx, 1]  # 标签在 CSV 文件的第二列\n",
    "        if self.transform:\n",
    "            image = self.transform(image)\n",
    "        return image, label\n",
    "\n",
    "# 读取 CSV 文件\n",
    "csv_file = 'input/aptos2019-blindness-detection/train.csv'\n",
    "df = pd.read_csv(csv_file)\n",
    "\n",
    "# 图像文件目录\n",
    "image_dir = 'input/aptos2019-blindness-detection/'\n",
    "\n",
    "# 定义预处理转换\n",
    "transform = Compose([\n",
    "    Resize((224, 224)),\n",
    "    ToTensor()\n",
    "])\n",
    "\n",
    "# 创建测试数据集\n",
    "test_dataset = MyDataset(dataframe=df, image_dir=image_dir, transform=transform)\n"
   ]
  },
  {
   "cell_type": "code",
   "execution_count": 28,
   "metadata": {},
   "outputs": [
    {
     "ename": "NameError",
     "evalue": "name 'MyDataset' is not defined",
     "output_type": "error",
     "traceback": [
      "\u001b[0;31m---------------------------------------------------------------------------\u001b[0m",
      "\u001b[0;31mNameError\u001b[0m                                 Traceback (most recent call last)",
      "\u001b[0;32m/tmp/ipykernel_20361/396570213.py\u001b[0m in \u001b[0;36m<module>\u001b[0;34m\u001b[0m\n\u001b[1;32m     76\u001b[0m \u001b[0;34m\u001b[0m\u001b[0m\n\u001b[1;32m     77\u001b[0m \u001b[0;31m# 定义测试数据集\u001b[0m\u001b[0;34m\u001b[0m\u001b[0;34m\u001b[0m\u001b[0;34m\u001b[0m\u001b[0m\n\u001b[0;32m---> 78\u001b[0;31m \u001b[0mtest_dataset\u001b[0m \u001b[0;34m=\u001b[0m \u001b[0mMyDataset\u001b[0m\u001b[0;34m(\u001b[0m\u001b[0mdataframe\u001b[0m\u001b[0;34m=\u001b[0m\u001b[0mdf\u001b[0m\u001b[0;34m,\u001b[0m \u001b[0mimage_dir\u001b[0m\u001b[0;34m=\u001b[0m\u001b[0mimage_dir\u001b[0m\u001b[0;34m,\u001b[0m \u001b[0mtransform\u001b[0m\u001b[0;34m=\u001b[0m\u001b[0mtransform\u001b[0m\u001b[0;34m)\u001b[0m\u001b[0;34m\u001b[0m\u001b[0;34m\u001b[0m\u001b[0m\n\u001b[0m\u001b[1;32m     79\u001b[0m \u001b[0;34m\u001b[0m\u001b[0m\n\u001b[1;32m     80\u001b[0m \u001b[0;34m\u001b[0m\u001b[0m\n",
      "\u001b[0;31mNameError\u001b[0m: name 'MyDataset' is not defined"
     ]
    }
   ],
   "source": [
    "import cv2\n",
    "import numpy as np\n",
    "import torch\n",
    "from torch.utils.data import DataLoader\n",
    "from tqdm import tqdm\n",
    "from sklearn.metrics import accuracy_score, f1_score\n",
    "import csv\n",
    "\n",
    "# 定义预处理函数\n",
    "def crop_image_from_gray(img, tol=7):\n",
    "    if img.ndim == 2:\n",
    "        mask = img > tol\n",
    "        return img[np.ix_(mask.any(1), mask.any(0))]\n",
    "    elif img.ndim == 3:\n",
    "        gray_img = cv2.cvtColor(img, cv2.COLOR_RGB2GRAY)\n",
    "        mask = gray_img > tol\n",
    "        check_shape = img[:, :, 0][np.ix_(mask.any(1), mask.any(0))].shape[0]\n",
    "        if check_shape == 0:\n",
    "            return img\n",
    "        else:\n",
    "            img1 = img[:, :, 0][np.ix_(mask.any(1), mask.any(0))]\n",
    "            img2 = img[:, :, 1][np.ix_(mask.any(1), mask.any(0))]\n",
    "            img3 = img[:, :, 2][np.ix_(mask.any(1), mask.any(0))]\n",
    "            img = np.stack([img1, img2, img3], axis=-1)\n",
    "        return img\n",
    "\n",
    "def preprocess_image(img):\n",
    "    img = crop_image_from_gray(img)\n",
    "    img = cv2.resize(img, (224, 224))\n",
    "    img = cv2.addWeighted(img, 4, cv2.GaussianBlur(img, (0, 0), 224 / 30), -4, 128)\n",
    "    return img\n",
    "\n",
    "# 定义评估函数\n",
    "def evaluate_model(model_dict, test_loader, true_labels_file):\n",
    "    # 加载模型\n",
    "    model = torch.load('swin_model/last_model.pth_epoch_45.pth')\n",
    "    model.load_state_dict(model_dict['model_state_dict'])  # 加载模型状态字典\n",
    "\n",
    "    device = torch.device('cuda' if torch.cuda.is_available() else 'cpu')\n",
    "    model.to(device)\n",
    "    model.eval()\n",
    "\n",
    "    true_labels = []\n",
    "\n",
    "    # 读取真实标签的 CSV 文件\n",
    "    with open(true_labels_file, 'r') as file:\n",
    "        csv_reader = csv.reader(file)\n",
    "        for row in csv_reader:\n",
    "            true_labels.append(int(row[1]))  # 假设 CSV 文件的第二列包含标签\n",
    "\n",
    "    predicted_labels = []\n",
    "\n",
    "    with torch.no_grad():\n",
    "        for images, labels in tqdm(test_loader, desc='Evaluation'):\n",
    "            images = images.numpy()  # 将 PyTorch 张量转换为 NumPy 数组\n",
    "            images = np.array([preprocess_image(img) for img in images])  # 对每个图像应用预处理\n",
    "\n",
    "            # 模型推理\n",
    "            images = torch.tensor(images).permute(0, 3, 1, 2).to(device)  # 调整输入张量的形状和设备\n",
    "            outputs = model(images)\n",
    "            _, predicted = torch.max(outputs, 1)\n",
    "\n",
    "            # 保存预测标签\n",
    "            predicted_labels.extend(predicted.cpu().numpy())\n",
    "\n",
    "    # 计算准确率和 F1 分数\n",
    "    accuracy = accuracy_score(true_labels, predicted_labels)\n",
    "    f1 = f1_score(true_labels, predicted_labels, average='weighted')\n",
    "    \n",
    "    print(f'Accuracy: {accuracy:.4f}')\n",
    "    print(f'F1 Score: {f1:.4f}')\n",
    "\n",
    "# 示例用法\n",
    "# 加载模型\n",
    "model = torch.load('thebest_swin_30.pth')\n",
    "\n",
    "# 定义测试数据集\n",
    "test_dataset = MyDataset(dataframe=df, image_dir=image_dir, transform=transform)\n",
    "\n",
    "\n",
    "# 定义数据加载器\n",
    "test_loader = DataLoader(test_dataset, batch_size=32, shuffle=False)\n",
    "\n",
    "# 调用评估函数\n",
    "evaluate_model(model, test_loader, 'input/aptos2019-blindness-detection/train.csv')  # 将 'true_labels.csv' 替换为真实标签的 CSV 文件路径\n"
   ]
  },
  {
   "cell_type": "markdown",
   "metadata": {},
   "source": [
    "# predict预测"
   ]
  },
  {
   "cell_type": "code",
   "execution_count": 33,
   "metadata": {},
   "outputs": [
    {
     "name": "stderr",
     "output_type": "stream",
     "text": [
      "Some weights of SwinForImageClassification were not initialized from the model checkpoint at microsoft/swin-tiny-patch4-window7-224 and are newly initialized because the shapes did not match:\n",
      "- classifier.bias: found shape torch.Size([1000]) in the checkpoint and torch.Size([5]) in the model instantiated\n",
      "- classifier.weight: found shape torch.Size([1000, 768]) in the checkpoint and torch.Size([5, 768]) in the model instantiated\n",
      "You should probably TRAIN this model on a down-stream task to be able to use it for predictions and inference.\n"
     ]
    },
    {
     "name": "stdout",
     "output_type": "stream",
     "text": [
      "Predicted class index: 2\n"
     ]
    }
   ],
   "source": [
    "from transformers import SwinForImageClassification, SwinConfig, AutoFeatureExtractor\n",
    "from PIL import Image\n",
    "import requests\n",
    "import torch\n",
    "\n",
    "# 假设的一些参数，根据您的需求进行调整\n",
    "IMAGE_SIZE = 224\n",
    "NUM_CHANNELS = 3\n",
    "NUM_LABELS = 5  # 假设有5个分类\n",
    "\n",
    "# 初始化配置和模型\n",
    "configuration = SwinConfig(image_size=IMAGE_SIZE, num_channels=NUM_CHANNELS, num_labels=NUM_LABELS)\n",
    "feature_extractor = AutoFeatureExtractor.from_pretrained(\"microsoft/swin-tiny-patch4-window7-224\")\n",
    "model = SwinForImageClassification.from_pretrained(\"microsoft/swin-tiny-patch4-window7-224\", config=configuration, ignore_mismatched_sizes=True)\n",
    "\n",
    "checkpoint = torch.load(PATH)\n",
    "model.load_state_dict(checkpoint['model_state_dict'])\n",
    "optimizer.load_state_dict(checkpoint['optimizer_state_dict'])\n",
    "epoch = checkpoint['epoch']\n",
    "loss = checkpoint['loss']\n",
    "# # 步骤1: 加载保存的模型状态字典\n",
    "# model_path = \"swin_model/last_model.pth_epoch_25.pth\"\n",
    "# state_dict = torch.load(model_path)\n",
    "\n",
    "# # 步骤2: 创建配置对象\n",
    "# configuration = SwinConfig()\n",
    "\n",
    "# # 步骤3: 加载模型并传入配置对象和状态字典\n",
    "# model = SwinForImageClassification(configuration)\n",
    "# model.load_state_dict(state_dict)\n",
    "\n",
    "# 加载和预处理图像\n",
    "def load_and_preprocess_image(image_path):\n",
    "    image = Image.open(image_path)\n",
    "    # 使用特征提取器预处理图像\n",
    "    inputs = feature_extractor(images=image, return_tensors=\"pt\")\n",
    "    return inputs['pixel_values']\n",
    "\n",
    "# 图像路径，可以是本地路径或URL\n",
    "image_path = 'input/aptos2019-blindness-detection/train_images/000c1434d8d7.png'  # 更换为您的图像路径\n",
    "# 如果是URL，使用下面的代码加载图像\n",
    "# image = Image.open(requests.get(image_url, stream=True).raw)\n",
    "\n",
    "# 预处理图像\n",
    "pixel_values = load_and_preprocess_image(image_path)\n",
    "\n",
    "# 预测\n",
    "model.eval()  # 设置为评估模式\n",
    "with torch.no_grad():\n",
    "    outputs = model(pixel_values)\n",
    "    \n",
    "# 解析预测结果\n",
    "predictions = torch.nn.functional.softmax(outputs.logits, dim=-1)\n",
    "predicted_class_idx = predictions.argmax(-1).item()\n",
    "\n",
    "print(f'Predicted class index: {predicted_class_idx}')\n",
    "# 如果有类别标签，可以将索引映射到具体的类别名\n"
   ]
  },
  {
   "cell_type": "code",
   "execution_count": 35,
   "metadata": {},
   "outputs": [
    {
     "ename": "RuntimeError",
     "evalue": "Error(s) in loading state_dict for SwinForImageClassification:\n\tsize mismatch for classifier.weight: copying a param with shape torch.Size([5, 768]) from checkpoint, the shape in current model is torch.Size([2, 768]).\n\tsize mismatch for classifier.bias: copying a param with shape torch.Size([5]) from checkpoint, the shape in current model is torch.Size([2]).",
     "output_type": "error",
     "traceback": [
      "\u001b[0;31m---------------------------------------------------------------------------\u001b[0m",
      "\u001b[0;31mRuntimeError\u001b[0m                              Traceback (most recent call last)",
      "\u001b[0;32m/tmp/ipykernel_20361/3445815291.py\u001b[0m in \u001b[0;36m<module>\u001b[0;34m\u001b[0m\n\u001b[1;32m     13\u001b[0m \u001b[0;31m# 加载模型参数\u001b[0m\u001b[0;34m\u001b[0m\u001b[0;34m\u001b[0m\u001b[0;34m\u001b[0m\u001b[0m\n\u001b[1;32m     14\u001b[0m \u001b[0mcheckpoint\u001b[0m \u001b[0;34m=\u001b[0m \u001b[0mtorch\u001b[0m\u001b[0;34m.\u001b[0m\u001b[0mload\u001b[0m\u001b[0;34m(\u001b[0m\u001b[0mPATH\u001b[0m\u001b[0;34m)\u001b[0m\u001b[0;34m\u001b[0m\u001b[0;34m\u001b[0m\u001b[0m\n\u001b[0;32m---> 15\u001b[0;31m \u001b[0mmodel\u001b[0m\u001b[0;34m.\u001b[0m\u001b[0mload_state_dict\u001b[0m\u001b[0;34m(\u001b[0m\u001b[0mcheckpoint\u001b[0m\u001b[0;34m[\u001b[0m\u001b[0;34m'model_state_dict'\u001b[0m\u001b[0;34m]\u001b[0m\u001b[0;34m)\u001b[0m\u001b[0;34m\u001b[0m\u001b[0;34m\u001b[0m\u001b[0m\n\u001b[0m\u001b[1;32m     16\u001b[0m \u001b[0moptimizer\u001b[0m\u001b[0;34m.\u001b[0m\u001b[0mload_state_dict\u001b[0m\u001b[0;34m(\u001b[0m\u001b[0mcheckpoint\u001b[0m\u001b[0;34m[\u001b[0m\u001b[0;34m'optimizer_state_dict'\u001b[0m\u001b[0;34m]\u001b[0m\u001b[0;34m)\u001b[0m\u001b[0;34m\u001b[0m\u001b[0;34m\u001b[0m\u001b[0m\n\u001b[1;32m     17\u001b[0m \u001b[0mepoch\u001b[0m \u001b[0;34m=\u001b[0m \u001b[0mcheckpoint\u001b[0m\u001b[0;34m[\u001b[0m\u001b[0;34m'epoch'\u001b[0m\u001b[0;34m]\u001b[0m\u001b[0;34m\u001b[0m\u001b[0;34m\u001b[0m\u001b[0m\n",
      "\u001b[0;32m/environment/miniconda3/lib/python3.7/site-packages/torch/nn/modules/module.py\u001b[0m in \u001b[0;36mload_state_dict\u001b[0;34m(self, state_dict, strict)\u001b[0m\n\u001b[1;32m   1481\u001b[0m         \u001b[0;32mif\u001b[0m \u001b[0mlen\u001b[0m\u001b[0;34m(\u001b[0m\u001b[0merror_msgs\u001b[0m\u001b[0;34m)\u001b[0m \u001b[0;34m>\u001b[0m \u001b[0;36m0\u001b[0m\u001b[0;34m:\u001b[0m\u001b[0;34m\u001b[0m\u001b[0;34m\u001b[0m\u001b[0m\n\u001b[1;32m   1482\u001b[0m             raise RuntimeError('Error(s) in loading state_dict for {}:\\n\\t{}'.format(\n\u001b[0;32m-> 1483\u001b[0;31m                                self.__class__.__name__, \"\\n\\t\".join(error_msgs)))\n\u001b[0m\u001b[1;32m   1484\u001b[0m         \u001b[0;32mreturn\u001b[0m \u001b[0m_IncompatibleKeys\u001b[0m\u001b[0;34m(\u001b[0m\u001b[0mmissing_keys\u001b[0m\u001b[0;34m,\u001b[0m \u001b[0munexpected_keys\u001b[0m\u001b[0;34m)\u001b[0m\u001b[0;34m\u001b[0m\u001b[0;34m\u001b[0m\u001b[0m\n\u001b[1;32m   1485\u001b[0m \u001b[0;34m\u001b[0m\u001b[0m\n",
      "\u001b[0;31mRuntimeError\u001b[0m: Error(s) in loading state_dict for SwinForImageClassification:\n\tsize mismatch for classifier.weight: copying a param with shape torch.Size([5, 768]) from checkpoint, the shape in current model is torch.Size([2, 768]).\n\tsize mismatch for classifier.bias: copying a param with shape torch.Size([5]) from checkpoint, the shape in current model is torch.Size([2])."
     ]
    }
   ],
   "source": [
    "import pandas as pd\n",
    "import torch\n",
    "import torchvision.transforms as transforms\n",
    "from PIL import Image\n",
    "import cv2\n",
    "from transformers import SwinConfig, SwinForImageClassification\n",
    "import numpy as np\n",
    "\n",
    "# 步骤1: 加载模型\n",
    "configuration = SwinConfig()\n",
    "model = SwinForImageClassification(configuration)\n",
    "\n",
    "# 加载模型参数\n",
    "checkpoint = torch.load(PATH)\n",
    "model.load_state_dict(checkpoint['model_state_dict'])\n",
    "optimizer.load_state_dict(checkpoint['optimizer_state_dict'])\n",
    "epoch = checkpoint['epoch']\n",
    "loss = checkpoint['loss']\n",
    "\n",
    "# model_path = \"thebest_swin_30.pth\"\n",
    "# state_dict = torch.load(model_path)\n",
    "# model.load_state_dict(state_dict)\n",
    "model.eval()\n",
    "\n",
    "# 步骤2: 定义图像预处理函数\n",
    "def preprocess_image(img):\n",
    "    img = cv2.cvtColor(img, cv2.COLOR_BGR2RGB)\n",
    "\n",
    "    def crop_image_from_gray(img, tol=7):\n",
    "        if img.ndim == 2:\n",
    "            mask = img > tol\n",
    "            return img[np.ix_(mask.any(1), mask.any(0))]\n",
    "        elif img.ndim == 3:\n",
    "            gray_img = cv2.cvtColor(img, cv2.COLOR_RGB2GRAY)\n",
    "            mask = gray_img > tol\n",
    "            check_shape = img[:, :, 0][np.ix_(mask.any(1), mask.any(0))].shape[0]\n",
    "            if check_shape == 0:\n",
    "                return img\n",
    "            else:\n",
    "                img1 = img[:, :, 0][np.ix_(mask.any(1), mask.any(0))]\n",
    "                img2 = img[:, :, 1][np.ix_(mask.any(1), mask.any(0))]\n",
    "                img3 = img[:, :, 2][np.ix_(mask.any(1), mask.any(0))]\n",
    "                img = np.stack([img1, img2, img3], axis=-1)\n",
    "            return img\n",
    "\n",
    "    img = crop_image_from_gray(img)\n",
    "    img = cv2.resize(img, (224, 224))\n",
    "    img = cv2.addWeighted(img, 4, cv2.GaussianBlur(img, (0, 0), 224 / 30), -4, 128)\n",
    "    img = transforms.ToTensor()(img)\n",
    "    img = transforms.Normalize(mean=[0.485, 0.456, 0.406], std=[0.229, 0.224, 0.225])(img)\n",
    "    img = img.unsqueeze(0)\n",
    "    return img\n",
    "\n",
    "# 步骤3: 加载并预处理图片\n",
    "img_path = 'input/aptos2019-blindness-detection/train_images/05a5183c92d0.png'\n",
    "img = cv2.imread(img_path)\n",
    "img_tensor = preprocess_image(img)\n",
    "\n",
    "# 步骤4: 预测\n",
    "with torch.no_grad():\n",
    "    output = model(img_tensor)\n",
    "\n",
    "# 步骤5: 解析结果\n",
    "predicted_class = torch.argmax(output, dim=1).item()\n",
    "print(\"Predicted class:\", predicted_class)\n",
    "\n",
    "# 步骤6: 加载真实标签\n",
    "csv_file = 'input/aptos2019-blindness-detection/train.csv'\n",
    "df = pd.read_csv(csv_file)\n",
    "true_label = df.loc[df['image_path'] == img_path, 'true_label'].values[0]\n",
    "\n",
    "# 步骤7: 比较预测标签和真实标签\n",
    "if predicted_class == true_label:\n",
    "    print(\"Prediction is correct!\")\n",
    "else:\n",
    "    print(\"Prediction is incorrect.\")\n"
   ]
  },
  {
   "cell_type": "code",
   "execution_count": 38,
   "metadata": {},
   "outputs": [
    {
     "name": "stderr",
     "output_type": "stream",
     "text": [
      "Some weights of SwinForImageClassification were not initialized from the model checkpoint at microsoft/swin-tiny-patch4-window7-224 and are newly initialized because the shapes did not match:\n",
      "- classifier.bias: found shape torch.Size([1000]) in the checkpoint and torch.Size([5]) in the model instantiated\n",
      "- classifier.weight: found shape torch.Size([1000, 768]) in the checkpoint and torch.Size([5, 768]) in the model instantiated\n",
      "You should probably TRAIN this model on a down-stream task to be able to use it for predictions and inference.\n"
     ]
    },
    {
     "name": "stdout",
     "output_type": "stream",
     "text": [
      "Predicted class index: 4\n"
     ]
    }
   ],
   "source": [
    "import pandas as pd\n",
    "import torch\n",
    "import torchvision.transforms as transforms\n",
    "from PIL import Image\n",
    "import cv2\n",
    "from transformers import SwinForImageClassification, SwinConfig, AutoFeatureExtractor\n",
    "\n",
    "# 初始化配置和模型\n",
    "configuration = SwinConfig(image_size=IMAGE_SIZE, num_channels=NUM_CHANNELS, num_labels=NUM_LABELS)\n",
    "feature_extractor = AutoFeatureExtractor.from_pretrained(\"microsoft/swin-tiny-patch4-window7-224\")\n",
    "model = SwinForImageClassification.from_pretrained(\"microsoft/swin-tiny-patch4-window7-224\", config=configuration, ignore_mismatched_sizes=True)\n",
    "\n",
    "# 加载保存的模型参数\n",
    "checkpoint = torch.load(PATH)\n",
    "model.load_state_dict(checkpoint['model_state_dict'])\n",
    "optimizer.load_state_dict(checkpoint['optimizer_state_dict'])\n",
    "epoch = checkpoint['epoch']\n",
    "loss = checkpoint['loss']\n",
    "\n",
    "#图像预处理\n",
    "def preprocess_image(img):\n",
    "    img = cv2.cvtColor(img, cv2.COLOR_BGR2RGB)\n",
    "\n",
    "    def crop_image_from_gray(img, tol=7):\n",
    "        if img.ndim == 2:\n",
    "            mask = img > tol\n",
    "            return img[np.ix_(mask.any(1), mask.any(0))]\n",
    "        elif img.ndim == 3:\n",
    "            gray_img = cv2.cvtColor(img, cv2.COLOR_RGB2GRAY)\n",
    "            mask = gray_img > tol\n",
    "            check_shape = img[:, :, 0][np.ix_(mask.any(1), mask.any(0))].shape[0]\n",
    "            if check_shape == 0:\n",
    "                return img\n",
    "            else:\n",
    "                img1 = img[:, :, 0][np.ix_(mask.any(1), mask.any(0))]\n",
    "                img2 = img[:, :, 1][np.ix_(mask.any(1), mask.any(0))]\n",
    "                img3 = img[:, :, 2][np.ix_(mask.any(1), mask.any(0))]\n",
    "                img = np.stack([img1, img2, img3], axis=-1)\n",
    "            return img\n",
    "\n",
    "    img = crop_image_from_gray(img)\n",
    "    img = cv2.resize(img, (224, 224))\n",
    "    img = cv2.addWeighted(img, 4, cv2.GaussianBlur(img, (0, 0), 224 / 30), -4, 128)\n",
    "    img = transforms.ToTensor()(img)\n",
    "    img = transforms.Normalize(mean=[0.485, 0.456, 0.406], std=[0.229, 0.224, 0.225])(img)\n",
    "    img = img.unsqueeze(0)\n",
    "    return img\n",
    "\n",
    "# 加载和预处理图像\n",
    "def load_and_preprocess_image(image_path):\n",
    "    image = cv2.imread(image_path)\n",
    "    # 使用预处理函数对图像进行预处理\n",
    "    img_tensor = preprocess_image(image)\n",
    "    return img_tensor\n",
    "\n",
    "# 图像路径\n",
    "image_path = 'input/aptos2019-blindness-detection/train_images/001639a390f0.png'\n",
    "\n",
    "# 预处理图像\n",
    "pixel_values = load_and_preprocess_image(image_path)\n",
    "\n",
    "# 预测\n",
    "model.eval()  \n",
    "with torch.no_grad():\n",
    "    outputs = model(pixel_values)\n",
    "    \n",
    "# 解析预测结果\n",
    "predictions = torch.nn.functional.softmax(outputs.logits, dim=-1)\n",
    "predicted_class_idx = predictions.argmax(-1).item()\n",
    "\n",
    "print(f'Predicted class index: {predicted_class_idx}')\n",
    "# 如果有类别标签，可以将索引映射到具体的类别名\n"
   ]
  },
  {
   "cell_type": "code",
   "execution_count": null,
   "metadata": {},
   "outputs": [],
   "source": []
  }
 ],
 "metadata": {
  "accelerator": "GPU",
  "colab": {
   "collapsed_sections": [],
   "provenance": []
  },
  "gpuClass": "standard",
  "kernelspec": {
   "display_name": "Python 3 (ipykernel)",
   "language": "python",
   "name": "python3"
  },
  "language_info": {
   "codemirror_mode": {
    "name": "ipython",
    "version": 3
   },
   "file_extension": ".py",
   "mimetype": "text/x-python",
   "name": "python",
   "nbconvert_exporter": "python",
   "pygments_lexer": "ipython3",
   "version": "3.8.13"
  },
  "widgets": {
   "application/vnd.jupyter.widget-state+json": {
    "01e8dda5af974c9aaf16e894babcb796": {
     "model_module": "@jupyter-widgets/base",
     "model_module_version": "1.2.0",
     "model_name": "LayoutModel",
     "state": {
      "_model_module": "@jupyter-widgets/base",
      "_model_module_version": "1.2.0",
      "_model_name": "LayoutModel",
      "_view_count": null,
      "_view_module": "@jupyter-widgets/base",
      "_view_module_version": "1.2.0",
      "_view_name": "LayoutView",
      "align_content": null,
      "align_items": null,
      "align_self": null,
      "border": null,
      "bottom": null,
      "display": null,
      "flex": null,
      "flex_flow": null,
      "grid_area": null,
      "grid_auto_columns": null,
      "grid_auto_flow": null,
      "grid_auto_rows": null,
      "grid_column": null,
      "grid_gap": null,
      "grid_row": null,
      "grid_template_areas": null,
      "grid_template_columns": null,
      "grid_template_rows": null,
      "height": null,
      "justify_content": null,
      "justify_items": null,
      "left": null,
      "margin": null,
      "max_height": null,
      "max_width": null,
      "min_height": null,
      "min_width": null,
      "object_fit": null,
      "object_position": null,
      "order": null,
      "overflow": null,
      "overflow_x": null,
      "overflow_y": null,
      "padding": null,
      "right": null,
      "top": null,
      "visibility": null,
      "width": null
     }
    },
    "0a7bdeb5456940d7beb673025982c983": {
     "model_module": "@jupyter-widgets/base",
     "model_module_version": "1.2.0",
     "model_name": "LayoutModel",
     "state": {
      "_model_module": "@jupyter-widgets/base",
      "_model_module_version": "1.2.0",
      "_model_name": "LayoutModel",
      "_view_count": null,
      "_view_module": "@jupyter-widgets/base",
      "_view_module_version": "1.2.0",
      "_view_name": "LayoutView",
      "align_content": null,
      "align_items": null,
      "align_self": null,
      "border": null,
      "bottom": null,
      "display": null,
      "flex": null,
      "flex_flow": null,
      "grid_area": null,
      "grid_auto_columns": null,
      "grid_auto_flow": null,
      "grid_auto_rows": null,
      "grid_column": null,
      "grid_gap": null,
      "grid_row": null,
      "grid_template_areas": null,
      "grid_template_columns": null,
      "grid_template_rows": null,
      "height": null,
      "justify_content": null,
      "justify_items": null,
      "left": null,
      "margin": null,
      "max_height": null,
      "max_width": null,
      "min_height": null,
      "min_width": null,
      "object_fit": null,
      "object_position": null,
      "order": null,
      "overflow": null,
      "overflow_x": null,
      "overflow_y": null,
      "padding": null,
      "right": null,
      "top": null,
      "visibility": null,
      "width": null
     }
    },
    "0f4c1e88af8640f58d7e1cbe4c2ffa50": {
     "model_module": "@jupyter-widgets/controls",
     "model_module_version": "1.5.0",
     "model_name": "DescriptionStyleModel",
     "state": {
      "_model_module": "@jupyter-widgets/controls",
      "_model_module_version": "1.5.0",
      "_model_name": "DescriptionStyleModel",
      "_view_count": null,
      "_view_module": "@jupyter-widgets/base",
      "_view_module_version": "1.2.0",
      "_view_name": "StyleView",
      "description_width": ""
     }
    },
    "1f9790ceed4c494c86d60541c335edf4": {
     "model_module": "@jupyter-widgets/base",
     "model_module_version": "1.2.0",
     "model_name": "LayoutModel",
     "state": {
      "_model_module": "@jupyter-widgets/base",
      "_model_module_version": "1.2.0",
      "_model_name": "LayoutModel",
      "_view_count": null,
      "_view_module": "@jupyter-widgets/base",
      "_view_module_version": "1.2.0",
      "_view_name": "LayoutView",
      "align_content": null,
      "align_items": null,
      "align_self": null,
      "border": null,
      "bottom": null,
      "display": null,
      "flex": null,
      "flex_flow": null,
      "grid_area": null,
      "grid_auto_columns": null,
      "grid_auto_flow": null,
      "grid_auto_rows": null,
      "grid_column": null,
      "grid_gap": null,
      "grid_row": null,
      "grid_template_areas": null,
      "grid_template_columns": null,
      "grid_template_rows": null,
      "height": null,
      "justify_content": null,
      "justify_items": null,
      "left": null,
      "margin": null,
      "max_height": null,
      "max_width": null,
      "min_height": null,
      "min_width": null,
      "object_fit": null,
      "object_position": null,
      "order": null,
      "overflow": null,
      "overflow_x": null,
      "overflow_y": null,
      "padding": null,
      "right": null,
      "top": null,
      "visibility": null,
      "width": null
     }
    },
    "215f7e12d3f6497394bba47e49cec6d4": {
     "model_module": "@jupyter-widgets/controls",
     "model_module_version": "1.5.0",
     "model_name": "HTMLModel",
     "state": {
      "_dom_classes": [],
      "_model_module": "@jupyter-widgets/controls",
      "_model_module_version": "1.5.0",
      "_model_name": "HTMLModel",
      "_view_count": null,
      "_view_module": "@jupyter-widgets/controls",
      "_view_module_version": "1.5.0",
      "_view_name": "HTMLView",
      "description": "",
      "description_tooltip": null,
      "layout": "IPY_MODEL_bfa4352f581c4477bbc357d60a268903",
      "placeholder": "​",
      "style": "IPY_MODEL_3cb3ea5764df45de98f43cac28f40186",
      "value": " 108M/108M [00:02&lt;00:00, 47.8MB/s]"
     }
    },
    "2d651585caee4770bb8b88db4590ba13": {
     "model_module": "@jupyter-widgets/controls",
     "model_module_version": "1.5.0",
     "model_name": "ProgressStyleModel",
     "state": {
      "_model_module": "@jupyter-widgets/controls",
      "_model_module_version": "1.5.0",
      "_model_name": "ProgressStyleModel",
      "_view_count": null,
      "_view_module": "@jupyter-widgets/base",
      "_view_module_version": "1.2.0",
      "_view_name": "StyleView",
      "bar_color": null,
      "description_width": ""
     }
    },
    "2f8978d9746248a996cb9737a1143cf7": {
     "model_module": "@jupyter-widgets/controls",
     "model_module_version": "1.5.0",
     "model_name": "FloatProgressModel",
     "state": {
      "_dom_classes": [],
      "_model_module": "@jupyter-widgets/controls",
      "_model_module_version": "1.5.0",
      "_model_name": "FloatProgressModel",
      "_view_count": null,
      "_view_module": "@jupyter-widgets/controls",
      "_view_module_version": "1.5.0",
      "_view_name": "ProgressView",
      "bar_style": "success",
      "description": "",
      "description_tooltip": null,
      "layout": "IPY_MODEL_4af678e8f1fb41c0b1d4b5dea0d984e1",
      "max": 113476015,
      "min": 0,
      "orientation": "horizontal",
      "style": "IPY_MODEL_2d651585caee4770bb8b88db4590ba13",
      "value": 113476015
     }
    },
    "34b27acfcc934b0f94fe1bbfadb3769b": {
     "model_module": "@jupyter-widgets/controls",
     "model_module_version": "1.5.0",
     "model_name": "DescriptionStyleModel",
     "state": {
      "_model_module": "@jupyter-widgets/controls",
      "_model_module_version": "1.5.0",
      "_model_name": "DescriptionStyleModel",
      "_view_count": null,
      "_view_module": "@jupyter-widgets/base",
      "_view_module_version": "1.2.0",
      "_view_name": "StyleView",
      "description_width": ""
     }
    },
    "361b1c35e40a48d7b3c73d709cc3d135": {
     "model_module": "@jupyter-widgets/controls",
     "model_module_version": "1.5.0",
     "model_name": "HTMLModel",
     "state": {
      "_dom_classes": [],
      "_model_module": "@jupyter-widgets/controls",
      "_model_module_version": "1.5.0",
      "_model_name": "HTMLModel",
      "_view_count": null,
      "_view_module": "@jupyter-widgets/controls",
      "_view_module_version": "1.5.0",
      "_view_name": "HTMLView",
      "description": "",
      "description_tooltip": null,
      "layout": "IPY_MODEL_e5058eb6b6654787b1cb7184927ffbc6",
      "placeholder": "​",
      "style": "IPY_MODEL_34b27acfcc934b0f94fe1bbfadb3769b",
      "value": "Downloading preprocessor_config.json: 100%"
     }
    },
    "39713f4ce80b4774926cf787dd415c4e": {
     "model_module": "@jupyter-widgets/controls",
     "model_module_version": "1.5.0",
     "model_name": "HTMLModel",
     "state": {
      "_dom_classes": [],
      "_model_module": "@jupyter-widgets/controls",
      "_model_module_version": "1.5.0",
      "_model_name": "HTMLModel",
      "_view_count": null,
      "_view_module": "@jupyter-widgets/controls",
      "_view_module_version": "1.5.0",
      "_view_name": "HTMLView",
      "description": "",
      "description_tooltip": null,
      "layout": "IPY_MODEL_0a7bdeb5456940d7beb673025982c983",
      "placeholder": "​",
      "style": "IPY_MODEL_be48bbbb83db4bcc831932bf1ed79f06",
      "value": " 255/255 [00:00&lt;00:00, 6.55kB/s]"
     }
    },
    "3cb3ea5764df45de98f43cac28f40186": {
     "model_module": "@jupyter-widgets/controls",
     "model_module_version": "1.5.0",
     "model_name": "DescriptionStyleModel",
     "state": {
      "_model_module": "@jupyter-widgets/controls",
      "_model_module_version": "1.5.0",
      "_model_name": "DescriptionStyleModel",
      "_view_count": null,
      "_view_module": "@jupyter-widgets/base",
      "_view_module_version": "1.2.0",
      "_view_name": "StyleView",
      "description_width": ""
     }
    },
    "481b63accbf945078fe1acb679193985": {
     "model_module": "@jupyter-widgets/controls",
     "model_module_version": "1.5.0",
     "model_name": "ProgressStyleModel",
     "state": {
      "_model_module": "@jupyter-widgets/controls",
      "_model_module_version": "1.5.0",
      "_model_name": "ProgressStyleModel",
      "_view_count": null,
      "_view_module": "@jupyter-widgets/base",
      "_view_module_version": "1.2.0",
      "_view_name": "StyleView",
      "bar_color": null,
      "description_width": ""
     }
    },
    "4af678e8f1fb41c0b1d4b5dea0d984e1": {
     "model_module": "@jupyter-widgets/base",
     "model_module_version": "1.2.0",
     "model_name": "LayoutModel",
     "state": {
      "_model_module": "@jupyter-widgets/base",
      "_model_module_version": "1.2.0",
      "_model_name": "LayoutModel",
      "_view_count": null,
      "_view_module": "@jupyter-widgets/base",
      "_view_module_version": "1.2.0",
      "_view_name": "LayoutView",
      "align_content": null,
      "align_items": null,
      "align_self": null,
      "border": null,
      "bottom": null,
      "display": null,
      "flex": null,
      "flex_flow": null,
      "grid_area": null,
      "grid_auto_columns": null,
      "grid_auto_flow": null,
      "grid_auto_rows": null,
      "grid_column": null,
      "grid_gap": null,
      "grid_row": null,
      "grid_template_areas": null,
      "grid_template_columns": null,
      "grid_template_rows": null,
      "height": null,
      "justify_content": null,
      "justify_items": null,
      "left": null,
      "margin": null,
      "max_height": null,
      "max_width": null,
      "min_height": null,
      "min_width": null,
      "object_fit": null,
      "object_position": null,
      "order": null,
      "overflow": null,
      "overflow_x": null,
      "overflow_y": null,
      "padding": null,
      "right": null,
      "top": null,
      "visibility": null,
      "width": null
     }
    },
    "4ba5e3a19bb94667a730310c826cea77": {
     "model_module": "@jupyter-widgets/controls",
     "model_module_version": "1.5.0",
     "model_name": "HTMLModel",
     "state": {
      "_dom_classes": [],
      "_model_module": "@jupyter-widgets/controls",
      "_model_module_version": "1.5.0",
      "_model_name": "HTMLModel",
      "_view_count": null,
      "_view_module": "@jupyter-widgets/controls",
      "_view_module_version": "1.5.0",
      "_view_name": "HTMLView",
      "description": "",
      "description_tooltip": null,
      "layout": "IPY_MODEL_c153dabd4bb94c68a4f3f2a16d9161bc",
      "placeholder": "​",
      "style": "IPY_MODEL_be468fc531ff49759900f35eeec715c1",
      "value": " 108M/108M [00:01&lt;00:00, 63.3MB/s]"
     }
    },
    "62621fd0e77c44bb810569da1c46be8d": {
     "model_module": "@jupyter-widgets/controls",
     "model_module_version": "1.5.0",
     "model_name": "DescriptionStyleModel",
     "state": {
      "_model_module": "@jupyter-widgets/controls",
      "_model_module_version": "1.5.0",
      "_model_name": "DescriptionStyleModel",
      "_view_count": null,
      "_view_module": "@jupyter-widgets/base",
      "_view_module_version": "1.2.0",
      "_view_name": "StyleView",
      "description_width": ""
     }
    },
    "646935b9ba7141acb477d23b382c9601": {
     "model_module": "@jupyter-widgets/base",
     "model_module_version": "1.2.0",
     "model_name": "LayoutModel",
     "state": {
      "_model_module": "@jupyter-widgets/base",
      "_model_module_version": "1.2.0",
      "_model_name": "LayoutModel",
      "_view_count": null,
      "_view_module": "@jupyter-widgets/base",
      "_view_module_version": "1.2.0",
      "_view_name": "LayoutView",
      "align_content": null,
      "align_items": null,
      "align_self": null,
      "border": null,
      "bottom": null,
      "display": null,
      "flex": null,
      "flex_flow": null,
      "grid_area": null,
      "grid_auto_columns": null,
      "grid_auto_flow": null,
      "grid_auto_rows": null,
      "grid_column": null,
      "grid_gap": null,
      "grid_row": null,
      "grid_template_areas": null,
      "grid_template_columns": null,
      "grid_template_rows": null,
      "height": null,
      "justify_content": null,
      "justify_items": null,
      "left": null,
      "margin": null,
      "max_height": null,
      "max_width": null,
      "min_height": null,
      "min_width": null,
      "object_fit": null,
      "object_position": null,
      "order": null,
      "overflow": null,
      "overflow_x": null,
      "overflow_y": null,
      "padding": null,
      "right": null,
      "top": null,
      "visibility": null,
      "width": null
     }
    },
    "681154c821e64caab9947c6e3a222b5e": {
     "model_module": "@jupyter-widgets/controls",
     "model_module_version": "1.5.0",
     "model_name": "ProgressStyleModel",
     "state": {
      "_model_module": "@jupyter-widgets/controls",
      "_model_module_version": "1.5.0",
      "_model_name": "ProgressStyleModel",
      "_view_count": null,
      "_view_module": "@jupyter-widgets/base",
      "_view_module_version": "1.2.0",
      "_view_name": "StyleView",
      "bar_color": null,
      "description_width": ""
     }
    },
    "68cbee6c1a9948578e6774776038e33d": {
     "model_module": "@jupyter-widgets/base",
     "model_module_version": "1.2.0",
     "model_name": "LayoutModel",
     "state": {
      "_model_module": "@jupyter-widgets/base",
      "_model_module_version": "1.2.0",
      "_model_name": "LayoutModel",
      "_view_count": null,
      "_view_module": "@jupyter-widgets/base",
      "_view_module_version": "1.2.0",
      "_view_name": "LayoutView",
      "align_content": null,
      "align_items": null,
      "align_self": null,
      "border": null,
      "bottom": null,
      "display": null,
      "flex": null,
      "flex_flow": null,
      "grid_area": null,
      "grid_auto_columns": null,
      "grid_auto_flow": null,
      "grid_auto_rows": null,
      "grid_column": null,
      "grid_gap": null,
      "grid_row": null,
      "grid_template_areas": null,
      "grid_template_columns": null,
      "grid_template_rows": null,
      "height": null,
      "justify_content": null,
      "justify_items": null,
      "left": null,
      "margin": null,
      "max_height": null,
      "max_width": null,
      "min_height": null,
      "min_width": null,
      "object_fit": null,
      "object_position": null,
      "order": null,
      "overflow": null,
      "overflow_x": null,
      "overflow_y": null,
      "padding": null,
      "right": null,
      "top": null,
      "visibility": null,
      "width": null
     }
    },
    "7015cb230ee14f04b6d02d1db16e0519": {
     "model_module": "@jupyter-widgets/controls",
     "model_module_version": "1.5.0",
     "model_name": "HTMLModel",
     "state": {
      "_dom_classes": [],
      "_model_module": "@jupyter-widgets/controls",
      "_model_module_version": "1.5.0",
      "_model_name": "HTMLModel",
      "_view_count": null,
      "_view_module": "@jupyter-widgets/controls",
      "_view_module_version": "1.5.0",
      "_view_name": "HTMLView",
      "description": "",
      "description_tooltip": null,
      "layout": "IPY_MODEL_9b37056ace1b410799b754adc379f755",
      "placeholder": "​",
      "style": "IPY_MODEL_f10f6e54bd934a8cb7bf2aa2a9408769",
      "value": "Downloading pytorch_model.bin: 100%"
     }
    },
    "740880f54e66464a8c1d9eea9a1d9a1d": {
     "model_module": "@jupyter-widgets/controls",
     "model_module_version": "1.5.0",
     "model_name": "FloatProgressModel",
     "state": {
      "_dom_classes": [],
      "_model_module": "@jupyter-widgets/controls",
      "_model_module_version": "1.5.0",
      "_model_name": "FloatProgressModel",
      "_view_count": null,
      "_view_module": "@jupyter-widgets/controls",
      "_view_module_version": "1.5.0",
      "_view_name": "ProgressView",
      "bar_style": "success",
      "description": "",
      "description_tooltip": null,
      "layout": "IPY_MODEL_646935b9ba7141acb477d23b382c9601",
      "max": 113476015,
      "min": 0,
      "orientation": "horizontal",
      "style": "IPY_MODEL_481b63accbf945078fe1acb679193985",
      "value": 113476015
     }
    },
    "7d25613312ca4ba48d6bacb622ebfa78": {
     "model_module": "@jupyter-widgets/base",
     "model_module_version": "1.2.0",
     "model_name": "LayoutModel",
     "state": {
      "_model_module": "@jupyter-widgets/base",
      "_model_module_version": "1.2.0",
      "_model_name": "LayoutModel",
      "_view_count": null,
      "_view_module": "@jupyter-widgets/base",
      "_view_module_version": "1.2.0",
      "_view_name": "LayoutView",
      "align_content": null,
      "align_items": null,
      "align_self": null,
      "border": null,
      "bottom": null,
      "display": null,
      "flex": null,
      "flex_flow": null,
      "grid_area": null,
      "grid_auto_columns": null,
      "grid_auto_flow": null,
      "grid_auto_rows": null,
      "grid_column": null,
      "grid_gap": null,
      "grid_row": null,
      "grid_template_areas": null,
      "grid_template_columns": null,
      "grid_template_rows": null,
      "height": null,
      "justify_content": null,
      "justify_items": null,
      "left": null,
      "margin": null,
      "max_height": null,
      "max_width": null,
      "min_height": null,
      "min_width": null,
      "object_fit": null,
      "object_position": null,
      "order": null,
      "overflow": null,
      "overflow_x": null,
      "overflow_y": null,
      "padding": null,
      "right": null,
      "top": null,
      "visibility": null,
      "width": null
     }
    },
    "7d9153cfdf0e47d493ce16339cafdb96": {
     "model_module": "@jupyter-widgets/controls",
     "model_module_version": "1.5.0",
     "model_name": "ProgressStyleModel",
     "state": {
      "_model_module": "@jupyter-widgets/controls",
      "_model_module_version": "1.5.0",
      "_model_name": "ProgressStyleModel",
      "_view_count": null,
      "_view_module": "@jupyter-widgets/base",
      "_view_module_version": "1.2.0",
      "_view_name": "StyleView",
      "bar_color": null,
      "description_width": ""
     }
    },
    "8a948da2579d4f309b8ea70fdf5284ef": {
     "model_module": "@jupyter-widgets/controls",
     "model_module_version": "1.5.0",
     "model_name": "HBoxModel",
     "state": {
      "_dom_classes": [],
      "_model_module": "@jupyter-widgets/controls",
      "_model_module_version": "1.5.0",
      "_model_name": "HBoxModel",
      "_view_count": null,
      "_view_module": "@jupyter-widgets/controls",
      "_view_module_version": "1.5.0",
      "_view_name": "HBoxView",
      "box_style": "",
      "children": [
       "IPY_MODEL_d09ea9a035424ec1b699bc4f40aafa10",
       "IPY_MODEL_c9e57dd7fd804947b9d31ac06c7421a1",
       "IPY_MODEL_a18777a0bfce4ee7b37a2a4850deed24"
      ],
      "layout": "IPY_MODEL_8f17604fca084e24bed0c02da20003ad"
     }
    },
    "8f17604fca084e24bed0c02da20003ad": {
     "model_module": "@jupyter-widgets/base",
     "model_module_version": "1.2.0",
     "model_name": "LayoutModel",
     "state": {
      "_model_module": "@jupyter-widgets/base",
      "_model_module_version": "1.2.0",
      "_model_name": "LayoutModel",
      "_view_count": null,
      "_view_module": "@jupyter-widgets/base",
      "_view_module_version": "1.2.0",
      "_view_name": "LayoutView",
      "align_content": null,
      "align_items": null,
      "align_self": null,
      "border": null,
      "bottom": null,
      "display": null,
      "flex": null,
      "flex_flow": null,
      "grid_area": null,
      "grid_auto_columns": null,
      "grid_auto_flow": null,
      "grid_auto_rows": null,
      "grid_column": null,
      "grid_gap": null,
      "grid_row": null,
      "grid_template_areas": null,
      "grid_template_columns": null,
      "grid_template_rows": null,
      "height": null,
      "justify_content": null,
      "justify_items": null,
      "left": null,
      "margin": null,
      "max_height": null,
      "max_width": null,
      "min_height": null,
      "min_width": null,
      "object_fit": null,
      "object_position": null,
      "order": null,
      "overflow": null,
      "overflow_x": null,
      "overflow_y": null,
      "padding": null,
      "right": null,
      "top": null,
      "visibility": null,
      "width": null
     }
    },
    "9411490f029a4923ba4a797bd276f2f2": {
     "model_module": "@jupyter-widgets/base",
     "model_module_version": "1.2.0",
     "model_name": "LayoutModel",
     "state": {
      "_model_module": "@jupyter-widgets/base",
      "_model_module_version": "1.2.0",
      "_model_name": "LayoutModel",
      "_view_count": null,
      "_view_module": "@jupyter-widgets/base",
      "_view_module_version": "1.2.0",
      "_view_name": "LayoutView",
      "align_content": null,
      "align_items": null,
      "align_self": null,
      "border": null,
      "bottom": null,
      "display": null,
      "flex": null,
      "flex_flow": null,
      "grid_area": null,
      "grid_auto_columns": null,
      "grid_auto_flow": null,
      "grid_auto_rows": null,
      "grid_column": null,
      "grid_gap": null,
      "grid_row": null,
      "grid_template_areas": null,
      "grid_template_columns": null,
      "grid_template_rows": null,
      "height": null,
      "justify_content": null,
      "justify_items": null,
      "left": null,
      "margin": null,
      "max_height": null,
      "max_width": null,
      "min_height": null,
      "min_width": null,
      "object_fit": null,
      "object_position": null,
      "order": null,
      "overflow": null,
      "overflow_x": null,
      "overflow_y": null,
      "padding": null,
      "right": null,
      "top": null,
      "visibility": null,
      "width": null
     }
    },
    "94e81b1a2ab240469d7c3e71d11c0b17": {
     "model_module": "@jupyter-widgets/controls",
     "model_module_version": "1.5.0",
     "model_name": "HBoxModel",
     "state": {
      "_dom_classes": [],
      "_model_module": "@jupyter-widgets/controls",
      "_model_module_version": "1.5.0",
      "_model_name": "HBoxModel",
      "_view_count": null,
      "_view_module": "@jupyter-widgets/controls",
      "_view_module_version": "1.5.0",
      "_view_name": "HBoxView",
      "box_style": "",
      "children": [
       "IPY_MODEL_7015cb230ee14f04b6d02d1db16e0519",
       "IPY_MODEL_740880f54e66464a8c1d9eea9a1d9a1d",
       "IPY_MODEL_4ba5e3a19bb94667a730310c826cea77"
      ],
      "layout": "IPY_MODEL_7d25613312ca4ba48d6bacb622ebfa78"
     }
    },
    "9b37056ace1b410799b754adc379f755": {
     "model_module": "@jupyter-widgets/base",
     "model_module_version": "1.2.0",
     "model_name": "LayoutModel",
     "state": {
      "_model_module": "@jupyter-widgets/base",
      "_model_module_version": "1.2.0",
      "_model_name": "LayoutModel",
      "_view_count": null,
      "_view_module": "@jupyter-widgets/base",
      "_view_module_version": "1.2.0",
      "_view_name": "LayoutView",
      "align_content": null,
      "align_items": null,
      "align_self": null,
      "border": null,
      "bottom": null,
      "display": null,
      "flex": null,
      "flex_flow": null,
      "grid_area": null,
      "grid_auto_columns": null,
      "grid_auto_flow": null,
      "grid_auto_rows": null,
      "grid_column": null,
      "grid_gap": null,
      "grid_row": null,
      "grid_template_areas": null,
      "grid_template_columns": null,
      "grid_template_rows": null,
      "height": null,
      "justify_content": null,
      "justify_items": null,
      "left": null,
      "margin": null,
      "max_height": null,
      "max_width": null,
      "min_height": null,
      "min_width": null,
      "object_fit": null,
      "object_position": null,
      "order": null,
      "overflow": null,
      "overflow_x": null,
      "overflow_y": null,
      "padding": null,
      "right": null,
      "top": null,
      "visibility": null,
      "width": null
     }
    },
    "a119e66577824338ab2e73570316b41d": {
     "model_module": "@jupyter-widgets/controls",
     "model_module_version": "1.5.0",
     "model_name": "FloatProgressModel",
     "state": {
      "_dom_classes": [],
      "_model_module": "@jupyter-widgets/controls",
      "_model_module_version": "1.5.0",
      "_model_name": "FloatProgressModel",
      "_view_count": null,
      "_view_module": "@jupyter-widgets/controls",
      "_view_module_version": "1.5.0",
      "_view_name": "ProgressView",
      "bar_style": "success",
      "description": "",
      "description_tooltip": null,
      "layout": "IPY_MODEL_b5cdb74c6d97401bb04b0580e2ccb635",
      "max": 255,
      "min": 0,
      "orientation": "horizontal",
      "style": "IPY_MODEL_681154c821e64caab9947c6e3a222b5e",
      "value": 255
     }
    },
    "a134bdf1b78747ac86a59861a1443192": {
     "model_module": "@jupyter-widgets/base",
     "model_module_version": "1.2.0",
     "model_name": "LayoutModel",
     "state": {
      "_model_module": "@jupyter-widgets/base",
      "_model_module_version": "1.2.0",
      "_model_name": "LayoutModel",
      "_view_count": null,
      "_view_module": "@jupyter-widgets/base",
      "_view_module_version": "1.2.0",
      "_view_name": "LayoutView",
      "align_content": null,
      "align_items": null,
      "align_self": null,
      "border": null,
      "bottom": null,
      "display": null,
      "flex": null,
      "flex_flow": null,
      "grid_area": null,
      "grid_auto_columns": null,
      "grid_auto_flow": null,
      "grid_auto_rows": null,
      "grid_column": null,
      "grid_gap": null,
      "grid_row": null,
      "grid_template_areas": null,
      "grid_template_columns": null,
      "grid_template_rows": null,
      "height": null,
      "justify_content": null,
      "justify_items": null,
      "left": null,
      "margin": null,
      "max_height": null,
      "max_width": null,
      "min_height": null,
      "min_width": null,
      "object_fit": null,
      "object_position": null,
      "order": null,
      "overflow": null,
      "overflow_x": null,
      "overflow_y": null,
      "padding": null,
      "right": null,
      "top": null,
      "visibility": null,
      "width": null
     }
    },
    "a18777a0bfce4ee7b37a2a4850deed24": {
     "model_module": "@jupyter-widgets/controls",
     "model_module_version": "1.5.0",
     "model_name": "HTMLModel",
     "state": {
      "_dom_classes": [],
      "_model_module": "@jupyter-widgets/controls",
      "_model_module_version": "1.5.0",
      "_model_name": "HTMLModel",
      "_view_count": null,
      "_view_module": "@jupyter-widgets/controls",
      "_view_module_version": "1.5.0",
      "_view_name": "HTMLView",
      "description": "",
      "description_tooltip": null,
      "layout": "IPY_MODEL_a134bdf1b78747ac86a59861a1443192",
      "placeholder": "​",
      "style": "IPY_MODEL_62621fd0e77c44bb810569da1c46be8d",
      "value": " 255/255 [00:00&lt;00:00, 6.41kB/s]"
     }
    },
    "b2670f695f9e4953a2692cbe93a727d7": {
     "model_module": "@jupyter-widgets/controls",
     "model_module_version": "1.5.0",
     "model_name": "HBoxModel",
     "state": {
      "_dom_classes": [],
      "_model_module": "@jupyter-widgets/controls",
      "_model_module_version": "1.5.0",
      "_model_name": "HBoxModel",
      "_view_count": null,
      "_view_module": "@jupyter-widgets/controls",
      "_view_module_version": "1.5.0",
      "_view_name": "HBoxView",
      "box_style": "",
      "children": [
       "IPY_MODEL_361b1c35e40a48d7b3c73d709cc3d135",
       "IPY_MODEL_a119e66577824338ab2e73570316b41d",
       "IPY_MODEL_39713f4ce80b4774926cf787dd415c4e"
      ],
      "layout": "IPY_MODEL_01e8dda5af974c9aaf16e894babcb796"
     }
    },
    "b5cdb74c6d97401bb04b0580e2ccb635": {
     "model_module": "@jupyter-widgets/base",
     "model_module_version": "1.2.0",
     "model_name": "LayoutModel",
     "state": {
      "_model_module": "@jupyter-widgets/base",
      "_model_module_version": "1.2.0",
      "_model_name": "LayoutModel",
      "_view_count": null,
      "_view_module": "@jupyter-widgets/base",
      "_view_module_version": "1.2.0",
      "_view_name": "LayoutView",
      "align_content": null,
      "align_items": null,
      "align_self": null,
      "border": null,
      "bottom": null,
      "display": null,
      "flex": null,
      "flex_flow": null,
      "grid_area": null,
      "grid_auto_columns": null,
      "grid_auto_flow": null,
      "grid_auto_rows": null,
      "grid_column": null,
      "grid_gap": null,
      "grid_row": null,
      "grid_template_areas": null,
      "grid_template_columns": null,
      "grid_template_rows": null,
      "height": null,
      "justify_content": null,
      "justify_items": null,
      "left": null,
      "margin": null,
      "max_height": null,
      "max_width": null,
      "min_height": null,
      "min_width": null,
      "object_fit": null,
      "object_position": null,
      "order": null,
      "overflow": null,
      "overflow_x": null,
      "overflow_y": null,
      "padding": null,
      "right": null,
      "top": null,
      "visibility": null,
      "width": null
     }
    },
    "be468fc531ff49759900f35eeec715c1": {
     "model_module": "@jupyter-widgets/controls",
     "model_module_version": "1.5.0",
     "model_name": "DescriptionStyleModel",
     "state": {
      "_model_module": "@jupyter-widgets/controls",
      "_model_module_version": "1.5.0",
      "_model_name": "DescriptionStyleModel",
      "_view_count": null,
      "_view_module": "@jupyter-widgets/base",
      "_view_module_version": "1.2.0",
      "_view_name": "StyleView",
      "description_width": ""
     }
    },
    "be48bbbb83db4bcc831932bf1ed79f06": {
     "model_module": "@jupyter-widgets/controls",
     "model_module_version": "1.5.0",
     "model_name": "DescriptionStyleModel",
     "state": {
      "_model_module": "@jupyter-widgets/controls",
      "_model_module_version": "1.5.0",
      "_model_name": "DescriptionStyleModel",
      "_view_count": null,
      "_view_module": "@jupyter-widgets/base",
      "_view_module_version": "1.2.0",
      "_view_name": "StyleView",
      "description_width": ""
     }
    },
    "bfa4352f581c4477bbc357d60a268903": {
     "model_module": "@jupyter-widgets/base",
     "model_module_version": "1.2.0",
     "model_name": "LayoutModel",
     "state": {
      "_model_module": "@jupyter-widgets/base",
      "_model_module_version": "1.2.0",
      "_model_name": "LayoutModel",
      "_view_count": null,
      "_view_module": "@jupyter-widgets/base",
      "_view_module_version": "1.2.0",
      "_view_name": "LayoutView",
      "align_content": null,
      "align_items": null,
      "align_self": null,
      "border": null,
      "bottom": null,
      "display": null,
      "flex": null,
      "flex_flow": null,
      "grid_area": null,
      "grid_auto_columns": null,
      "grid_auto_flow": null,
      "grid_auto_rows": null,
      "grid_column": null,
      "grid_gap": null,
      "grid_row": null,
      "grid_template_areas": null,
      "grid_template_columns": null,
      "grid_template_rows": null,
      "height": null,
      "justify_content": null,
      "justify_items": null,
      "left": null,
      "margin": null,
      "max_height": null,
      "max_width": null,
      "min_height": null,
      "min_width": null,
      "object_fit": null,
      "object_position": null,
      "order": null,
      "overflow": null,
      "overflow_x": null,
      "overflow_y": null,
      "padding": null,
      "right": null,
      "top": null,
      "visibility": null,
      "width": null
     }
    },
    "c153dabd4bb94c68a4f3f2a16d9161bc": {
     "model_module": "@jupyter-widgets/base",
     "model_module_version": "1.2.0",
     "model_name": "LayoutModel",
     "state": {
      "_model_module": "@jupyter-widgets/base",
      "_model_module_version": "1.2.0",
      "_model_name": "LayoutModel",
      "_view_count": null,
      "_view_module": "@jupyter-widgets/base",
      "_view_module_version": "1.2.0",
      "_view_name": "LayoutView",
      "align_content": null,
      "align_items": null,
      "align_self": null,
      "border": null,
      "bottom": null,
      "display": null,
      "flex": null,
      "flex_flow": null,
      "grid_area": null,
      "grid_auto_columns": null,
      "grid_auto_flow": null,
      "grid_auto_rows": null,
      "grid_column": null,
      "grid_gap": null,
      "grid_row": null,
      "grid_template_areas": null,
      "grid_template_columns": null,
      "grid_template_rows": null,
      "height": null,
      "justify_content": null,
      "justify_items": null,
      "left": null,
      "margin": null,
      "max_height": null,
      "max_width": null,
      "min_height": null,
      "min_width": null,
      "object_fit": null,
      "object_position": null,
      "order": null,
      "overflow": null,
      "overflow_x": null,
      "overflow_y": null,
      "padding": null,
      "right": null,
      "top": null,
      "visibility": null,
      "width": null
     }
    },
    "c71e41f7c2dc4c429b61d63b7e1b6258": {
     "model_module": "@jupyter-widgets/base",
     "model_module_version": "1.2.0",
     "model_name": "LayoutModel",
     "state": {
      "_model_module": "@jupyter-widgets/base",
      "_model_module_version": "1.2.0",
      "_model_name": "LayoutModel",
      "_view_count": null,
      "_view_module": "@jupyter-widgets/base",
      "_view_module_version": "1.2.0",
      "_view_name": "LayoutView",
      "align_content": null,
      "align_items": null,
      "align_self": null,
      "border": null,
      "bottom": null,
      "display": null,
      "flex": null,
      "flex_flow": null,
      "grid_area": null,
      "grid_auto_columns": null,
      "grid_auto_flow": null,
      "grid_auto_rows": null,
      "grid_column": null,
      "grid_gap": null,
      "grid_row": null,
      "grid_template_areas": null,
      "grid_template_columns": null,
      "grid_template_rows": null,
      "height": null,
      "justify_content": null,
      "justify_items": null,
      "left": null,
      "margin": null,
      "max_height": null,
      "max_width": null,
      "min_height": null,
      "min_width": null,
      "object_fit": null,
      "object_position": null,
      "order": null,
      "overflow": null,
      "overflow_x": null,
      "overflow_y": null,
      "padding": null,
      "right": null,
      "top": null,
      "visibility": null,
      "width": null
     }
    },
    "c9e57dd7fd804947b9d31ac06c7421a1": {
     "model_module": "@jupyter-widgets/controls",
     "model_module_version": "1.5.0",
     "model_name": "FloatProgressModel",
     "state": {
      "_dom_classes": [],
      "_model_module": "@jupyter-widgets/controls",
      "_model_module_version": "1.5.0",
      "_model_name": "FloatProgressModel",
      "_view_count": null,
      "_view_module": "@jupyter-widgets/controls",
      "_view_module_version": "1.5.0",
      "_view_name": "ProgressView",
      "bar_style": "success",
      "description": "",
      "description_tooltip": null,
      "layout": "IPY_MODEL_c71e41f7c2dc4c429b61d63b7e1b6258",
      "max": 255,
      "min": 0,
      "orientation": "horizontal",
      "style": "IPY_MODEL_7d9153cfdf0e47d493ce16339cafdb96",
      "value": 255
     }
    },
    "d09ea9a035424ec1b699bc4f40aafa10": {
     "model_module": "@jupyter-widgets/controls",
     "model_module_version": "1.5.0",
     "model_name": "HTMLModel",
     "state": {
      "_dom_classes": [],
      "_model_module": "@jupyter-widgets/controls",
      "_model_module_version": "1.5.0",
      "_model_name": "HTMLModel",
      "_view_count": null,
      "_view_module": "@jupyter-widgets/controls",
      "_view_module_version": "1.5.0",
      "_view_name": "HTMLView",
      "description": "",
      "description_tooltip": null,
      "layout": "IPY_MODEL_9411490f029a4923ba4a797bd276f2f2",
      "placeholder": "​",
      "style": "IPY_MODEL_0f4c1e88af8640f58d7e1cbe4c2ffa50",
      "value": "Downloading preprocessor_config.json: 100%"
     }
    },
    "d31861c62d6d42e89a5e8c6209f6bf7c": {
     "model_module": "@jupyter-widgets/controls",
     "model_module_version": "1.5.0",
     "model_name": "DescriptionStyleModel",
     "state": {
      "_model_module": "@jupyter-widgets/controls",
      "_model_module_version": "1.5.0",
      "_model_name": "DescriptionStyleModel",
      "_view_count": null,
      "_view_module": "@jupyter-widgets/base",
      "_view_module_version": "1.2.0",
      "_view_name": "StyleView",
      "description_width": ""
     }
    },
    "e5058eb6b6654787b1cb7184927ffbc6": {
     "model_module": "@jupyter-widgets/base",
     "model_module_version": "1.2.0",
     "model_name": "LayoutModel",
     "state": {
      "_model_module": "@jupyter-widgets/base",
      "_model_module_version": "1.2.0",
      "_model_name": "LayoutModel",
      "_view_count": null,
      "_view_module": "@jupyter-widgets/base",
      "_view_module_version": "1.2.0",
      "_view_name": "LayoutView",
      "align_content": null,
      "align_items": null,
      "align_self": null,
      "border": null,
      "bottom": null,
      "display": null,
      "flex": null,
      "flex_flow": null,
      "grid_area": null,
      "grid_auto_columns": null,
      "grid_auto_flow": null,
      "grid_auto_rows": null,
      "grid_column": null,
      "grid_gap": null,
      "grid_row": null,
      "grid_template_areas": null,
      "grid_template_columns": null,
      "grid_template_rows": null,
      "height": null,
      "justify_content": null,
      "justify_items": null,
      "left": null,
      "margin": null,
      "max_height": null,
      "max_width": null,
      "min_height": null,
      "min_width": null,
      "object_fit": null,
      "object_position": null,
      "order": null,
      "overflow": null,
      "overflow_x": null,
      "overflow_y": null,
      "padding": null,
      "right": null,
      "top": null,
      "visibility": null,
      "width": null
     }
    },
    "f10f6e54bd934a8cb7bf2aa2a9408769": {
     "model_module": "@jupyter-widgets/controls",
     "model_module_version": "1.5.0",
     "model_name": "DescriptionStyleModel",
     "state": {
      "_model_module": "@jupyter-widgets/controls",
      "_model_module_version": "1.5.0",
      "_model_name": "DescriptionStyleModel",
      "_view_count": null,
      "_view_module": "@jupyter-widgets/base",
      "_view_module_version": "1.2.0",
      "_view_name": "StyleView",
      "description_width": ""
     }
    },
    "f3076aab725e43968c5621b718785586": {
     "model_module": "@jupyter-widgets/controls",
     "model_module_version": "1.5.0",
     "model_name": "HTMLModel",
     "state": {
      "_dom_classes": [],
      "_model_module": "@jupyter-widgets/controls",
      "_model_module_version": "1.5.0",
      "_model_name": "HTMLModel",
      "_view_count": null,
      "_view_module": "@jupyter-widgets/controls",
      "_view_module_version": "1.5.0",
      "_view_name": "HTMLView",
      "description": "",
      "description_tooltip": null,
      "layout": "IPY_MODEL_1f9790ceed4c494c86d60541c335edf4",
      "placeholder": "​",
      "style": "IPY_MODEL_d31861c62d6d42e89a5e8c6209f6bf7c",
      "value": "Downloading pytorch_model.bin: 100%"
     }
    },
    "f3bc987061e24a20bed811c6714d02d8": {
     "model_module": "@jupyter-widgets/controls",
     "model_module_version": "1.5.0",
     "model_name": "HBoxModel",
     "state": {
      "_dom_classes": [],
      "_model_module": "@jupyter-widgets/controls",
      "_model_module_version": "1.5.0",
      "_model_name": "HBoxModel",
      "_view_count": null,
      "_view_module": "@jupyter-widgets/controls",
      "_view_module_version": "1.5.0",
      "_view_name": "HBoxView",
      "box_style": "",
      "children": [
       "IPY_MODEL_f3076aab725e43968c5621b718785586",
       "IPY_MODEL_2f8978d9746248a996cb9737a1143cf7",
       "IPY_MODEL_215f7e12d3f6497394bba47e49cec6d4"
      ],
      "layout": "IPY_MODEL_68cbee6c1a9948578e6774776038e33d"
     }
    }
   }
  }
 },
 "nbformat": 4,
 "nbformat_minor": 4
}
